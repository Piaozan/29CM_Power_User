{
  "cells": [
    {
      "cell_type": "markdown",
      "metadata": {
        "id": "view-in-github",
        "colab_type": "text"
      },
      "source": [
        "<a href=\"https://colab.research.google.com/github/Piaozan/29CM_Power_User/blob/main/29CM_power_user.ipynb\" target=\"_parent\"><img src=\"https://colab.research.google.com/assets/colab-badge.svg\" alt=\"Open In Colab\"/></a>"
      ]
    },
    {
      "cell_type": "markdown",
      "metadata": {
        "id": "trn-MUoCpJZQ"
      },
      "source": [
        "# 사전 준비 사항"
      ]
    },
    {
      "cell_type": "markdown",
      "metadata": {
        "id": "Pdg1hNKXpMi0"
      },
      "source": [
        "## 필요 패키지 불러오기"
      ]
    },
    {
      "cell_type": "code",
      "execution_count": null,
      "metadata": {
        "id": "93ZwriW4jFFv"
      },
      "outputs": [],
      "source": [
        "# 필요패키지 import\n",
        "import numpy as np\n",
        "import pandas as pd\n",
        "import matplotlib.pyplot as plt\n",
        "import seaborn as sns\n",
        "import time\n",
        "import datetime\n",
        "\n",
        "# #코랩 한글깨짐 방지 설치\n",
        "# !sudo apt-get install -y fonts-nanum\n",
        "# !sudo fc-cache -fv\n",
        "# !rm ~/.cache/matplotlib -rf\n",
        "\n",
        "plt.rc('font', family='NanumBarunGothic')\n",
        "pd.set_option('display.max_columns', None)\n",
        "\n",
        "# 경고 문구\n",
        "import warnings\n",
        "warnings.filterwarnings(action='ignore')\n",
        "\n",
        "# 시각화 디자인\n",
        "sns.set_palette(\"RdBu\")\n",
        "\n",
        "# 컬럼 전체 보기\n",
        "pd.set_option('display.max_columns', None)\n",
        "# pd.set_option('display.max_rows', None)"
      ]
    },
    {
      "cell_type": "markdown",
      "metadata": {
        "id": "RqgQk5zQotRK"
      },
      "source": [
        "## 파일 불러오기"
      ]
    },
    {
      "cell_type": "code",
      "execution_count": null,
      "metadata": {
        "colab": {
          "base_uri": "https://localhost:8080/"
        },
        "id": "J_5oizehotVh",
        "outputId": "3d48e29e-148c-419c-a4ff-6dba8b5c760a"
      },
      "outputs": [
        {
          "output_type": "stream",
          "name": "stdout",
          "text": [
            "Mounted at /content/gdrive\n"
          ]
        }
      ],
      "source": [
        "from google.colab import files\n",
        "from google.colab import drive\n",
        "drive.mount(\"/content/gdrive\")"
      ]
    },
    {
      "cell_type": "code",
      "execution_count": null,
      "metadata": {
        "id": "00IH9azRotZE"
      },
      "outputs": [],
      "source": [
        "# # 3개 데이터 합치기\n",
        "\n",
        "# event = pd.read_csv('/content/gdrive/MyDrive/final/data/commerce/sampled_events.csv')\n",
        "# product = pd.read_csv('/content/gdrive/MyDrive/final/data/commerce/sampled_products.csv')\n",
        "# user = pd.read_csv('/content/gdrive/MyDrive/final/data/commerce/sampled_users.csv')\n",
        "\n",
        "# event_product = event.merge(product, on='item_no', how='left')\n",
        "# commerce = event_product.merge(user, on='user_no', how='left')\n",
        "\n",
        "# # 합친 데이터 추출, 이후 commerce 테이블 활용\n",
        "# commerce.to_csv('/content/gdrive/MyDrive/final/data/commerce/commerce.csv', index=False)"
      ]
    },
    {
      "cell_type": "code",
      "execution_count": null,
      "metadata": {
        "id": "DMHnrVMfotcr"
      },
      "outputs": [],
      "source": [
        "# 총 데이터 활용\n",
        "commerce = pd.read_csv('/content/gdrive/MyDrive/final/data/commerce/commerce.csv')"
      ]
    },
    {
      "cell_type": "markdown",
      "metadata": {
        "id": "AX4tBPS8otkA"
      },
      "source": [
        "# 1. 전체 개요"
      ]
    },
    {
      "cell_type": "markdown",
      "metadata": {
        "id": "H79oLk0B57ZK"
      },
      "source": [
        "## (1) 컬럼 소개"
      ]
    },
    {
      "cell_type": "markdown",
      "metadata": {
        "id": "lasZD-tM68Un"
      },
      "source": [
        "- 데이터 셋 정보: 29CM 앱 이용 데이터\n",
        "- 기간: 21.06.03 ~ 21.08.04(9주)\n",
        "- 액티브 유저 데이터 (나이, 성별)\n",
        "- 구매이력이 있는 상품 정보 (상품명, 이미지, 가격, 카테고리, 브랜드 등)\n",
        "- 유저 앱 활동 로그 (이벤트 타임, 클릭/구매/장바구니/좋아요, 플랫폼 등)"
      ]
    },
    {
      "cell_type": "code",
      "execution_count": null,
      "metadata": {
        "id": "-y7x5dGq-p9h"
      },
      "outputs": [],
      "source": [
        "# total로 대체 (원본은 남기기)\n",
        "total = commerce.copy()"
      ]
    },
    {
      "cell_type": "markdown",
      "metadata": {
        "id": "WgvhrYTK7Z-R"
      },
      "source": [
        "## (2) 개요"
      ]
    },
    {
      "cell_type": "markdown",
      "metadata": {
        "id": "hE8bxJ4z7g5E"
      },
      "source": [
        "- **주제:** 29CM 고객 구매 데이터 EDA를 통한 파워유저와 논파워유저 간의 행태 차이 분석\n",
        "- **기획 의도:** CRM 마케팅 부서에게 고객 별 마케팅 전략에 인사이트를 제공\n",
        "- **얻고자 하는 인사이트:**\n",
        "    - 파워유저와 논파워유저의 특징\n",
        "    - 파워유저와 논파워유저의 행태 차이\n",
        "    - 상기 내용 바탕으로 마케팅팀에서 사용할 수 있는 유의미한 고객간 차이점 제시"
      ]
    },
    {
      "cell_type": "markdown",
      "metadata": {
        "id": "_7paE3By7g8Y"
      },
      "source": [
        "# 2. EDA"
      ]
    },
    {
      "cell_type": "markdown",
      "metadata": {
        "id": "SXAS1eiZB6OY"
      },
      "source": [
        "## (1) 기본 데이터 알아보기"
      ]
    },
    {
      "cell_type": "code",
      "execution_count": null,
      "metadata": {
        "colab": {
          "base_uri": "https://localhost:8080/"
        },
        "id": "S4TO_wRL7g_u",
        "outputId": "a8b5ef68-175a-4120-f47a-44745461caa3"
      },
      "outputs": [
        {
          "output_type": "execute_result",
          "data": {
            "text/plain": [
              "                         session_id             event_timestamp   event_name  \\\n",
              "0  c47e93742387750baba2e238558fa12d     2021-06-03 13:00:01.845   click_item   \n",
              "1  f482aba7e1b76564c5404d96650f0dbd  2021-06-03 13:00:01.920001  add_to_cart   \n",
              "\n",
              "                    user_no                   item_no device_type  \\\n",
              "0  +9eODQMZ8YgXQZJJAo56nw==  4KwsZkXDulM0oQ2sTVSlYQ==      mobile   \n",
              "1  qik2Oa/1SQAjHeR64GLY0g==  +3vED/NUxtVk4Dvc0QUahA==      mobile   \n",
              "\n",
              "  mobile_brand_name mobile_model_name mobile_marketing_name  \\\n",
              "0           Samsung          SM-N960N          Galaxy Note9   \n",
              "1           Samsung          SM-G977N         Galaxy S10 5G   \n",
              "\n",
              "  operating_system_version      country       region platform  \\\n",
              "0               Android 10  South Korea  Gyeonggi-do  ANDROID   \n",
              "1               Android 11  South Korea        Seoul  ANDROID   \n",
              "\n",
              "                                     item_name  \\\n",
              "0                              남성) 코튼 리넨 이지 쇼츠   \n",
              "1  Puppy's delight short sleeve T-shirts white   \n",
              "\n",
              "                         image_name    price  category1_code category1_name  \\\n",
              "0  ecb06f34b6d8c4c521221aebbcc0e934  29900.0       243100100             의류   \n",
              "1  9911a0e7dc8296f2fdccebb3bbbfa615  38000.0       243100100             의류   \n",
              "\n",
              "   category2_code category2_name  category3_code category3_name  brand_no  \\\n",
              "0       243104100             하의       243104101             바지   13901.0   \n",
              "1       243102100             상의       243102103            티셔츠    7604.0   \n",
              "\n",
              "   brand_name  birth_date gender  \n",
              "0      TOPTEN  1969-04-05      F  \n",
              "1  Wave union  1989-02-22      F  "
            ],
            "text/html": [
              "\n",
              "  <div id=\"df-2289c86c-caaf-4ae7-b8f6-f6355fa1c171\">\n",
              "    <div class=\"colab-df-container\">\n",
              "      <div>\n",
              "<style scoped>\n",
              "    .dataframe tbody tr th:only-of-type {\n",
              "        vertical-align: middle;\n",
              "    }\n",
              "\n",
              "    .dataframe tbody tr th {\n",
              "        vertical-align: top;\n",
              "    }\n",
              "\n",
              "    .dataframe thead th {\n",
              "        text-align: right;\n",
              "    }\n",
              "</style>\n",
              "<table border=\"1\" class=\"dataframe\">\n",
              "  <thead>\n",
              "    <tr style=\"text-align: right;\">\n",
              "      <th></th>\n",
              "      <th>session_id</th>\n",
              "      <th>event_timestamp</th>\n",
              "      <th>event_name</th>\n",
              "      <th>user_no</th>\n",
              "      <th>item_no</th>\n",
              "      <th>device_type</th>\n",
              "      <th>mobile_brand_name</th>\n",
              "      <th>mobile_model_name</th>\n",
              "      <th>mobile_marketing_name</th>\n",
              "      <th>operating_system_version</th>\n",
              "      <th>country</th>\n",
              "      <th>region</th>\n",
              "      <th>platform</th>\n",
              "      <th>item_name</th>\n",
              "      <th>image_name</th>\n",
              "      <th>price</th>\n",
              "      <th>category1_code</th>\n",
              "      <th>category1_name</th>\n",
              "      <th>category2_code</th>\n",
              "      <th>category2_name</th>\n",
              "      <th>category3_code</th>\n",
              "      <th>category3_name</th>\n",
              "      <th>brand_no</th>\n",
              "      <th>brand_name</th>\n",
              "      <th>birth_date</th>\n",
              "      <th>gender</th>\n",
              "    </tr>\n",
              "  </thead>\n",
              "  <tbody>\n",
              "    <tr>\n",
              "      <th>0</th>\n",
              "      <td>c47e93742387750baba2e238558fa12d</td>\n",
              "      <td>2021-06-03 13:00:01.845</td>\n",
              "      <td>click_item</td>\n",
              "      <td>+9eODQMZ8YgXQZJJAo56nw==</td>\n",
              "      <td>4KwsZkXDulM0oQ2sTVSlYQ==</td>\n",
              "      <td>mobile</td>\n",
              "      <td>Samsung</td>\n",
              "      <td>SM-N960N</td>\n",
              "      <td>Galaxy Note9</td>\n",
              "      <td>Android 10</td>\n",
              "      <td>South Korea</td>\n",
              "      <td>Gyeonggi-do</td>\n",
              "      <td>ANDROID</td>\n",
              "      <td>남성) 코튼 리넨 이지 쇼츠</td>\n",
              "      <td>ecb06f34b6d8c4c521221aebbcc0e934</td>\n",
              "      <td>29900.0</td>\n",
              "      <td>243100100</td>\n",
              "      <td>의류</td>\n",
              "      <td>243104100</td>\n",
              "      <td>하의</td>\n",
              "      <td>243104101</td>\n",
              "      <td>바지</td>\n",
              "      <td>13901.0</td>\n",
              "      <td>TOPTEN</td>\n",
              "      <td>1969-04-05</td>\n",
              "      <td>F</td>\n",
              "    </tr>\n",
              "    <tr>\n",
              "      <th>1</th>\n",
              "      <td>f482aba7e1b76564c5404d96650f0dbd</td>\n",
              "      <td>2021-06-03 13:00:01.920001</td>\n",
              "      <td>add_to_cart</td>\n",
              "      <td>qik2Oa/1SQAjHeR64GLY0g==</td>\n",
              "      <td>+3vED/NUxtVk4Dvc0QUahA==</td>\n",
              "      <td>mobile</td>\n",
              "      <td>Samsung</td>\n",
              "      <td>SM-G977N</td>\n",
              "      <td>Galaxy S10 5G</td>\n",
              "      <td>Android 11</td>\n",
              "      <td>South Korea</td>\n",
              "      <td>Seoul</td>\n",
              "      <td>ANDROID</td>\n",
              "      <td>Puppy's delight short sleeve T-shirts white</td>\n",
              "      <td>9911a0e7dc8296f2fdccebb3bbbfa615</td>\n",
              "      <td>38000.0</td>\n",
              "      <td>243100100</td>\n",
              "      <td>의류</td>\n",
              "      <td>243102100</td>\n",
              "      <td>상의</td>\n",
              "      <td>243102103</td>\n",
              "      <td>티셔츠</td>\n",
              "      <td>7604.0</td>\n",
              "      <td>Wave union</td>\n",
              "      <td>1989-02-22</td>\n",
              "      <td>F</td>\n",
              "    </tr>\n",
              "  </tbody>\n",
              "</table>\n",
              "</div>\n",
              "      <button class=\"colab-df-convert\" onclick=\"convertToInteractive('df-2289c86c-caaf-4ae7-b8f6-f6355fa1c171')\"\n",
              "              title=\"Convert this dataframe to an interactive table.\"\n",
              "              style=\"display:none;\">\n",
              "        \n",
              "  <svg xmlns=\"http://www.w3.org/2000/svg\" height=\"24px\"viewBox=\"0 0 24 24\"\n",
              "       width=\"24px\">\n",
              "    <path d=\"M0 0h24v24H0V0z\" fill=\"none\"/>\n",
              "    <path d=\"M18.56 5.44l.94 2.06.94-2.06 2.06-.94-2.06-.94-.94-2.06-.94 2.06-2.06.94zm-11 1L8.5 8.5l.94-2.06 2.06-.94-2.06-.94L8.5 2.5l-.94 2.06-2.06.94zm10 10l.94 2.06.94-2.06 2.06-.94-2.06-.94-.94-2.06-.94 2.06-2.06.94z\"/><path d=\"M17.41 7.96l-1.37-1.37c-.4-.4-.92-.59-1.43-.59-.52 0-1.04.2-1.43.59L10.3 9.45l-7.72 7.72c-.78.78-.78 2.05 0 2.83L4 21.41c.39.39.9.59 1.41.59.51 0 1.02-.2 1.41-.59l7.78-7.78 2.81-2.81c.8-.78.8-2.07 0-2.86zM5.41 20L4 18.59l7.72-7.72 1.47 1.35L5.41 20z\"/>\n",
              "  </svg>\n",
              "      </button>\n",
              "      \n",
              "  <style>\n",
              "    .colab-df-container {\n",
              "      display:flex;\n",
              "      flex-wrap:wrap;\n",
              "      gap: 12px;\n",
              "    }\n",
              "\n",
              "    .colab-df-convert {\n",
              "      background-color: #E8F0FE;\n",
              "      border: none;\n",
              "      border-radius: 50%;\n",
              "      cursor: pointer;\n",
              "      display: none;\n",
              "      fill: #1967D2;\n",
              "      height: 32px;\n",
              "      padding: 0 0 0 0;\n",
              "      width: 32px;\n",
              "    }\n",
              "\n",
              "    .colab-df-convert:hover {\n",
              "      background-color: #E2EBFA;\n",
              "      box-shadow: 0px 1px 2px rgba(60, 64, 67, 0.3), 0px 1px 3px 1px rgba(60, 64, 67, 0.15);\n",
              "      fill: #174EA6;\n",
              "    }\n",
              "\n",
              "    [theme=dark] .colab-df-convert {\n",
              "      background-color: #3B4455;\n",
              "      fill: #D2E3FC;\n",
              "    }\n",
              "\n",
              "    [theme=dark] .colab-df-convert:hover {\n",
              "      background-color: #434B5C;\n",
              "      box-shadow: 0px 1px 3px 1px rgba(0, 0, 0, 0.15);\n",
              "      filter: drop-shadow(0px 1px 2px rgba(0, 0, 0, 0.3));\n",
              "      fill: #FFFFFF;\n",
              "    }\n",
              "  </style>\n",
              "\n",
              "      <script>\n",
              "        const buttonEl =\n",
              "          document.querySelector('#df-2289c86c-caaf-4ae7-b8f6-f6355fa1c171 button.colab-df-convert');\n",
              "        buttonEl.style.display =\n",
              "          google.colab.kernel.accessAllowed ? 'block' : 'none';\n",
              "\n",
              "        async function convertToInteractive(key) {\n",
              "          const element = document.querySelector('#df-2289c86c-caaf-4ae7-b8f6-f6355fa1c171');\n",
              "          const dataTable =\n",
              "            await google.colab.kernel.invokeFunction('convertToInteractive',\n",
              "                                                     [key], {});\n",
              "          if (!dataTable) return;\n",
              "\n",
              "          const docLinkHtml = 'Like what you see? Visit the ' +\n",
              "            '<a target=\"_blank\" href=https://colab.research.google.com/notebooks/data_table.ipynb>data table notebook</a>'\n",
              "            + ' to learn more about interactive tables.';\n",
              "          element.innerHTML = '';\n",
              "          dataTable['output_type'] = 'display_data';\n",
              "          await google.colab.output.renderOutput(dataTable, element);\n",
              "          const docLink = document.createElement('div');\n",
              "          docLink.innerHTML = docLinkHtml;\n",
              "          element.appendChild(docLink);\n",
              "        }\n",
              "      </script>\n",
              "    </div>\n",
              "  </div>\n",
              "  "
            ]
          },
          "metadata": {},
          "execution_count": 6
        }
      ],
      "source": [
        "total.head(2)"
      ]
    },
    {
      "cell_type": "code",
      "execution_count": null,
      "metadata": {
        "colab": {
          "base_uri": "https://localhost:8080/"
        },
        "id": "RGMiOEyM7hDC",
        "outputId": "192f6f65-fef3-489d-c508-cf50373683c8"
      },
      "outputs": [
        {
          "output_type": "execute_result",
          "data": {
            "text/plain": [
              "session_id                        0\n",
              "event_timestamp                   0\n",
              "event_name                        0\n",
              "user_no                           0\n",
              "item_no                           0\n",
              "device_type                       0\n",
              "mobile_brand_name              3594\n",
              "mobile_model_name              3594\n",
              "mobile_marketing_name       4250941\n",
              "operating_system_version          0\n",
              "country                          12\n",
              "region                         2195\n",
              "platform                          0\n",
              "item_name                         0\n",
              "image_name                        0\n",
              "price                             0\n",
              "category1_code                    0\n",
              "category1_name                    0\n",
              "category2_code                    0\n",
              "category2_name                    0\n",
              "category3_code                    0\n",
              "category3_name                    0\n",
              "brand_no                        171\n",
              "brand_name                      209\n",
              "birth_date                   296901\n",
              "gender                       664253\n",
              "dtype: int64"
            ]
          },
          "metadata": {},
          "execution_count": 7
        }
      ],
      "source": [
        "# null 값 확인\n",
        "total.isnull().sum()"
      ]
    },
    {
      "cell_type": "markdown",
      "metadata": {
        "id": "lhasPwVT7hGC"
      },
      "source": [
        "- mobile_brand_name, mobile_model_name 같은 null 값 존재\n",
        "- mobile_marketing_name 애플 보안성 문제로 인한 null 값 존재\n",
        "- birth_date, gender 많은 양의 null 값 존재\n",
        "- 모든 데이터 들은 추후에 처리 할 예정"
      ]
    },
    {
      "cell_type": "code",
      "execution_count": null,
      "metadata": {
        "colab": {
          "base_uri": "https://localhost:8080/"
        },
        "id": "SpTiwmyG57f2",
        "outputId": "69d59a2b-b618-4167-c8f0-10ef3afc3b71"
      },
      "outputs": [
        {
          "output_type": "stream",
          "name": "stdout",
          "text": [
            "<class 'pandas.core.frame.DataFrame'>\n",
            "RangeIndex: 5880407 entries, 0 to 5880406\n",
            "Data columns (total 26 columns):\n",
            " #   Column                    Dtype  \n",
            "---  ------                    -----  \n",
            " 0   session_id                object \n",
            " 1   event_timestamp           object \n",
            " 2   event_name                object \n",
            " 3   user_no                   object \n",
            " 4   item_no                   object \n",
            " 5   device_type               object \n",
            " 6   mobile_brand_name         object \n",
            " 7   mobile_model_name         object \n",
            " 8   mobile_marketing_name     object \n",
            " 9   operating_system_version  object \n",
            " 10  country                   object \n",
            " 11  region                    object \n",
            " 12  platform                  object \n",
            " 13  item_name                 object \n",
            " 14  image_name                object \n",
            " 15  price                     float64\n",
            " 16  category1_code            int64  \n",
            " 17  category1_name            object \n",
            " 18  category2_code            int64  \n",
            " 19  category2_name            object \n",
            " 20  category3_code            int64  \n",
            " 21  category3_name            object \n",
            " 22  brand_no                  float64\n",
            " 23  brand_name                object \n",
            " 24  birth_date                object \n",
            " 25  gender                    object \n",
            "dtypes: float64(2), int64(3), object(21)\n",
            "memory usage: 1.1+ GB\n"
          ]
        }
      ],
      "source": [
        "# info 확인\n",
        "total.info()"
      ]
    },
    {
      "cell_type": "markdown",
      "metadata": {
        "id": "-ZB177G_BaEW"
      },
      "source": [
        "- event_timestamp, birth_date 시간대이므로, datetime 형식으로 전환 필요"
      ]
    },
    {
      "cell_type": "code",
      "execution_count": null,
      "metadata": {
        "colab": {
          "base_uri": "https://localhost:8080/"
        },
        "id": "s9clNzQQ57iw",
        "outputId": "febb8e11-c280-4ef1-bfc6-ccaf9ae638eb"
      },
      "outputs": [
        {
          "output_type": "execute_result",
          "data": {
            "text/plain": [
              "              price  category1_code  category2_code  category3_code  \\\n",
              "count  5.880407e+06    5.880407e+06    5.880407e+06    5.880407e+06   \n",
              "mean   9.465186e+04    2.442333e+08    2.442026e+08    2.442026e+08   \n",
              "std    1.169249e+05    2.390334e+06    2.278878e+06    2.278884e+06   \n",
              "min    0.000000e+00    2.341001e+08    2.341051e+08    2.341051e+08   \n",
              "25%    3.970000e+04    2.431001e+08    2.431021e+08    2.431021e+08   \n",
              "50%    6.900000e+04    2.431001e+08    2.431041e+08    2.431041e+08   \n",
              "75%    1.190000e+05    2.441001e+08    2.441021e+08    2.441021e+08   \n",
              "max    1.429800e+07    2.671001e+08    2.591031e+08    2.591031e+08   \n",
              "\n",
              "           brand_no  \n",
              "count  5.880236e+06  \n",
              "mean   7.254326e+03  \n",
              "std    4.307777e+03  \n",
              "min    4.410000e+02  \n",
              "25%    3.268000e+03  \n",
              "50%    6.513000e+03  \n",
              "75%    1.135900e+04  \n",
              "max    1.573700e+04  "
            ],
            "text/html": [
              "\n",
              "  <div id=\"df-1a4d853b-e2aa-42ea-b987-e0861cf2c25c\">\n",
              "    <div class=\"colab-df-container\">\n",
              "      <div>\n",
              "<style scoped>\n",
              "    .dataframe tbody tr th:only-of-type {\n",
              "        vertical-align: middle;\n",
              "    }\n",
              "\n",
              "    .dataframe tbody tr th {\n",
              "        vertical-align: top;\n",
              "    }\n",
              "\n",
              "    .dataframe thead th {\n",
              "        text-align: right;\n",
              "    }\n",
              "</style>\n",
              "<table border=\"1\" class=\"dataframe\">\n",
              "  <thead>\n",
              "    <tr style=\"text-align: right;\">\n",
              "      <th></th>\n",
              "      <th>price</th>\n",
              "      <th>category1_code</th>\n",
              "      <th>category2_code</th>\n",
              "      <th>category3_code</th>\n",
              "      <th>brand_no</th>\n",
              "    </tr>\n",
              "  </thead>\n",
              "  <tbody>\n",
              "    <tr>\n",
              "      <th>count</th>\n",
              "      <td>5.880407e+06</td>\n",
              "      <td>5.880407e+06</td>\n",
              "      <td>5.880407e+06</td>\n",
              "      <td>5.880407e+06</td>\n",
              "      <td>5.880236e+06</td>\n",
              "    </tr>\n",
              "    <tr>\n",
              "      <th>mean</th>\n",
              "      <td>9.465186e+04</td>\n",
              "      <td>2.442333e+08</td>\n",
              "      <td>2.442026e+08</td>\n",
              "      <td>2.442026e+08</td>\n",
              "      <td>7.254326e+03</td>\n",
              "    </tr>\n",
              "    <tr>\n",
              "      <th>std</th>\n",
              "      <td>1.169249e+05</td>\n",
              "      <td>2.390334e+06</td>\n",
              "      <td>2.278878e+06</td>\n",
              "      <td>2.278884e+06</td>\n",
              "      <td>4.307777e+03</td>\n",
              "    </tr>\n",
              "    <tr>\n",
              "      <th>min</th>\n",
              "      <td>0.000000e+00</td>\n",
              "      <td>2.341001e+08</td>\n",
              "      <td>2.341051e+08</td>\n",
              "      <td>2.341051e+08</td>\n",
              "      <td>4.410000e+02</td>\n",
              "    </tr>\n",
              "    <tr>\n",
              "      <th>25%</th>\n",
              "      <td>3.970000e+04</td>\n",
              "      <td>2.431001e+08</td>\n",
              "      <td>2.431021e+08</td>\n",
              "      <td>2.431021e+08</td>\n",
              "      <td>3.268000e+03</td>\n",
              "    </tr>\n",
              "    <tr>\n",
              "      <th>50%</th>\n",
              "      <td>6.900000e+04</td>\n",
              "      <td>2.431001e+08</td>\n",
              "      <td>2.431041e+08</td>\n",
              "      <td>2.431041e+08</td>\n",
              "      <td>6.513000e+03</td>\n",
              "    </tr>\n",
              "    <tr>\n",
              "      <th>75%</th>\n",
              "      <td>1.190000e+05</td>\n",
              "      <td>2.441001e+08</td>\n",
              "      <td>2.441021e+08</td>\n",
              "      <td>2.441021e+08</td>\n",
              "      <td>1.135900e+04</td>\n",
              "    </tr>\n",
              "    <tr>\n",
              "      <th>max</th>\n",
              "      <td>1.429800e+07</td>\n",
              "      <td>2.671001e+08</td>\n",
              "      <td>2.591031e+08</td>\n",
              "      <td>2.591031e+08</td>\n",
              "      <td>1.573700e+04</td>\n",
              "    </tr>\n",
              "  </tbody>\n",
              "</table>\n",
              "</div>\n",
              "      <button class=\"colab-df-convert\" onclick=\"convertToInteractive('df-1a4d853b-e2aa-42ea-b987-e0861cf2c25c')\"\n",
              "              title=\"Convert this dataframe to an interactive table.\"\n",
              "              style=\"display:none;\">\n",
              "        \n",
              "  <svg xmlns=\"http://www.w3.org/2000/svg\" height=\"24px\"viewBox=\"0 0 24 24\"\n",
              "       width=\"24px\">\n",
              "    <path d=\"M0 0h24v24H0V0z\" fill=\"none\"/>\n",
              "    <path d=\"M18.56 5.44l.94 2.06.94-2.06 2.06-.94-2.06-.94-.94-2.06-.94 2.06-2.06.94zm-11 1L8.5 8.5l.94-2.06 2.06-.94-2.06-.94L8.5 2.5l-.94 2.06-2.06.94zm10 10l.94 2.06.94-2.06 2.06-.94-2.06-.94-.94-2.06-.94 2.06-2.06.94z\"/><path d=\"M17.41 7.96l-1.37-1.37c-.4-.4-.92-.59-1.43-.59-.52 0-1.04.2-1.43.59L10.3 9.45l-7.72 7.72c-.78.78-.78 2.05 0 2.83L4 21.41c.39.39.9.59 1.41.59.51 0 1.02-.2 1.41-.59l7.78-7.78 2.81-2.81c.8-.78.8-2.07 0-2.86zM5.41 20L4 18.59l7.72-7.72 1.47 1.35L5.41 20z\"/>\n",
              "  </svg>\n",
              "      </button>\n",
              "      \n",
              "  <style>\n",
              "    .colab-df-container {\n",
              "      display:flex;\n",
              "      flex-wrap:wrap;\n",
              "      gap: 12px;\n",
              "    }\n",
              "\n",
              "    .colab-df-convert {\n",
              "      background-color: #E8F0FE;\n",
              "      border: none;\n",
              "      border-radius: 50%;\n",
              "      cursor: pointer;\n",
              "      display: none;\n",
              "      fill: #1967D2;\n",
              "      height: 32px;\n",
              "      padding: 0 0 0 0;\n",
              "      width: 32px;\n",
              "    }\n",
              "\n",
              "    .colab-df-convert:hover {\n",
              "      background-color: #E2EBFA;\n",
              "      box-shadow: 0px 1px 2px rgba(60, 64, 67, 0.3), 0px 1px 3px 1px rgba(60, 64, 67, 0.15);\n",
              "      fill: #174EA6;\n",
              "    }\n",
              "\n",
              "    [theme=dark] .colab-df-convert {\n",
              "      background-color: #3B4455;\n",
              "      fill: #D2E3FC;\n",
              "    }\n",
              "\n",
              "    [theme=dark] .colab-df-convert:hover {\n",
              "      background-color: #434B5C;\n",
              "      box-shadow: 0px 1px 3px 1px rgba(0, 0, 0, 0.15);\n",
              "      filter: drop-shadow(0px 1px 2px rgba(0, 0, 0, 0.3));\n",
              "      fill: #FFFFFF;\n",
              "    }\n",
              "  </style>\n",
              "\n",
              "      <script>\n",
              "        const buttonEl =\n",
              "          document.querySelector('#df-1a4d853b-e2aa-42ea-b987-e0861cf2c25c button.colab-df-convert');\n",
              "        buttonEl.style.display =\n",
              "          google.colab.kernel.accessAllowed ? 'block' : 'none';\n",
              "\n",
              "        async function convertToInteractive(key) {\n",
              "          const element = document.querySelector('#df-1a4d853b-e2aa-42ea-b987-e0861cf2c25c');\n",
              "          const dataTable =\n",
              "            await google.colab.kernel.invokeFunction('convertToInteractive',\n",
              "                                                     [key], {});\n",
              "          if (!dataTable) return;\n",
              "\n",
              "          const docLinkHtml = 'Like what you see? Visit the ' +\n",
              "            '<a target=\"_blank\" href=https://colab.research.google.com/notebooks/data_table.ipynb>data table notebook</a>'\n",
              "            + ' to learn more about interactive tables.';\n",
              "          element.innerHTML = '';\n",
              "          dataTable['output_type'] = 'display_data';\n",
              "          await google.colab.output.renderOutput(dataTable, element);\n",
              "          const docLink = document.createElement('div');\n",
              "          docLink.innerHTML = docLinkHtml;\n",
              "          element.appendChild(docLink);\n",
              "        }\n",
              "      </script>\n",
              "    </div>\n",
              "  </div>\n",
              "  "
            ]
          },
          "metadata": {},
          "execution_count": 9
        }
      ],
      "source": [
        "# 기본 통계량 확인\n",
        "total.describe()"
      ]
    },
    {
      "cell_type": "code",
      "execution_count": null,
      "metadata": {
        "colab": {
          "base_uri": "https://localhost:8080/"
        },
        "id": "EX8PCFIr6RiC",
        "outputId": "242ee2f6-ce23-418e-83d8-3c044c5d2a3a"
      },
      "outputs": [
        {
          "output_type": "execute_result",
          "data": {
            "text/plain": [
              "                         session_id             event_timestamp   event_name  \\\n",
              "0  c47e93742387750baba2e238558fa12d     2021-06-03 13:00:01.845   click_item   \n",
              "1  f482aba7e1b76564c5404d96650f0dbd  2021-06-03 13:00:01.920001  add_to_cart   \n",
              "\n",
              "                    user_no                   item_no device_type  \\\n",
              "0  +9eODQMZ8YgXQZJJAo56nw==  4KwsZkXDulM0oQ2sTVSlYQ==      mobile   \n",
              "1  qik2Oa/1SQAjHeR64GLY0g==  +3vED/NUxtVk4Dvc0QUahA==      mobile   \n",
              "\n",
              "  mobile_brand_name mobile_model_name mobile_marketing_name  \\\n",
              "0           Samsung          SM-N960N          Galaxy Note9   \n",
              "1           Samsung          SM-G977N         Galaxy S10 5G   \n",
              "\n",
              "  operating_system_version      country       region platform  \\\n",
              "0               Android 10  South Korea  Gyeonggi-do  ANDROID   \n",
              "1               Android 11  South Korea        Seoul  ANDROID   \n",
              "\n",
              "                                     item_name  \\\n",
              "0                              남성) 코튼 리넨 이지 쇼츠   \n",
              "1  Puppy's delight short sleeve T-shirts white   \n",
              "\n",
              "                         image_name    price  category1_code category1_name  \\\n",
              "0  ecb06f34b6d8c4c521221aebbcc0e934  29900.0       243100100             의류   \n",
              "1  9911a0e7dc8296f2fdccebb3bbbfa615  38000.0       243100100             의류   \n",
              "\n",
              "   category2_code category2_name  category3_code category3_name  brand_no  \\\n",
              "0       243104100             하의       243104101             바지   13901.0   \n",
              "1       243102100             상의       243102103            티셔츠    7604.0   \n",
              "\n",
              "   brand_name  birth_date gender  \n",
              "0      TOPTEN  1969-04-05      F  \n",
              "1  Wave union  1989-02-22      F  "
            ],
            "text/html": [
              "\n",
              "  <div id=\"df-5f367e26-4323-4985-886e-253fdc4fd907\">\n",
              "    <div class=\"colab-df-container\">\n",
              "      <div>\n",
              "<style scoped>\n",
              "    .dataframe tbody tr th:only-of-type {\n",
              "        vertical-align: middle;\n",
              "    }\n",
              "\n",
              "    .dataframe tbody tr th {\n",
              "        vertical-align: top;\n",
              "    }\n",
              "\n",
              "    .dataframe thead th {\n",
              "        text-align: right;\n",
              "    }\n",
              "</style>\n",
              "<table border=\"1\" class=\"dataframe\">\n",
              "  <thead>\n",
              "    <tr style=\"text-align: right;\">\n",
              "      <th></th>\n",
              "      <th>session_id</th>\n",
              "      <th>event_timestamp</th>\n",
              "      <th>event_name</th>\n",
              "      <th>user_no</th>\n",
              "      <th>item_no</th>\n",
              "      <th>device_type</th>\n",
              "      <th>mobile_brand_name</th>\n",
              "      <th>mobile_model_name</th>\n",
              "      <th>mobile_marketing_name</th>\n",
              "      <th>operating_system_version</th>\n",
              "      <th>country</th>\n",
              "      <th>region</th>\n",
              "      <th>platform</th>\n",
              "      <th>item_name</th>\n",
              "      <th>image_name</th>\n",
              "      <th>price</th>\n",
              "      <th>category1_code</th>\n",
              "      <th>category1_name</th>\n",
              "      <th>category2_code</th>\n",
              "      <th>category2_name</th>\n",
              "      <th>category3_code</th>\n",
              "      <th>category3_name</th>\n",
              "      <th>brand_no</th>\n",
              "      <th>brand_name</th>\n",
              "      <th>birth_date</th>\n",
              "      <th>gender</th>\n",
              "    </tr>\n",
              "  </thead>\n",
              "  <tbody>\n",
              "    <tr>\n",
              "      <th>0</th>\n",
              "      <td>c47e93742387750baba2e238558fa12d</td>\n",
              "      <td>2021-06-03 13:00:01.845</td>\n",
              "      <td>click_item</td>\n",
              "      <td>+9eODQMZ8YgXQZJJAo56nw==</td>\n",
              "      <td>4KwsZkXDulM0oQ2sTVSlYQ==</td>\n",
              "      <td>mobile</td>\n",
              "      <td>Samsung</td>\n",
              "      <td>SM-N960N</td>\n",
              "      <td>Galaxy Note9</td>\n",
              "      <td>Android 10</td>\n",
              "      <td>South Korea</td>\n",
              "      <td>Gyeonggi-do</td>\n",
              "      <td>ANDROID</td>\n",
              "      <td>남성) 코튼 리넨 이지 쇼츠</td>\n",
              "      <td>ecb06f34b6d8c4c521221aebbcc0e934</td>\n",
              "      <td>29900.0</td>\n",
              "      <td>243100100</td>\n",
              "      <td>의류</td>\n",
              "      <td>243104100</td>\n",
              "      <td>하의</td>\n",
              "      <td>243104101</td>\n",
              "      <td>바지</td>\n",
              "      <td>13901.0</td>\n",
              "      <td>TOPTEN</td>\n",
              "      <td>1969-04-05</td>\n",
              "      <td>F</td>\n",
              "    </tr>\n",
              "    <tr>\n",
              "      <th>1</th>\n",
              "      <td>f482aba7e1b76564c5404d96650f0dbd</td>\n",
              "      <td>2021-06-03 13:00:01.920001</td>\n",
              "      <td>add_to_cart</td>\n",
              "      <td>qik2Oa/1SQAjHeR64GLY0g==</td>\n",
              "      <td>+3vED/NUxtVk4Dvc0QUahA==</td>\n",
              "      <td>mobile</td>\n",
              "      <td>Samsung</td>\n",
              "      <td>SM-G977N</td>\n",
              "      <td>Galaxy S10 5G</td>\n",
              "      <td>Android 11</td>\n",
              "      <td>South Korea</td>\n",
              "      <td>Seoul</td>\n",
              "      <td>ANDROID</td>\n",
              "      <td>Puppy's delight short sleeve T-shirts white</td>\n",
              "      <td>9911a0e7dc8296f2fdccebb3bbbfa615</td>\n",
              "      <td>38000.0</td>\n",
              "      <td>243100100</td>\n",
              "      <td>의류</td>\n",
              "      <td>243102100</td>\n",
              "      <td>상의</td>\n",
              "      <td>243102103</td>\n",
              "      <td>티셔츠</td>\n",
              "      <td>7604.0</td>\n",
              "      <td>Wave union</td>\n",
              "      <td>1989-02-22</td>\n",
              "      <td>F</td>\n",
              "    </tr>\n",
              "  </tbody>\n",
              "</table>\n",
              "</div>\n",
              "      <button class=\"colab-df-convert\" onclick=\"convertToInteractive('df-5f367e26-4323-4985-886e-253fdc4fd907')\"\n",
              "              title=\"Convert this dataframe to an interactive table.\"\n",
              "              style=\"display:none;\">\n",
              "        \n",
              "  <svg xmlns=\"http://www.w3.org/2000/svg\" height=\"24px\"viewBox=\"0 0 24 24\"\n",
              "       width=\"24px\">\n",
              "    <path d=\"M0 0h24v24H0V0z\" fill=\"none\"/>\n",
              "    <path d=\"M18.56 5.44l.94 2.06.94-2.06 2.06-.94-2.06-.94-.94-2.06-.94 2.06-2.06.94zm-11 1L8.5 8.5l.94-2.06 2.06-.94-2.06-.94L8.5 2.5l-.94 2.06-2.06.94zm10 10l.94 2.06.94-2.06 2.06-.94-2.06-.94-.94-2.06-.94 2.06-2.06.94z\"/><path d=\"M17.41 7.96l-1.37-1.37c-.4-.4-.92-.59-1.43-.59-.52 0-1.04.2-1.43.59L10.3 9.45l-7.72 7.72c-.78.78-.78 2.05 0 2.83L4 21.41c.39.39.9.59 1.41.59.51 0 1.02-.2 1.41-.59l7.78-7.78 2.81-2.81c.8-.78.8-2.07 0-2.86zM5.41 20L4 18.59l7.72-7.72 1.47 1.35L5.41 20z\"/>\n",
              "  </svg>\n",
              "      </button>\n",
              "      \n",
              "  <style>\n",
              "    .colab-df-container {\n",
              "      display:flex;\n",
              "      flex-wrap:wrap;\n",
              "      gap: 12px;\n",
              "    }\n",
              "\n",
              "    .colab-df-convert {\n",
              "      background-color: #E8F0FE;\n",
              "      border: none;\n",
              "      border-radius: 50%;\n",
              "      cursor: pointer;\n",
              "      display: none;\n",
              "      fill: #1967D2;\n",
              "      height: 32px;\n",
              "      padding: 0 0 0 0;\n",
              "      width: 32px;\n",
              "    }\n",
              "\n",
              "    .colab-df-convert:hover {\n",
              "      background-color: #E2EBFA;\n",
              "      box-shadow: 0px 1px 2px rgba(60, 64, 67, 0.3), 0px 1px 3px 1px rgba(60, 64, 67, 0.15);\n",
              "      fill: #174EA6;\n",
              "    }\n",
              "\n",
              "    [theme=dark] .colab-df-convert {\n",
              "      background-color: #3B4455;\n",
              "      fill: #D2E3FC;\n",
              "    }\n",
              "\n",
              "    [theme=dark] .colab-df-convert:hover {\n",
              "      background-color: #434B5C;\n",
              "      box-shadow: 0px 1px 3px 1px rgba(0, 0, 0, 0.15);\n",
              "      filter: drop-shadow(0px 1px 2px rgba(0, 0, 0, 0.3));\n",
              "      fill: #FFFFFF;\n",
              "    }\n",
              "  </style>\n",
              "\n",
              "      <script>\n",
              "        const buttonEl =\n",
              "          document.querySelector('#df-5f367e26-4323-4985-886e-253fdc4fd907 button.colab-df-convert');\n",
              "        buttonEl.style.display =\n",
              "          google.colab.kernel.accessAllowed ? 'block' : 'none';\n",
              "\n",
              "        async function convertToInteractive(key) {\n",
              "          const element = document.querySelector('#df-5f367e26-4323-4985-886e-253fdc4fd907');\n",
              "          const dataTable =\n",
              "            await google.colab.kernel.invokeFunction('convertToInteractive',\n",
              "                                                     [key], {});\n",
              "          if (!dataTable) return;\n",
              "\n",
              "          const docLinkHtml = 'Like what you see? Visit the ' +\n",
              "            '<a target=\"_blank\" href=https://colab.research.google.com/notebooks/data_table.ipynb>data table notebook</a>'\n",
              "            + ' to learn more about interactive tables.';\n",
              "          element.innerHTML = '';\n",
              "          dataTable['output_type'] = 'display_data';\n",
              "          await google.colab.output.renderOutput(dataTable, element);\n",
              "          const docLink = document.createElement('div');\n",
              "          docLink.innerHTML = docLinkHtml;\n",
              "          element.appendChild(docLink);\n",
              "        }\n",
              "      </script>\n",
              "    </div>\n",
              "  </div>\n",
              "  "
            ]
          },
          "metadata": {},
          "execution_count": 10
        }
      ],
      "source": [
        "total.head(2)"
      ]
    },
    {
      "cell_type": "markdown",
      "metadata": {
        "id": "sI_zD-NE6RmJ"
      },
      "source": [
        "## (2) Feature 분류"
      ]
    },
    {
      "cell_type": "markdown",
      "metadata": {
        "id": "NUKhc8p7BtgH"
      },
      "source": [
        "- 숫자형: price\n",
        "- 범주형: event_name, device_type, country, platform, item_name, category1_name, brand_name, gender ......\n",
        "- 시계열: event_timestamp, birth_date"
      ]
    },
    {
      "cell_type": "markdown",
      "metadata": {
        "id": "stcpPyUlHP43"
      },
      "source": [
        "### 유저"
      ]
    },
    {
      "cell_type": "code",
      "execution_count": null,
      "metadata": {
        "colab": {
          "base_uri": "https://localhost:8080/"
        },
        "id": "W3SJlWjeHU5a",
        "outputId": "c039a663-aa6c-40a8-f016-2b030c50fcd4"
      },
      "outputs": [
        {
          "output_type": "stream",
          "name": "stdout",
          "text": [
            "총 유저 수:  254958\n",
            "구매 유저 수: 146904\n",
            "눈팅(구매 하지 않은) 유저 수:  108054\n"
          ]
        }
      ],
      "source": [
        "print('총 유저 수: ',total['user_no'].nunique())\n",
        "print('구매 유저 수:', total[total['event_name'] == 'purchase_success']['user_no'].nunique())\n",
        "print('눈팅(구매 하지 않은) 유저 수: ', total['user_no'].nunique() - total[total['event_name'] == 'purchase_success']['user_no'].nunique())"
      ]
    },
    {
      "cell_type": "markdown",
      "metadata": {
        "id": "IOmAidSCNwnH"
      },
      "source": [
        "### 상품"
      ]
    },
    {
      "cell_type": "code",
      "execution_count": null,
      "metadata": {
        "colab": {
          "base_uri": "https://localhost:8080/"
        },
        "id": "yTrcC5S0Nz9P",
        "outputId": "28a2d5f3-7233-4b2f-ac5f-b2d1565aa132"
      },
      "outputs": [
        {
          "output_type": "stream",
          "name": "stdout",
          "text": [
            "총 상품 수:  283326\n",
            "구매된 상품 수: 69498\n",
            "구매되지 않은 상품 수:  213828\n"
          ]
        }
      ],
      "source": [
        "print('총 상품 수: ', total['item_no'].nunique())\n",
        "print('구매된 상품 수:', total[total['event_name'] == 'purchase_success']['item_no'].nunique())\n",
        "print('구매되지 않은 상품 수: ', total['item_no'].nunique() - total[total['event_name'] == 'purchase_success']['item_no'].nunique())"
      ]
    },
    {
      "cell_type": "markdown",
      "metadata": {
        "id": "P7w10YZSBtjh"
      },
      "source": [
        "### 행동 이름 -> 범주형"
      ]
    },
    {
      "cell_type": "code",
      "execution_count": null,
      "metadata": {
        "colab": {
          "base_uri": "https://localhost:8080/",
          "height": 289
        },
        "id": "eGGrh9QXBtmd",
        "outputId": "3d5500c5-2fa9-4095-f171-77836e41d7b3"
      },
      "outputs": [
        {
          "output_type": "display_data",
          "data": {
            "text/plain": [
              "<Figure size 432x288 with 1 Axes>"
            ],
            "image/png": "[encoded data removed]"
          },
          "metadata": {
            "needs_background": "light"
          }
        }
      ],
      "source": [
        "f,ax = plt.subplots(1,1)\n",
        "sns.countplot('event_name', data=total)\n",
        "plt.show()"
      ]
    },
    {
      "cell_type": "markdown",
      "metadata": {
        "id": "azxlQVin6RpC"
      },
      "source": [
        "- 클릭 수가 압도적으로 많고, 다음으로 구매 수가 많다.\n",
        "- 장바구니/좋아요 수 < 구매 수  == 클릭에서 바로 구매로 전환된 것 일까?"
      ]
    },
    {
      "cell_type": "markdown",
      "metadata": {
        "id": "L26n-3HB6RzO"
      },
      "source": [
        "### 카테고리(1단계) -> 범주형"
      ]
    },
    {
      "cell_type": "code",
      "execution_count": null,
      "metadata": {
        "colab": {
          "base_uri": "https://localhost:8080/"
        },
        "id": "z_pzxM_PotnS",
        "outputId": "0f46407a-1151-4351-b0e6-25f3bc2f48cf"
      },
      "outputs": [
        {
          "output_type": "execute_result",
          "data": {
            "text/plain": [
              "의류            60.65\n",
              "잡화            25.15\n",
              "생활/건강          4.49\n",
              "가구/인테리어        3.59\n",
              "디지털/가전         2.33\n",
              "화장품/미용         1.26\n",
              "식품             0.81\n",
              "스포츠/레저         0.75\n",
              "컬처             0.56\n",
              "키즈             0.19\n",
              "반려동물           0.16\n",
              "성년의날           0.06\n",
              "홈_OLD          0.00\n",
              "패션잡화_OLD       0.00\n",
              "라이프스타일_OLD     0.00\n",
              "뷰티_OLD         0.00\n",
              "여성패션_OLD       0.00\n",
              "Name: category1_name, dtype: float64"
            ]
          },
          "metadata": {},
          "execution_count": 14
        }
      ],
      "source": [
        "round(total['category1_name'].value_counts(normalize=True) * 100, 2)"
      ]
    },
    {
      "cell_type": "code",
      "execution_count": null,
      "metadata": {
        "colab": {
          "base_uri": "https://localhost:8080/",
          "height": 356
        },
        "id": "KsgUzswxRkTq",
        "outputId": "21228bfd-8b21-4c73-87c8-e4cd3930838c"
      },
      "outputs": [
        {
          "output_type": "display_data",
          "data": {
            "text/plain": [
              "<Figure size 432x288 with 1 Axes>"
            ],
            "image/png": "[encoded data removed]"
          },
          "metadata": {
            "needs_background": "light"
          }
        }
      ],
      "source": [
        "f,ax = plt.subplots(1,1)\n",
        "sns.countplot('category1_name', data=total)\n",
        "plt.xticks(rotation=70)\n",
        "plt.show()"
      ]
    },
    {
      "cell_type": "markdown",
      "metadata": {
        "id": "_82-yqo_RkWr"
      },
      "source": [
        "- 의류 & 잡화 상품이 유저 행동의 85% 이상을 차지한다."
      ]
    },
    {
      "cell_type": "code",
      "execution_count": null,
      "metadata": {
        "colab": {
          "base_uri": "https://localhost:8080/"
        },
        "id": "zQKVRW1NRkcz",
        "outputId": "dff5cd9b-94bd-4b32-81bc-e06e86271cc9"
      },
      "outputs": [
        {
          "output_type": "execute_result",
          "data": {
            "text/plain": [
              "의류         50.26\n",
              "잡화         24.98\n",
              "생활/건강       7.33\n",
              "가구/인테리어     4.04\n",
              "디지털/가전      3.85\n",
              "Name: category1_name, dtype: float64"
            ]
          },
          "metadata": {},
          "execution_count": 16
        }
      ],
      "source": [
        "round(total[total['event_name'] == 'purchase_success']['category1_name'].value_counts(normalize=True) * 100, 2).head(5)"
      ]
    },
    {
      "cell_type": "markdown",
      "metadata": {
        "id": "oC_DILqXRkgh"
      },
      "source": [
        "- 의류 & 잡화 상품 구매 역시 전체의 75%이상을 차지하고 있다."
      ]
    },
    {
      "cell_type": "markdown",
      "metadata": {
        "id": "wh2-DvIM6RsQ"
      },
      "source": [
        "### 플랫폼 -> 범주형"
      ]
    },
    {
      "cell_type": "code",
      "execution_count": null,
      "metadata": {
        "colab": {
          "base_uri": "https://localhost:8080/"
        },
        "id": "DPW1EMw1Plgi",
        "outputId": "2fa9b902-6283-4fc2-9700-a50249895e5b"
      },
      "outputs": [
        {
          "output_type": "execute_result",
          "data": {
            "text/plain": [
              "IOS        72.13\n",
              "ANDROID    27.87\n",
              "Name: platform, dtype: float64"
            ]
          },
          "metadata": {},
          "execution_count": 17
        }
      ],
      "source": [
        "# 플랫폼 별 행동 수\n",
        "round(total['platform'].value_counts(normalize=True) * 100, 2)"
      ]
    },
    {
      "cell_type": "code",
      "execution_count": null,
      "metadata": {
        "colab": {
          "base_uri": "https://localhost:8080/",
          "height": 290
        },
        "id": "mqQ1yuwa6Rvy",
        "outputId": "f0669400-e623-405a-e35e-76def236f68c"
      },
      "outputs": [
        {
          "output_type": "display_data",
          "data": {
            "text/plain": [
              "<Figure size 432x288 with 1 Axes>"
            ],
            "image/png": "[encoded data removed]"
          },
          "metadata": {
            "needs_background": "light"
          }
        }
      ],
      "source": [
        "f,ax = plt.subplots(1,1)\n",
        "sns.countplot('platform', data=total)\n",
        "plt.show()"
      ]
    },
    {
      "cell_type": "markdown",
      "metadata": {
        "id": "HK1Y8HKIREeH"
      },
      "source": [
        "- IOS유저 : Android 유저 = 7:3"
      ]
    },
    {
      "cell_type": "markdown",
      "metadata": {
        "id": "A3N9s7a0otq_"
      },
      "source": [
        "### 성별 -> 범주형"
      ]
    },
    {
      "cell_type": "code",
      "execution_count": null,
      "metadata": {
        "colab": {
          "base_uri": "https://localhost:8080/"
        },
        "id": "axrw-VeGott8",
        "outputId": "4491db6b-a291-4d67-8f09-6e560801dd73"
      },
      "outputs": [
        {
          "output_type": "execute_result",
          "data": {
            "text/plain": [
              "F    83.9\n",
              "M    16.1\n",
              "Name: gender, dtype: float64"
            ]
          },
          "metadata": {},
          "execution_count": 19
        }
      ],
      "source": [
        "# 성별 별 유저의 행동 비율\n",
        "round(total['gender'].value_counts(normalize=True) * 100, 2)"
      ]
    },
    {
      "cell_type": "code",
      "execution_count": null,
      "metadata": {
        "colab": {
          "base_uri": "https://localhost:8080/",
          "height": 294
        },
        "id": "IyOlGU4eUYdM",
        "outputId": "eb564988-98d8-4840-ca85-39c8471e7590"
      },
      "outputs": [
        {
          "output_type": "display_data",
          "data": {
            "text/plain": [
              "<Figure size 432x288 with 1 Axes>"
            ],
            "image/png": "[encoded data removed]"
          },
          "metadata": {
            "needs_background": "light"
          }
        }
      ],
      "source": [
        "f,ax = plt.subplots(1,1)\n",
        "sns.countplot('gender', data=total)\n",
        "ax.set_title('성별 별 유저의 행동 비율')\n",
        "plt.show()"
      ]
    },
    {
      "cell_type": "markdown",
      "source": [
        "- 29CM의 주요 고객은 여성이며, 남녀 행동 비율이 약 2:8이다."
      ],
      "metadata": {
        "id": "xb5xWfWpUYpP"
      }
    },
    {
      "cell_type": "markdown",
      "source": [
        "### 나이 -> 범주형"
      ],
      "metadata": {
        "id": "zC7cC4baUYsd"
      }
    },
    {
      "cell_type": "markdown",
      "source": [
        "- 데이터에는 유저의 생년월일이 있으므로, 이것으로 \"age\" 컬럼을 추가한다.\n",
        "- 데이터가 2021년 6-8월 데이터이므로, 현재가 2021년인 것을 가정하고 나이 계산을 진행한다."
      ],
      "metadata": {
        "id": "Y0n_ItFEUYv0"
      }
    },
    {
      "cell_type": "code",
      "source": [
        "# 출생년도\n",
        "total['birth_date'] = pd.to_datetime(total['birth_date'], errors = 'coerce')\n",
        "\n",
        "# 출생년도를 통해 나이 계산\n",
        "total['age'] = 2021 - total['birth_date'].dt.year"
      ],
      "metadata": {
        "id": "Gq0YHQXCSku5"
      },
      "execution_count": null,
      "outputs": []
    },
    {
      "cell_type": "code",
      "source": [
        "# 나이 분포 확인\n",
        "sns.kdeplot('age', data=total)"
      ],
      "metadata": {
        "colab": {
          "base_uri": "https://localhost:8080/"
        },
        "id": "EYNO1GZySkLA",
        "outputId": "9916f387-1ddf-4ba0-aa83-2e1d874d8412"
      },
      "execution_count": null,
      "outputs": [
        {
          "output_type": "execute_result",
          "data": {
            "text/plain": [
              "<matplotlib.axes._subplots.AxesSubplot at 0x7efdb6a743a0>"
            ]
          },
          "metadata": {},
          "execution_count": 12
        },
        {
          "output_type": "display_data",
          "data": {
            "text/plain": [
              "<Figure size 432x288 with 1 Axes>"
            ],
            "image/png": "[encoded data removed]"
          },
          "metadata": {
            "needs_background": "light"
          }
        }
      ]
    },
    {
      "cell_type": "markdown",
      "source": [
        "- 나이 분포를 확인한 결과, 나이에 따라 유저 행동 수의 차이가 크므로, 나이대로 기준을 삼아 분류"
      ],
      "metadata": {
        "id": "RdJYsUQoTBPq"
      }
    },
    {
      "cell_type": "code",
      "execution_count": null,
      "metadata": {
        "id": "ASSa-fetUYya"
      },
      "outputs": [],
      "source": [
        "# 나이대\n",
        "total['나이대'] = np.where(total['age'] < 10, '0-9세',\n",
        "                        np.where(total['age'] < 20, '10대',\n",
        "                        np.where(total['age'] < 30, '20대',\n",
        "                        np.where(total['age'] < 40, '30대',\n",
        "                        np.where(total['age'] < 50, '40대',\n",
        "                        np.where(total['age'] < 60, '50대',\n",
        "                        np.where(total['age'] < 70, '60대',\n",
        "                        np.where(total['age'] < 80, '70대',\n",
        "                        np.where(total['age'] < 90, '80대','90대')))))))))"
      ]
    },
    {
      "cell_type": "code",
      "execution_count": null,
      "metadata": {
        "id": "8HvfLrUmotxP",
        "colab": {
          "base_uri": "https://localhost:8080/"
        },
        "outputId": "afa5c37a-a71b-4311-b7db-ed7e7e33d69e"
      },
      "outputs": [
        {
          "output_type": "execute_result",
          "data": {
            "text/plain": [
              "20대     40.53\n",
              "30대     34.96\n",
              "40대     14.17\n",
              "90대      5.71\n",
              "50대      2.77\n",
              "10대      1.29\n",
              "60대      0.44\n",
              "70대      0.12\n",
              "80대      0.01\n",
              "0-9세     0.00\n",
              "Name: 나이대, dtype: float64"
            ]
          },
          "metadata": {},
          "execution_count": 14
        }
      ],
      "source": [
        "# 나이대 별 유저의 행동 비율\n",
        "round(total['나이대'].value_counts(normalize=True) * 100, 2)"
      ]
    },
    {
      "cell_type": "code",
      "source": [
        "f,ax = plt.subplots(1,1)\n",
        "sns.countplot('나이대', data=total,order=['0-9세','10대','20대','30대','40대','50대','60대','70대','80대','90대'])\n",
        "ax.set_title('나이대 별 유저의 행동 비율')\n",
        "plt.show()"
      ],
      "metadata": {
        "colab": {
          "base_uri": "https://localhost:8080/"
        },
        "id": "O6AzJbym9BYL",
        "outputId": "19cd7be3-2cd1-4bfa-92c1-bcbfc8ad47d4"
      },
      "execution_count": null,
      "outputs": [
        {
          "output_type": "display_data",
          "data": {
            "text/plain": [
              "<Figure size 432x288 with 1 Axes>"
            ],
            "image/png": "[encoded data removed]"
          },
          "metadata": {
            "needs_background": "light"
          }
        }
      ]
    },
    {
      "cell_type": "markdown",
      "source": [
        "- 20,30,40대가 29CM의 주요 고객층이다.\n",
        "- 0-9세, 70대,80대는 정말 본인들이 구매를 진행한 것일까?\n",
        "- 90대는 전체의 5.7%의 비중을 차지하는데, 유저들의 입력 오류일 가능성이 크므로, 향후 처리가 필요해보인다."
      ],
      "metadata": {
        "id": "5NYaiCFg9BbX"
      }
    },
    {
      "cell_type": "markdown",
      "source": [
        "- 나이대 별로 상품 종류 및 브랜드 등 선호가 있는지 확인하여, 나이 분류를 나이대 기준으로 한 것이 정확한지 알아보자\n",
        "- 밑의 차트는 나이대 별로 제일 행동을 많이 취한 카테고리 3단계 별로 나열하였다.\n",
        "- 나이대는 이상이 있는 90대를 제외한, TOP4 20-50대를 기준으로 나눴다."
      ],
      "metadata": {
        "id": "TcY9iXFzZPnG"
      }
    },
    {
      "cell_type": "code",
      "source": [
        "f,ax = plt.subplots(2,2, figsize=(10,8))\n",
        "\n",
        "# 나이대 vs 카테고리 3\n",
        "total[total['나이대'] == '20대']['category3_name'].value_counts().head(5).plot.bar(ax=ax[0,0])\n",
        "ax[0,0].set_title('20대 최고 선호 카테고리')\n",
        "\n",
        "total[total['나이대'] == '30대']['category3_name'].value_counts().head(5).plot.bar(ax=ax[0,1])\n",
        "ax[0,1].set_title('30대 최고 선호 카테고리')\n",
        "\n",
        "total[total['나이대'] == '40대']['category3_name'].value_counts().head(5).plot.bar(ax=ax[1,0])\n",
        "ax[1,0].set_title('40대 최고 선호 카테고리')\n",
        "\n",
        "total[total['나이대'] == '50대']['category3_name'].value_counts().head(5).plot.bar(ax=ax[1,1])\n",
        "ax[1,1].set_title('50대 최고 선호 카테고리')\n",
        "\n",
        "plt.subplots_adjust(left=0.125, bottom=0.1,  right=0.9, top=0.9, wspace=0.2, hspace=0.7)\n",
        "plt.show()"
      ],
      "metadata": {
        "colab": {
          "base_uri": "https://localhost:8080/"
        },
        "id": "WFcwxTKGXcRI",
        "outputId": "b7d3e1ec-2634-4f70-afef-b34205a22c99"
      },
      "execution_count": null,
      "outputs": [
        {
          "output_type": "display_data",
          "data": {
            "text/plain": [
              "<Figure size 720x576 with 4 Axes>"
            ],
            "image/png": "[encoded data removed]"
          },
          "metadata": {
            "needs_background": "light"
          }
        }
      ]
    },
    {
      "cell_type": "code",
      "source": [
        "f,ax = plt.subplots(2,2, figsize=(10,8))\n",
        "\n",
        "# 나이대 vs 브랜드\n",
        "total[total['나이대'] == '20대']['brand_name'].value_counts().head(5).plot.bar(ax=ax[0,0])\n",
        "ax[0,0].set_title('20대 최고 선호 브랜드')\n",
        "\n",
        "total[total['나이대'] == '30대']['brand_name'].value_counts().head(5).plot.bar(ax=ax[0,1])\n",
        "ax[0,1].set_title('30대 최고 선호 브랜드')\n",
        "\n",
        "total[total['나이대'] == '40대']['brand_name'].value_counts().head(5).plot.bar(ax=ax[1,0])\n",
        "ax[1,0].set_title('40대 최고 선호 브랜드')\n",
        "\n",
        "total[total['나이대'] == '50대']['brand_name'].value_counts().head(5).plot.bar(ax=ax[1,1])\n",
        "ax[1,1].set_title('50대 최고 선호 브랜드')\n",
        "\n",
        "plt.subplots_adjust(left=0.125, bottom=0.1,  right=0.9, top=0.9, wspace=0.2, hspace=0.7)\n",
        "plt.show()"
      ],
      "metadata": {
        "colab": {
          "base_uri": "https://localhost:8080/"
        },
        "id": "XyTxpiehXrcN",
        "outputId": "5a1fb591-b856-4edb-a71d-83221b169c15"
      },
      "execution_count": null,
      "outputs": [
        {
          "output_type": "display_data",
          "data": {
            "text/plain": [
              "<Figure size 720x576 with 4 Axes>"
            ],
            "image/png": "[encoded data removed]"
          },
          "metadata": {
            "needs_background": "light"
          }
        }
      ]
    },
    {
      "cell_type": "markdown",
      "source": [
        "- 나이대 기준으로 카테고리 3단계 및 브랜드 별로 제일 행동을 많이 취한 TOP5를 알아보았다.\n",
        "- 이를 통해 나이대 별로 상품 종류 및 브랜드의 큰 차이를 띄는 것을 확인 할 수 있었고, 이를 통해 나이대를 기준으로 나이를 분류한 것에 큰 문제가 없어 보인다."
      ],
      "metadata": {
        "id": "9l-nyMbmXcVO"
      }
    },
    {
      "cell_type": "markdown",
      "source": [
        "## (3) 데이터 전처리"
      ],
      "metadata": {
        "id": "lL0U1ROfOjEl"
      }
    },
    {
      "cell_type": "markdown",
      "source": [
        "### event_timestamp"
      ],
      "metadata": {
        "id": "rFbCcWcxO0UK"
      }
    },
    {
      "cell_type": "code",
      "source": [
        "# event_timestamp => datetime 타입으로 변환\n",
        "total['event_timestamp'] = pd.to_datetime(total['event_timestamp'], errors = 'coerce')\n",
        "\n",
        "# event_year은 모두 2021년이라 삭제\n",
        "# event_time 기준으로 새로운 시간 컬럼 생성\n",
        "total['event_month'] = total['event_timestamp'].dt.month\n",
        "total['event_day'] = total['event_timestamp'].dt.day\n",
        "total['event_weekday'] = total['event_timestamp'].dt.dayofweek\n",
        "total['event_hour'] = total['event_timestamp'].dt.hour\n",
        "total['event_minute'] = total['event_timestamp'].dt.minute\n",
        "total['event_timestamp'] = total['event_timestamp'].dt.date"
      ],
      "metadata": {
        "id": "pN-AvhEhOpwU"
      },
      "execution_count": null,
      "outputs": []
    },
    {
      "cell_type": "code",
      "source": [
        "# 데이터 타입 : object -> datetime\n",
        "total['event_timestamp'] = pd.to_datetime(total['event_timestamp'])\n",
        "\n",
        "# 날짜 기준 (6.6 ~ 7.31)\n",
        "total = total[(total['event_timestamp'] >= '2021-06-06') & (total['event_timestamp'] <= '2021-07-31')]"
      ],
      "metadata": {
        "id": "nq_UDbyNOpzL"
      },
      "execution_count": null,
      "outputs": []
    },
    {
      "cell_type": "markdown",
      "source": [
        "- 본 데이터는 전체 기간이 21.06.03~21.08.04(9주)인 데이터이지만, 정확한 개월로 데이터가 나뉘어 있지 않다.\n",
        "- 그러므로 21.06.06~21.07.31(8주) 기간의 데이터인 2달의 시간을 기준으로 데이터 분석을 진행하려고 한다."
      ],
      "metadata": {
        "id": "eeU69W96PXI5"
      }
    },
    {
      "cell_type": "code",
      "source": [
        "# 전체 일간 매출 현황\n",
        "sns.lineplot('event_timestamp','price', data=total[total['event_name'] == 'purchase_success'])\n",
        "plt.title('전체 일간 매출 현황')\n",
        "plt.xticks(rotation=45)\n",
        "plt.xlabel('')\n",
        "plt.ylabel('')\n",
        "plt.show()"
      ],
      "metadata": {
        "colab": {
          "base_uri": "https://localhost:8080/",
          "height": 319
        },
        "id": "r-K_XojLn47m",
        "outputId": "4a405580-63a1-4bf8-d2be-83b0cd2fc25e"
      },
      "execution_count": null,
      "outputs": [
        {
          "output_type": "display_data",
          "data": {
            "text/plain": [
              "<Figure size 432x288 with 1 Axes>"
            ],
            "image/png": "[encoded data removed]"
          },
          "metadata": {
            "needs_background": "light"
          }
        }
      ]
    },
    {
      "cell_type": "code",
      "source": [
        "f,ax = plt.subplots(2,2, figsize=(12,10))\n",
        "\n",
        "# 전체 월 별 일간 매출 현황\n",
        "# 동기간의 일 별을 비교하기 위해 6/6~6/30 vs 7/6~7/30 로 비교 진행\n",
        "sns.lineplot('event_day','price', data=total[(((total['event_timestamp'] >= '2021-06-06') & (total['event_timestamp'] <= '2021-06-30')) |\n",
        "                                                  ((total['event_timestamp'] >= '2021-07-06') & (total['event_timestamp'] <= '2021-07-30')))&\n",
        "                                                  (total['event_name'] == 'purchase_success')], hue='event_month', ci=None, ax=ax[0,0])\n",
        "ax[0,0].set_title('전체 월 별 일간 매출 현황')\n",
        "\n",
        "# 전체 월 별 시간대 매출 현황\n",
        "# 동기간의 일 별을 비교하기 위해 6/6~6/30 vs 7/6~7/30 로 비교 진행\n",
        "sns.lineplot('event_hour','price', data=total[(((total['event_timestamp'] >= '2021-06-06') & (total['event_timestamp'] <= '2021-06-30')) |\n",
        "                                                  ((total['event_timestamp'] >= '2021-07-06') & (total['event_timestamp'] <= '2021-07-30')))&\n",
        "                                                  (total['event_name'] == 'purchase_success')], hue='event_month', ci=None, ax=ax[0,1])\n",
        "ax[0,1].set_title('전체 월 별 시간대 매출 현황')\n",
        "\n",
        "# 전체 요일 매출 현황\n",
        "sns.lineplot('event_weekday','price', data=total[total['event_name'] == 'purchase_success'], ax=ax[1,0])\n",
        "ax[1,0].set_title('전체 요일 매출 현황')\n",
        "\n",
        "# 전체 월 별 요일 매출 현황\n",
        "# 동기간의 요일을 비교하기 위해 6/6~6/26 vs 7/4~7/24 로 비교하여, 총 3주의 요일 개수까지 맞추어 비교 진행\n",
        "sns.lineplot('event_weekday','price', data=total[(((total['event_timestamp'] >= '2021-06-06') & (total['event_timestamp'] <= '2021-06-26')) |\n",
        "                                                  ((total['event_timestamp'] >= '2021-07-04') & (total['event_timestamp'] <= '2021-07-24')))&\n",
        "                                                  (total['event_name'] == 'purchase_success')],ax=ax[1,1], hue='event_month', ci=None)\n",
        "ax[1,1].set_title('전체 월 별 요일 매출 현황')\n",
        "\n",
        "\n",
        "plt.subplots_adjust(left=0.125, bottom=0.1,  right=0.9, top=0.9, wspace=0.2, hspace=0.7)\n",
        "plt.show()"
      ],
      "metadata": {
        "colab": {
          "base_uri": "https://localhost:8080/",
          "height": 653
        },
        "id": "4XInKeM5fC_w",
        "outputId": "f8b0153f-c037-4bd1-9378-bd10f6ce7ab0"
      },
      "execution_count": null,
      "outputs": [
        {
          "output_type": "display_data",
          "data": {
            "text/plain": [
              "<Figure size 864x720 with 4 Axes>"
            ],
            "image/png": "[encoded data removed]"
          },
          "metadata": {
            "needs_background": "light"
          }
        }
      ]
    },
    {
      "cell_type": "markdown",
      "source": [
        "## (4) 2개 이상 컬럼 비교"
      ],
      "metadata": {
        "id": "8Cr3bqcIHInC"
      }
    },
    {
      "cell_type": "markdown",
      "source": [
        "#### 플랫폼 & 성별/ 플랫폼 & 나이대"
      ],
      "metadata": {
        "id": "KiqeGtZhHIjp"
      }
    },
    {
      "cell_type": "code",
      "source": [
        "f,ax = plt.subplots(1,1)\n",
        "sns.countplot('platform', hue='gender', data=total)\n",
        "ax.set_title('플랫폼 & 성별 별 유저 행동 수')\n",
        "plt.show()"
      ],
      "metadata": {
        "colab": {
          "base_uri": "https://localhost:8080/",
          "height": 295
        },
        "id": "Cutoq5A8HIZu",
        "outputId": "b9365c26-a9a5-4b6d-84f1-9f84f713f72a"
      },
      "execution_count": null,
      "outputs": [
        {
          "output_type": "display_data",
          "data": {
            "text/plain": [
              "<Figure size 432x288 with 1 Axes>"
            ],
            "image/png": "[encoded data removed]"
          },
          "metadata": {
            "needs_background": "light"
          }
        }
      ]
    },
    {
      "cell_type": "markdown",
      "source": [
        "- 29CM 주요 유저인 '여성'의 IOS 이용비율이 압도적으로 높음"
      ],
      "metadata": {
        "id": "u85z6hUnhqo3"
      }
    },
    {
      "cell_type": "markdown",
      "source": [
        "- 앞서 살펴본 것과 같이 90대의 나이대는 오류가 있는 데이터이며, 이를 예측해서 다른 값으로 변경하기에는 개인 신상의 대한 정보가 매우 적으므로, 전환하였을 때에, 전체적인 데이터에 큰 영향을 줄 수 있다.\n",
        "- **그리하여, 본 분석은 90대를 제외한 거의 전체를 차지하는 20-50대의 행동 패턴을 더욱 유심히 관찰하고자 한다.**"
      ],
      "metadata": {
        "id": "qxW9JmHojxGH"
      }
    },
    {
      "cell_type": "code",
      "source": [
        "# 나이대 20-50대만 추출\n",
        "age_total = total[((total['나이대'] == '20대') |\n",
        "                   (total['나이대'] == '30대') |\n",
        "                   (total['나이대'] == '40대') |\n",
        "                   (total['나이대'] == '50대'))]\n",
        "\n",
        "# 20-50대 행동만 시각화\n",
        "f,ax = plt.subplots(1,1)\n",
        "sns.countplot('platform', hue='나이대', data=age_total)\n",
        "ax.set_title('플랫폼 & 성별 별 유저 행동 수')\n",
        "plt.show()"
      ],
      "metadata": {
        "colab": {
          "base_uri": "https://localhost:8080/",
          "height": 295
        },
        "id": "oNfShG90HIWj",
        "outputId": "cee9f7e3-c6fd-4899-f6fe-7b0afceb7238"
      },
      "execution_count": null,
      "outputs": [
        {
          "output_type": "display_data",
          "data": {
            "text/plain": [
              "<Figure size 432x288 with 1 Axes>"
            ],
            "image/png": "[encoded data removed]"
          },
          "metadata": {
            "needs_background": "light"
          }
        }
      ]
    },
    {
      "cell_type": "markdown",
      "source": [
        "- 20-30대에서 IOS 이용자가 매우 많다\n",
        "- 반면에, 안드로이드는 20-40대 차이가 크지 않다.\n",
        "- 40-50대는 오히려 안드로이드 이용자가 IOS 보다 많다\n",
        "\n",
        "\n",
        "\n",
        "=> **전반적으로 고려했을 때, 29CM의 매우 중요한 고객 IOS를 사용하는 20~30대 여성**"
      ],
      "metadata": {
        "id": "OX98lT0FjKvu"
      }
    },
    {
      "cell_type": "markdown",
      "source": [
        "# 3. 주제 선정 이유"
      ],
      "metadata": {
        "id": "AXyNp2FLHITC"
      }
    },
    {
      "cell_type": "markdown",
      "source": [
        "- 전체적인 EDA를 통해, 유저들의 데모그래픽(성, 연령 등)에 따라 행태의 차이가 있음을 발견하였다.\n",
        "- 분명, 29CM의 매출에 큰 영향을 주는 특정 유저군이 존재한다.\n",
        "- **그렇다면, 29CM의 어떤 유저군이 캐시카우일까?**\n",
        "- **캐시카우를 알아내고, 이들을 대상으로 진행하는 기획에 집중하자**"
      ],
      "metadata": {
        "id": "Kswu7yuzHIP2"
      }
    },
    {
      "cell_type": "markdown",
      "source": [
        "## (1) 29CM의 핵심 고객 정의"
      ],
      "metadata": {
        "id": "ZkTDegVfkeeG"
      }
    },
    {
      "cell_type": "markdown",
      "source": [
        "- **29CM의 멤버십 등급**\n",
        "    - **VIP**\n",
        "        - 최근 6개월간 구매금액: 50만 원 이상\n",
        "        - 최근 6개월간 1만 원 이상 구매횟수: 10회 이상\n",
        "    - **RED**\n",
        "        - 최근 6개월간 구매금액: 30만 원 이상, 50만 원 미만\n",
        "        - 최근 6개월간 1만 원 이상 구매횟수: 5회 이상, 10회 미만\n",
        "    - **ORANGE**\n",
        "        - 최근 6개월간 구매금액: 10만 원 이상, 30만 원 미만\n",
        "        - 최근 6개월간 1만 원 이상 구매횟수: 1회 이상, 5회 미만\n",
        "    - **YELLOW**\n",
        "        - 최근 6개월간 구매금액: 6개월 이내 재구매 경험이 없는 고객\n",
        "    - **GREEN**\n",
        "        - 최근 6개월간 구매금액: 신규 가입 회원 전용"
      ],
      "metadata": {
        "id": "IsHzZgxXkehP"
      }
    },
    {
      "cell_type": "markdown",
      "source": [
        "- **29CM의 핵심 고객을 선정하자**\n",
        "- 29CM VIP등급을 참고하여, 6개월간 기준을 2개월로 환산하여, 이를 핵심 고객인 **\"파워유저\"**로 정의한다.\n",
        "\n",
        "    - **파워유저**\n",
        "        - 2개월간 구매금액: 166,000원 이상\n",
        "        - 2개월간 1만원 이상 구매횟수: 3회 이상"
      ],
      "metadata": {
        "id": "pOuukioSkekV"
      }
    },
    {
      "cell_type": "markdown",
      "source": [
        "## (2) 파워유저 & 논파워유저 분류"
      ],
      "metadata": {
        "id": "ldsg48nWsNSg"
      }
    },
    {
      "cell_type": "markdown",
      "source": [
        "### 구매자 & 비구매자 분류"
      ],
      "metadata": {
        "id": "fFc9hGocsNVb"
      }
    },
    {
      "cell_type": "markdown",
      "source": [
        "- 파워유저의 제일 전제 조건은 구매를 했다는 것이다.\n",
        "- 그러므로, 우선적으로 유저가 2개월 동안의 구매 여부를 먼저 알아보아야 한다."
      ],
      "metadata": {
        "id": "04JXm70Nuzqw"
      }
    },
    {
      "cell_type": "code",
      "source": [
        "# 구매자 리스트 (중복 없음)\n",
        "buyer_list = total[total['event_name'] == 'purchase_success'].drop_duplicates(['user_no'], keep='first')\n",
        "\n",
        "# 구매자이면 1, 아니면 NaN\n",
        "buyer_list['buyer'] = 1\n",
        "\n",
        "buyer_list = buyer_list[['user_no','buyer']]"
      ],
      "metadata": {
        "id": "Y4T8ATL0sNYu"
      },
      "execution_count": null,
      "outputs": []
    },
    {
      "cell_type": "code",
      "source": [
        "# 구매자, 비구매자 구분 : 'buyer' 구매자 1, 비구매자 0\n",
        "total = total.merge(buyer_list, on='user_no', how='left')\n",
        "\n",
        "total['buyer'].fillna(0, inplace=True)"
      ],
      "metadata": {
        "id": "wwbBGRO2sNcA"
      },
      "execution_count": null,
      "outputs": []
    },
    {
      "cell_type": "code",
      "source": [
        "# 필요없는 컬럼 삭제\n",
        "total.drop(['mobile_model_name','mobile_marketing_name','operating_system_version','image_name','category1_code',\n",
        "            'category2_code','category3_code','brand_no','event_minute','age','birth_date'], axis=1, inplace=True)"
      ],
      "metadata": {
        "id": "iT7Whtv4sNji"
      },
      "execution_count": null,
      "outputs": []
    },
    {
      "cell_type": "code",
      "source": [
        "total.head(2)"
      ],
      "metadata": {
        "colab": {
          "base_uri": "https://localhost:8080/",
          "height": 315
        },
        "id": "1tIcMwTIsNnV",
        "outputId": "ffbff25e-2e0d-46d9-cc33-1ad687c4239e"
      },
      "execution_count": null,
      "outputs": [
        {
          "output_type": "execute_result",
          "data": {
            "text/plain": [
              "                         session_id event_timestamp  event_name  \\\n",
              "0  5240d1b731949382c749c79db207b2fa      2021-06-06  click_item   \n",
              "1  5ae2c24c1c3e9dc228846c772cfbbbdc      2021-06-06  click_item   \n",
              "\n",
              "                    user_no                   item_no device_type  \\\n",
              "0  j2PG6ak1chv+aTkyNM3JzA==  JdwoJ4a/Z2YK5nKCKWUiyw==      mobile   \n",
              "1  tBR8q7ZrRkJwO88bCX6aKA==  V9vAu4jSKMu64NY9zU155Q==      mobile   \n",
              "\n",
              "  mobile_brand_name      country region platform  \\\n",
              "0             Apple  South Korea  Seoul      IOS   \n",
              "1             Apple  South Korea  Seoul      IOS   \n",
              "\n",
              "                            item_name     price category1_name category2_name  \\\n",
              "0  WOOL SILK CROP JACKET - SEAL BROWN  135000.0             의류            아우터   \n",
              "1                cl half pants (bone)  117000.0             의류             하의   \n",
              "\n",
              "  category3_name    brand_name gender  나이대  event_month  event_day  \\\n",
              "0             재킷  MORE OR LESS      F  20대            6          6   \n",
              "1             바지          MOIA      F  20대            6          6   \n",
              "\n",
              "   event_weekday  event_hour  buyer  \n",
              "0              6           0    0.0  \n",
              "1              6           0    1.0  "
            ],
            "text/html": [
              "\n",
              "  <div id=\"df-32878af6-9cfc-4651-91e0-55ae30d948e8\">\n",
              "    <div class=\"colab-df-container\">\n",
              "      <div>\n",
              "<style scoped>\n",
              "    .dataframe tbody tr th:only-of-type {\n",
              "        vertical-align: middle;\n",
              "    }\n",
              "\n",
              "    .dataframe tbody tr th {\n",
              "        vertical-align: top;\n",
              "    }\n",
              "\n",
              "    .dataframe thead th {\n",
              "        text-align: right;\n",
              "    }\n",
              "</style>\n",
              "<table border=\"1\" class=\"dataframe\">\n",
              "  <thead>\n",
              "    <tr style=\"text-align: right;\">\n",
              "      <th></th>\n",
              "      <th>session_id</th>\n",
              "      <th>event_timestamp</th>\n",
              "      <th>event_name</th>\n",
              "      <th>user_no</th>\n",
              "      <th>item_no</th>\n",
              "      <th>device_type</th>\n",
              "      <th>mobile_brand_name</th>\n",
              "      <th>country</th>\n",
              "      <th>region</th>\n",
              "      <th>platform</th>\n",
              "      <th>item_name</th>\n",
              "      <th>price</th>\n",
              "      <th>category1_name</th>\n",
              "      <th>category2_name</th>\n",
              "      <th>category3_name</th>\n",
              "      <th>brand_name</th>\n",
              "      <th>gender</th>\n",
              "      <th>나이대</th>\n",
              "      <th>event_month</th>\n",
              "      <th>event_day</th>\n",
              "      <th>event_weekday</th>\n",
              "      <th>event_hour</th>\n",
              "      <th>buyer</th>\n",
              "    </tr>\n",
              "  </thead>\n",
              "  <tbody>\n",
              "    <tr>\n",
              "      <th>0</th>\n",
              "      <td>5240d1b731949382c749c79db207b2fa</td>\n",
              "      <td>2021-06-06</td>\n",
              "      <td>click_item</td>\n",
              "      <td>j2PG6ak1chv+aTkyNM3JzA==</td>\n",
              "      <td>JdwoJ4a/Z2YK5nKCKWUiyw==</td>\n",
              "      <td>mobile</td>\n",
              "      <td>Apple</td>\n",
              "      <td>South Korea</td>\n",
              "      <td>Seoul</td>\n",
              "      <td>IOS</td>\n",
              "      <td>WOOL SILK CROP JACKET - SEAL BROWN</td>\n",
              "      <td>135000.0</td>\n",
              "      <td>의류</td>\n",
              "      <td>아우터</td>\n",
              "      <td>재킷</td>\n",
              "      <td>MORE OR LESS</td>\n",
              "      <td>F</td>\n",
              "      <td>20대</td>\n",
              "      <td>6</td>\n",
              "      <td>6</td>\n",
              "      <td>6</td>\n",
              "      <td>0</td>\n",
              "      <td>0.0</td>\n",
              "    </tr>\n",
              "    <tr>\n",
              "      <th>1</th>\n",
              "      <td>5ae2c24c1c3e9dc228846c772cfbbbdc</td>\n",
              "      <td>2021-06-06</td>\n",
              "      <td>click_item</td>\n",
              "      <td>tBR8q7ZrRkJwO88bCX6aKA==</td>\n",
              "      <td>V9vAu4jSKMu64NY9zU155Q==</td>\n",
              "      <td>mobile</td>\n",
              "      <td>Apple</td>\n",
              "      <td>South Korea</td>\n",
              "      <td>Seoul</td>\n",
              "      <td>IOS</td>\n",
              "      <td>cl half pants (bone)</td>\n",
              "      <td>117000.0</td>\n",
              "      <td>의류</td>\n",
              "      <td>하의</td>\n",
              "      <td>바지</td>\n",
              "      <td>MOIA</td>\n",
              "      <td>F</td>\n",
              "      <td>20대</td>\n",
              "      <td>6</td>\n",
              "      <td>6</td>\n",
              "      <td>6</td>\n",
              "      <td>0</td>\n",
              "      <td>1.0</td>\n",
              "    </tr>\n",
              "  </tbody>\n",
              "</table>\n",
              "</div>\n",
              "      <button class=\"colab-df-convert\" onclick=\"convertToInteractive('df-32878af6-9cfc-4651-91e0-55ae30d948e8')\"\n",
              "              title=\"Convert this dataframe to an interactive table.\"\n",
              "              style=\"display:none;\">\n",
              "        \n",
              "  <svg xmlns=\"http://www.w3.org/2000/svg\" height=\"24px\"viewBox=\"0 0 24 24\"\n",
              "       width=\"24px\">\n",
              "    <path d=\"M0 0h24v24H0V0z\" fill=\"none\"/>\n",
              "    <path d=\"M18.56 5.44l.94 2.06.94-2.06 2.06-.94-2.06-.94-.94-2.06-.94 2.06-2.06.94zm-11 1L8.5 8.5l.94-2.06 2.06-.94-2.06-.94L8.5 2.5l-.94 2.06-2.06.94zm10 10l.94 2.06.94-2.06 2.06-.94-2.06-.94-.94-2.06-.94 2.06-2.06.94z\"/><path d=\"M17.41 7.96l-1.37-1.37c-.4-.4-.92-.59-1.43-.59-.52 0-1.04.2-1.43.59L10.3 9.45l-7.72 7.72c-.78.78-.78 2.05 0 2.83L4 21.41c.39.39.9.59 1.41.59.51 0 1.02-.2 1.41-.59l7.78-7.78 2.81-2.81c.8-.78.8-2.07 0-2.86zM5.41 20L4 18.59l7.72-7.72 1.47 1.35L5.41 20z\"/>\n",
              "  </svg>\n",
              "      </button>\n",
              "      \n",
              "  <style>\n",
              "    .colab-df-container {\n",
              "      display:flex;\n",
              "      flex-wrap:wrap;\n",
              "      gap: 12px;\n",
              "    }\n",
              "\n",
              "    .colab-df-convert {\n",
              "      background-color: #E8F0FE;\n",
              "      border: none;\n",
              "      border-radius: 50%;\n",
              "      cursor: pointer;\n",
              "      display: none;\n",
              "      fill: #1967D2;\n",
              "      height: 32px;\n",
              "      padding: 0 0 0 0;\n",
              "      width: 32px;\n",
              "    }\n",
              "\n",
              "    .colab-df-convert:hover {\n",
              "      background-color: #E2EBFA;\n",
              "      box-shadow: 0px 1px 2px rgba(60, 64, 67, 0.3), 0px 1px 3px 1px rgba(60, 64, 67, 0.15);\n",
              "      fill: #174EA6;\n",
              "    }\n",
              "\n",
              "    [theme=dark] .colab-df-convert {\n",
              "      background-color: #3B4455;\n",
              "      fill: #D2E3FC;\n",
              "    }\n",
              "\n",
              "    [theme=dark] .colab-df-convert:hover {\n",
              "      background-color: #434B5C;\n",
              "      box-shadow: 0px 1px 3px 1px rgba(0, 0, 0, 0.15);\n",
              "      filter: drop-shadow(0px 1px 2px rgba(0, 0, 0, 0.3));\n",
              "      fill: #FFFFFF;\n",
              "    }\n",
              "  </style>\n",
              "\n",
              "      <script>\n",
              "        const buttonEl =\n",
              "          document.querySelector('#df-32878af6-9cfc-4651-91e0-55ae30d948e8 button.colab-df-convert');\n",
              "        buttonEl.style.display =\n",
              "          google.colab.kernel.accessAllowed ? 'block' : 'none';\n",
              "\n",
              "        async function convertToInteractive(key) {\n",
              "          const element = document.querySelector('#df-32878af6-9cfc-4651-91e0-55ae30d948e8');\n",
              "          const dataTable =\n",
              "            await google.colab.kernel.invokeFunction('convertToInteractive',\n",
              "                                                     [key], {});\n",
              "          if (!dataTable) return;\n",
              "\n",
              "          const docLinkHtml = 'Like what you see? Visit the ' +\n",
              "            '<a target=\"_blank\" href=https://colab.research.google.com/notebooks/data_table.ipynb>data table notebook</a>'\n",
              "            + ' to learn more about interactive tables.';\n",
              "          element.innerHTML = '';\n",
              "          dataTable['output_type'] = 'display_data';\n",
              "          await google.colab.output.renderOutput(dataTable, element);\n",
              "          const docLink = document.createElement('div');\n",
              "          docLink.innerHTML = docLinkHtml;\n",
              "          element.appendChild(docLink);\n",
              "        }\n",
              "      </script>\n",
              "    </div>\n",
              "  </div>\n",
              "  "
            ]
          },
          "metadata": {},
          "execution_count": 27
        }
      ]
    },
    {
      "cell_type": "markdown",
      "source": [
        "### 구매자 중에서 파워유저 & 논파워유저 분류"
      ],
      "metadata": {
        "id": "OeEVdmLZkenQ"
      }
    },
    {
      "cell_type": "markdown",
      "source": [
        "- 우선, 구매자 중에서, 파워유저의 기준으로 파워유저와 논파워유저를 분류한다."
      ],
      "metadata": {
        "id": "FSsLGJWH-pa5"
      }
    },
    {
      "cell_type": "code",
      "source": [
        "# 2개월간의 구매자 수\n",
        "print('2개월간 29CM 구매자의 수: ', total[total['buyer'] == 1]['user_no'].nunique())"
      ],
      "metadata": {
        "colab": {
          "base_uri": "https://localhost:8080/"
        },
        "id": "bC1mDai6keqd",
        "outputId": "c981a70d-f51d-4c7e-e096-3936b6e350e4"
      },
      "execution_count": null,
      "outputs": [
        {
          "output_type": "stream",
          "name": "stdout",
          "text": [
            "2개월간 29CM 구매자의 수:  138279\n"
          ]
        }
      ]
    },
    {
      "cell_type": "code",
      "source": [
        "# 구매자가 상품을 살때의 행동\n",
        "user = total[(total['buyer'] == 1) & (total['event_name'] == 'purchase_success')]\n",
        "\n",
        "# 구매자 기준 구매 상품 개수 (item_no)\n",
        "user_no = user.groupby(['user_no'])['item_no'].count().reset_index().sort_values('item_no', ascending=False)\n",
        "\n",
        "# 모든 구매자에게 1을 부여 (추후, 유저 비율을 전체 유저와 비교할 때 쓰일 예정) (user_cnt)\n",
        "user_no['user_cnt'] = 1\n",
        "\n",
        "# 구매자 기준 구매 금액 랭킹 (price)\n",
        "user_price = user.groupby(['user_no'])['price'].sum().reset_index().sort_values('price', ascending=False)\n",
        "\n",
        "# 데이터 합치기\n",
        "user_total = user_no.merge(user_price, on='user_no', how='left')"
      ],
      "metadata": {
        "id": "GyawDFyekeuB"
      },
      "execution_count": null,
      "outputs": []
    },
    {
      "cell_type": "code",
      "source": [
        "#  파워유저 기준 정하기\n",
        "#  2개월간 구매금액: 166,000원 이상\n",
        "#  2개월간 1만원 이상 구매횟수: 3회 이상\n",
        "\n",
        "# 파워 유저 (user_vip로 명명)\n",
        "user_vip = user_total[(( user_total['item_no'] >= 3 ) & ((user_total['price'] / user_total['item_no']) >= 10000))| ( user_total['price'] >= 166000 )]\n",
        "user_vip = user_vip.sort_values(['price','item_no'], ascending=False)\n",
        "\n",
        "# 전체 유저 데이터에 합치고, 다시 중복 유저 삭제\n",
        "user_total = user_vip.append(user_total)\n",
        "user_total = user_total.drop_duplicates('user_no', keep='first')\n",
        "\n",
        "# 구매자 중에서 논 파워 유저 (user_normal로 명명)\n",
        "user_normal = user_total[59525:]\n",
        "user_normal = user_normal.sort_values(['price','item_no'], ascending=False)\n",
        "\n",
        "\n",
        "# user_vip + user_normal 합치기 = (구매자 중에서 파워유저, 논파워유저가 구분된 전체 유저)\n",
        "user_total = user_vip.append(user_normal)"
      ],
      "metadata": {
        "id": "CIruRvDDxu6F"
      },
      "execution_count": null,
      "outputs": []
    },
    {
      "cell_type": "markdown",
      "source": [
        "### 비구매자 => 논파워유저"
      ],
      "metadata": {
        "id": "lP486T48xvEf"
      }
    },
    {
      "cell_type": "markdown",
      "source": [
        "- 비구매자는 무조건 논파워유저이므로, 위의 테이블처럼 형태만 변형해준다.\n",
        "- 비구매자 기준으로 컬럼에 똑같이 부여\n",
        "    - 구매 상품 수(item_no) = 0\n",
        "    - 유저(user_cnt) = 1\n",
        "    - 구매 금액(price) = 0\n",
        "    - 파워유저 유무(power_user) = 0"
      ],
      "metadata": {
        "id": "Qd1vYMaK-cOx"
      }
    },
    {
      "cell_type": "code",
      "source": [
        "# 비구매자 user_no\n",
        "unbuyer = total[(total['buyer'] == 0)]\n",
        "\n",
        "unbuyer = unbuyer.groupby(['user_no'])['item_no'].count().reset_index()\n",
        "unbuyer['item_no'] = 0\n",
        "unbuyer['user_cnt'] = 1\n",
        "unbuyer['price'] = 0\n",
        "\n",
        "# 구매자 & 비구매자 합치기\n",
        "user_total = user_total.append(unbuyer)\n",
        "user_total"
      ],
      "metadata": {
        "colab": {
          "base_uri": "https://localhost:8080/",
          "height": 424
        },
        "id": "cndoqZBAxvIG",
        "outputId": "16292796-8162-47e2-ab2f-913eaa81c8bb"
      },
      "execution_count": null,
      "outputs": [
        {
          "output_type": "execute_result",
          "data": {
            "text/plain": [
              "                         user_no  item_no  user_cnt       price\n",
              "0       b2xZVfUtjyGsZckO7j6zkg==      246         1  28841100.0\n",
              "1       anAN3a+fvEnnvFdQ61+Egw==      203         1  22966700.0\n",
              "2324    pywOPeCTmJKudBVHC1/5iw==       15         1  11035900.0\n",
              "6       8j/l4DjsSqXcIR9r5GAmLQ==      115         1  10068900.0\n",
              "37379   tCbVorRR1nnG7W2rSzxZNQ==        3         1  10008000.0\n",
              "...                          ...      ...       ...         ...\n",
              "105588  zzrlop3HrqxAgIT0VJ9wRg==        0         1         0.0\n",
              "105589  zzwOfX9q6MNyni9Ff8Ws6A==        0         1         0.0\n",
              "105590  zzwQnhNQeYnzcsjywnIh3g==        0         1         0.0\n",
              "105591  zzxlG1wzPCGvsW0SlOleDg==        0         1         0.0\n",
              "105592  zzzTNW8escss3zrnpuGMhQ==        0         1         0.0\n",
              "\n",
              "[243872 rows x 4 columns]"
            ],
            "text/html": [
              "\n",
              "  <div id=\"df-00332513-29f0-46cd-bd95-434b06f9f41e\">\n",
              "    <div class=\"colab-df-container\">\n",
              "      <div>\n",
              "<style scoped>\n",
              "    .dataframe tbody tr th:only-of-type {\n",
              "        vertical-align: middle;\n",
              "    }\n",
              "\n",
              "    .dataframe tbody tr th {\n",
              "        vertical-align: top;\n",
              "    }\n",
              "\n",
              "    .dataframe thead th {\n",
              "        text-align: right;\n",
              "    }\n",
              "</style>\n",
              "<table border=\"1\" class=\"dataframe\">\n",
              "  <thead>\n",
              "    <tr style=\"text-align: right;\">\n",
              "      <th></th>\n",
              "      <th>user_no</th>\n",
              "      <th>item_no</th>\n",
              "      <th>user_cnt</th>\n",
              "      <th>price</th>\n",
              "    </tr>\n",
              "  </thead>\n",
              "  <tbody>\n",
              "    <tr>\n",
              "      <th>0</th>\n",
              "      <td>b2xZVfUtjyGsZckO7j6zkg==</td>\n",
              "      <td>246</td>\n",
              "      <td>1</td>\n",
              "      <td>28841100.0</td>\n",
              "    </tr>\n",
              "    <tr>\n",
              "      <th>1</th>\n",
              "      <td>anAN3a+fvEnnvFdQ61+Egw==</td>\n",
              "      <td>203</td>\n",
              "      <td>1</td>\n",
              "      <td>22966700.0</td>\n",
              "    </tr>\n",
              "    <tr>\n",
              "      <th>2324</th>\n",
              "      <td>pywOPeCTmJKudBVHC1/5iw==</td>\n",
              "      <td>15</td>\n",
              "      <td>1</td>\n",
              "      <td>11035900.0</td>\n",
              "    </tr>\n",
              "    <tr>\n",
              "      <th>6</th>\n",
              "      <td>8j/l4DjsSqXcIR9r5GAmLQ==</td>\n",
              "      <td>115</td>\n",
              "      <td>1</td>\n",
              "      <td>10068900.0</td>\n",
              "    </tr>\n",
              "    <tr>\n",
              "      <th>37379</th>\n",
              "      <td>tCbVorRR1nnG7W2rSzxZNQ==</td>\n",
              "      <td>3</td>\n",
              "      <td>1</td>\n",
              "      <td>10008000.0</td>\n",
              "    </tr>\n",
              "    <tr>\n",
              "      <th>...</th>\n",
              "      <td>...</td>\n",
              "      <td>...</td>\n",
              "      <td>...</td>\n",
              "      <td>...</td>\n",
              "    </tr>\n",
              "    <tr>\n",
              "      <th>105588</th>\n",
              "      <td>zzrlop3HrqxAgIT0VJ9wRg==</td>\n",
              "      <td>0</td>\n",
              "      <td>1</td>\n",
              "      <td>0.0</td>\n",
              "    </tr>\n",
              "    <tr>\n",
              "      <th>105589</th>\n",
              "      <td>zzwOfX9q6MNyni9Ff8Ws6A==</td>\n",
              "      <td>0</td>\n",
              "      <td>1</td>\n",
              "      <td>0.0</td>\n",
              "    </tr>\n",
              "    <tr>\n",
              "      <th>105590</th>\n",
              "      <td>zzwQnhNQeYnzcsjywnIh3g==</td>\n",
              "      <td>0</td>\n",
              "      <td>1</td>\n",
              "      <td>0.0</td>\n",
              "    </tr>\n",
              "    <tr>\n",
              "      <th>105591</th>\n",
              "      <td>zzxlG1wzPCGvsW0SlOleDg==</td>\n",
              "      <td>0</td>\n",
              "      <td>1</td>\n",
              "      <td>0.0</td>\n",
              "    </tr>\n",
              "    <tr>\n",
              "      <th>105592</th>\n",
              "      <td>zzzTNW8escss3zrnpuGMhQ==</td>\n",
              "      <td>0</td>\n",
              "      <td>1</td>\n",
              "      <td>0.0</td>\n",
              "    </tr>\n",
              "  </tbody>\n",
              "</table>\n",
              "<p>243872 rows × 4 columns</p>\n",
              "</div>\n",
              "      <button class=\"colab-df-convert\" onclick=\"convertToInteractive('df-00332513-29f0-46cd-bd95-434b06f9f41e')\"\n",
              "              title=\"Convert this dataframe to an interactive table.\"\n",
              "              style=\"display:none;\">\n",
              "        \n",
              "  <svg xmlns=\"http://www.w3.org/2000/svg\" height=\"24px\"viewBox=\"0 0 24 24\"\n",
              "       width=\"24px\">\n",
              "    <path d=\"M0 0h24v24H0V0z\" fill=\"none\"/>\n",
              "    <path d=\"M18.56 5.44l.94 2.06.94-2.06 2.06-.94-2.06-.94-.94-2.06-.94 2.06-2.06.94zm-11 1L8.5 8.5l.94-2.06 2.06-.94-2.06-.94L8.5 2.5l-.94 2.06-2.06.94zm10 10l.94 2.06.94-2.06 2.06-.94-2.06-.94-.94-2.06-.94 2.06-2.06.94z\"/><path d=\"M17.41 7.96l-1.37-1.37c-.4-.4-.92-.59-1.43-.59-.52 0-1.04.2-1.43.59L10.3 9.45l-7.72 7.72c-.78.78-.78 2.05 0 2.83L4 21.41c.39.39.9.59 1.41.59.51 0 1.02-.2 1.41-.59l7.78-7.78 2.81-2.81c.8-.78.8-2.07 0-2.86zM5.41 20L4 18.59l7.72-7.72 1.47 1.35L5.41 20z\"/>\n",
              "  </svg>\n",
              "      </button>\n",
              "      \n",
              "  <style>\n",
              "    .colab-df-container {\n",
              "      display:flex;\n",
              "      flex-wrap:wrap;\n",
              "      gap: 12px;\n",
              "    }\n",
              "\n",
              "    .colab-df-convert {\n",
              "      background-color: #E8F0FE;\n",
              "      border: none;\n",
              "      border-radius: 50%;\n",
              "      cursor: pointer;\n",
              "      display: none;\n",
              "      fill: #1967D2;\n",
              "      height: 32px;\n",
              "      padding: 0 0 0 0;\n",
              "      width: 32px;\n",
              "    }\n",
              "\n",
              "    .colab-df-convert:hover {\n",
              "      background-color: #E2EBFA;\n",
              "      box-shadow: 0px 1px 2px rgba(60, 64, 67, 0.3), 0px 1px 3px 1px rgba(60, 64, 67, 0.15);\n",
              "      fill: #174EA6;\n",
              "    }\n",
              "\n",
              "    [theme=dark] .colab-df-convert {\n",
              "      background-color: #3B4455;\n",
              "      fill: #D2E3FC;\n",
              "    }\n",
              "\n",
              "    [theme=dark] .colab-df-convert:hover {\n",
              "      background-color: #434B5C;\n",
              "      box-shadow: 0px 1px 3px 1px rgba(0, 0, 0, 0.15);\n",
              "      filter: drop-shadow(0px 1px 2px rgba(0, 0, 0, 0.3));\n",
              "      fill: #FFFFFF;\n",
              "    }\n",
              "  </style>\n",
              "\n",
              "      <script>\n",
              "        const buttonEl =\n",
              "          document.querySelector('#df-00332513-29f0-46cd-bd95-434b06f9f41e button.colab-df-convert');\n",
              "        buttonEl.style.display =\n",
              "          google.colab.kernel.accessAllowed ? 'block' : 'none';\n",
              "\n",
              "        async function convertToInteractive(key) {\n",
              "          const element = document.querySelector('#df-00332513-29f0-46cd-bd95-434b06f9f41e');\n",
              "          const dataTable =\n",
              "            await google.colab.kernel.invokeFunction('convertToInteractive',\n",
              "                                                     [key], {});\n",
              "          if (!dataTable) return;\n",
              "\n",
              "          const docLinkHtml = 'Like what you see? Visit the ' +\n",
              "            '<a target=\"_blank\" href=https://colab.research.google.com/notebooks/data_table.ipynb>data table notebook</a>'\n",
              "            + ' to learn more about interactive tables.';\n",
              "          element.innerHTML = '';\n",
              "          dataTable['output_type'] = 'display_data';\n",
              "          await google.colab.output.renderOutput(dataTable, element);\n",
              "          const docLink = document.createElement('div');\n",
              "          docLink.innerHTML = docLinkHtml;\n",
              "          element.appendChild(docLink);\n",
              "        }\n",
              "      </script>\n",
              "    </div>\n",
              "  </div>\n",
              "  "
            ]
          },
          "metadata": {},
          "execution_count": 31
        }
      ]
    },
    {
      "cell_type": "code",
      "source": [
        "# 전체 유저의 수\n",
        "total['user_no'].nunique()"
      ],
      "metadata": {
        "colab": {
          "base_uri": "https://localhost:8080/"
        },
        "id": "UaVyyYQQHIMi",
        "outputId": "c32c290f-9314-4cde-9b1e-bb2522e190a8"
      },
      "execution_count": null,
      "outputs": [
        {
          "output_type": "execute_result",
          "data": {
            "text/plain": [
              "243872"
            ]
          },
          "metadata": {},
          "execution_count": 32
        }
      ]
    },
    {
      "cell_type": "markdown",
      "source": [
        "- (파워유저, 논파워유저를 나눈)user_total의 수와, 전체 유저의 수를 살펴보면 동일하기에, 분류에서는 문제가 없음을 알 수 있다."
      ],
      "metadata": {
        "id": "TiwjG-kM-ZWw"
      }
    },
    {
      "cell_type": "markdown",
      "source": [
        "### 파워유저가 전체유저에서의 비율 계산"
      ],
      "metadata": {
        "id": "HAnWkb_u63j9"
      }
    },
    {
      "cell_type": "markdown",
      "source": [
        "- 파워유저 & 논파워유저의 각 비율들을 계산하여 인사이트를 얻고자 한다.\n",
        "- **유저 수 누적 비율** => 파워유저가 전체유저에서의 비율\n",
        "- **유저 구매 금액 누적 비율** => 파워유저 구매금액이 전체 매출에서의 비율\n",
        "- **유저 구매 상품 개수 누적 비율** => 파워유저 상품 구매 개수가 전체 판매 개수에서의 비율"
      ],
      "metadata": {
        "id": "RsNNgLYu_2bT"
      }
    },
    {
      "cell_type": "code",
      "source": [
        "# 유저 수 누적 비율\n",
        "user_total['user_cnt_cum'] =  user_total['user_cnt'].cumsum()\n",
        "user_total['user_per_percent'] = user_total['user_cnt'] / len(user_total) * 100\n",
        "user_total['user_per_percent_cum'] = user_total['user_per_percent'].cumsum()\n",
        "\n",
        "# 유저 구매 금액 누적 비율\n",
        "user_total['price_cum'] = user_total['price'].cumsum()\n",
        "user_total['price_per_percent'] = user_total['price'] / sum(user_total['price']) * 100\n",
        "user_total['price_per_percent_cum'] = user_total['price_per_percent'].cumsum()\n",
        "\n",
        "# 유저 구매 상품 개수 누적 비율\n",
        "user_total['item_no_cum'] = user_total['item_no'].cumsum()\n",
        "user_total['item_per_percent'] = user_total['item_no'] / sum(user_total['item_no']) * 100\n",
        "user_total['item_per_percent_cum'] = user_total['item_per_percent'].cumsum()\n",
        "\n",
        "# 필요없는 컬럼 삭제\n",
        "user_total = user_total.drop(['user_cnt','item_per_percent','user_cnt_cum','user_per_percent','item_no_cum','price_cum','price_per_percent'], axis=1)"
      ],
      "metadata": {
        "id": "tWPkLi1Q63nY"
      },
      "execution_count": null,
      "outputs": []
    },
    {
      "cell_type": "code",
      "source": [
        "# 전체 유저 순서 정렬\n",
        "user_total.reset_index(drop=True, inplace=True)\n",
        "\n",
        "# 파워 유저 & 논 파워 유저\n",
        "user_vip = user_total[:59525]\n",
        "user_normal = user_total[59525:]\n",
        "\n",
        "# 파워 유저 & 논 파워 유저(구매자 & 비구매자 포함)\n",
        "user_vip['power_user'] = 1\n",
        "\n",
        "user_total = user_total.merge(user_vip, on=['user_no', 'item_no', 'price', 'user_per_percent_cum',\n",
        "       'price_per_percent_cum', 'item_per_percent_cum'], how='left')\n",
        "\n",
        "user_total['power_user'].fillna(0, inplace=True)"
      ],
      "metadata": {
        "id": "uGqWLjncukW9"
      },
      "execution_count": null,
      "outputs": []
    },
    {
      "cell_type": "code",
      "source": [
        "# 파워 유저가 전체 29CM 미치는 영향 확인\n",
        "user_total[user_total['power_user'] == 1]"
      ],
      "metadata": {
        "colab": {
          "base_uri": "https://localhost:8080/",
          "height": 424
        },
        "id": "Y7Sam6GUCylO",
        "outputId": "57330992-cbd0-40b6-a957-ae75d67614a9"
      },
      "execution_count": null,
      "outputs": [
        {
          "output_type": "execute_result",
          "data": {
            "text/plain": [
              "                        user_no  item_no       price  user_per_percent_cum  \\\n",
              "0      b2xZVfUtjyGsZckO7j6zkg==      246  28841100.0              0.000410   \n",
              "1      anAN3a+fvEnnvFdQ61+Egw==      203  22966700.0              0.000820   \n",
              "2      pywOPeCTmJKudBVHC1/5iw==       15  11035900.0              0.001230   \n",
              "3      8j/l4DjsSqXcIR9r5GAmLQ==      115  10068900.0              0.001640   \n",
              "4      tCbVorRR1nnG7W2rSzxZNQ==        3  10008000.0              0.002050   \n",
              "...                         ...      ...         ...                   ...   \n",
              "59520  DyasvMcma5FbF2AHHu+ubw==        3     30000.0             24.406656   \n",
              "59521  2y/T4u1hI1U5+ww0mqLdnA==        3     30000.0             24.407066   \n",
              "59522  I56mmeC+DT7GueHwbOVeow==        3     30000.0             24.407476   \n",
              "59523  7/PpFKdDqzuxcluFxAryyQ==        3     30000.0             24.407886   \n",
              "59524  Hslrxp8LUY7M1jAxjG8VMg==        3     30000.0             24.408296   \n",
              "\n",
              "       price_per_percent_cum  item_per_percent_cum  power_user  \n",
              "0                   0.113023              0.057958         1.0  \n",
              "1                   0.203025              0.105785         1.0  \n",
              "2                   0.246273              0.109319         1.0  \n",
              "3                   0.285731              0.136414         1.0  \n",
              "4                   0.324950              0.137121         1.0  \n",
              "...                      ...                   ...         ...  \n",
              "59520              80.056593             74.633167         1.0  \n",
              "59521              80.056711             74.633874         1.0  \n",
              "59522              80.056828             74.634581         1.0  \n",
              "59523              80.056946             74.635288         1.0  \n",
              "59524              80.057064             74.635994         1.0  \n",
              "\n",
              "[59525 rows x 7 columns]"
            ],
            "text/html": [
              "\n",
              "  <div id=\"df-97e76fdf-db50-482d-ae7c-5d6d05d40b94\">\n",
              "    <div class=\"colab-df-container\">\n",
              "      <div>\n",
              "<style scoped>\n",
              "    .dataframe tbody tr th:only-of-type {\n",
              "        vertical-align: middle;\n",
              "    }\n",
              "\n",
              "    .dataframe tbody tr th {\n",
              "        vertical-align: top;\n",
              "    }\n",
              "\n",
              "    .dataframe thead th {\n",
              "        text-align: right;\n",
              "    }\n",
              "</style>\n",
              "<table border=\"1\" class=\"dataframe\">\n",
              "  <thead>\n",
              "    <tr style=\"text-align: right;\">\n",
              "      <th></th>\n",
              "      <th>user_no</th>\n",
              "      <th>item_no</th>\n",
              "      <th>price</th>\n",
              "      <th>user_per_percent_cum</th>\n",
              "      <th>price_per_percent_cum</th>\n",
              "      <th>item_per_percent_cum</th>\n",
              "      <th>power_user</th>\n",
              "    </tr>\n",
              "  </thead>\n",
              "  <tbody>\n",
              "    <tr>\n",
              "      <th>0</th>\n",
              "      <td>b2xZVfUtjyGsZckO7j6zkg==</td>\n",
              "      <td>246</td>\n",
              "      <td>28841100.0</td>\n",
              "      <td>0.000410</td>\n",
              "      <td>0.113023</td>\n",
              "      <td>0.057958</td>\n",
              "      <td>1.0</td>\n",
              "    </tr>\n",
              "    <tr>\n",
              "      <th>1</th>\n",
              "      <td>anAN3a+fvEnnvFdQ61+Egw==</td>\n",
              "      <td>203</td>\n",
              "      <td>22966700.0</td>\n",
              "      <td>0.000820</td>\n",
              "      <td>0.203025</td>\n",
              "      <td>0.105785</td>\n",
              "      <td>1.0</td>\n",
              "    </tr>\n",
              "    <tr>\n",
              "      <th>2</th>\n",
              "      <td>pywOPeCTmJKudBVHC1/5iw==</td>\n",
              "      <td>15</td>\n",
              "      <td>11035900.0</td>\n",
              "      <td>0.001230</td>\n",
              "      <td>0.246273</td>\n",
              "      <td>0.109319</td>\n",
              "      <td>1.0</td>\n",
              "    </tr>\n",
              "    <tr>\n",
              "      <th>3</th>\n",
              "      <td>8j/l4DjsSqXcIR9r5GAmLQ==</td>\n",
              "      <td>115</td>\n",
              "      <td>10068900.0</td>\n",
              "      <td>0.001640</td>\n",
              "      <td>0.285731</td>\n",
              "      <td>0.136414</td>\n",
              "      <td>1.0</td>\n",
              "    </tr>\n",
              "    <tr>\n",
              "      <th>4</th>\n",
              "      <td>tCbVorRR1nnG7W2rSzxZNQ==</td>\n",
              "      <td>3</td>\n",
              "      <td>10008000.0</td>\n",
              "      <td>0.002050</td>\n",
              "      <td>0.324950</td>\n",
              "      <td>0.137121</td>\n",
              "      <td>1.0</td>\n",
              "    </tr>\n",
              "    <tr>\n",
              "      <th>...</th>\n",
              "      <td>...</td>\n",
              "      <td>...</td>\n",
              "      <td>...</td>\n",
              "      <td>...</td>\n",
              "      <td>...</td>\n",
              "      <td>...</td>\n",
              "      <td>...</td>\n",
              "    </tr>\n",
              "    <tr>\n",
              "      <th>59520</th>\n",
              "      <td>DyasvMcma5FbF2AHHu+ubw==</td>\n",
              "      <td>3</td>\n",
              "      <td>30000.0</td>\n",
              "      <td>24.406656</td>\n",
              "      <td>80.056593</td>\n",
              "      <td>74.633167</td>\n",
              "      <td>1.0</td>\n",
              "    </tr>\n",
              "    <tr>\n",
              "      <th>59521</th>\n",
              "      <td>2y/T4u1hI1U5+ww0mqLdnA==</td>\n",
              "      <td>3</td>\n",
              "      <td>30000.0</td>\n",
              "      <td>24.407066</td>\n",
              "      <td>80.056711</td>\n",
              "      <td>74.633874</td>\n",
              "      <td>1.0</td>\n",
              "    </tr>\n",
              "    <tr>\n",
              "      <th>59522</th>\n",
              "      <td>I56mmeC+DT7GueHwbOVeow==</td>\n",
              "      <td>3</td>\n",
              "      <td>30000.0</td>\n",
              "      <td>24.407476</td>\n",
              "      <td>80.056828</td>\n",
              "      <td>74.634581</td>\n",
              "      <td>1.0</td>\n",
              "    </tr>\n",
              "    <tr>\n",
              "      <th>59523</th>\n",
              "      <td>7/PpFKdDqzuxcluFxAryyQ==</td>\n",
              "      <td>3</td>\n",
              "      <td>30000.0</td>\n",
              "      <td>24.407886</td>\n",
              "      <td>80.056946</td>\n",
              "      <td>74.635288</td>\n",
              "      <td>1.0</td>\n",
              "    </tr>\n",
              "    <tr>\n",
              "      <th>59524</th>\n",
              "      <td>Hslrxp8LUY7M1jAxjG8VMg==</td>\n",
              "      <td>3</td>\n",
              "      <td>30000.0</td>\n",
              "      <td>24.408296</td>\n",
              "      <td>80.057064</td>\n",
              "      <td>74.635994</td>\n",
              "      <td>1.0</td>\n",
              "    </tr>\n",
              "  </tbody>\n",
              "</table>\n",
              "<p>59525 rows × 7 columns</p>\n",
              "</div>\n",
              "      <button class=\"colab-df-convert\" onclick=\"convertToInteractive('df-97e76fdf-db50-482d-ae7c-5d6d05d40b94')\"\n",
              "              title=\"Convert this dataframe to an interactive table.\"\n",
              "              style=\"display:none;\">\n",
              "        \n",
              "  <svg xmlns=\"http://www.w3.org/2000/svg\" height=\"24px\"viewBox=\"0 0 24 24\"\n",
              "       width=\"24px\">\n",
              "    <path d=\"M0 0h24v24H0V0z\" fill=\"none\"/>\n",
              "    <path d=\"M18.56 5.44l.94 2.06.94-2.06 2.06-.94-2.06-.94-.94-2.06-.94 2.06-2.06.94zm-11 1L8.5 8.5l.94-2.06 2.06-.94-2.06-.94L8.5 2.5l-.94 2.06-2.06.94zm10 10l.94 2.06.94-2.06 2.06-.94-2.06-.94-.94-2.06-.94 2.06-2.06.94z\"/><path d=\"M17.41 7.96l-1.37-1.37c-.4-.4-.92-.59-1.43-.59-.52 0-1.04.2-1.43.59L10.3 9.45l-7.72 7.72c-.78.78-.78 2.05 0 2.83L4 21.41c.39.39.9.59 1.41.59.51 0 1.02-.2 1.41-.59l7.78-7.78 2.81-2.81c.8-.78.8-2.07 0-2.86zM5.41 20L4 18.59l7.72-7.72 1.47 1.35L5.41 20z\"/>\n",
              "  </svg>\n",
              "      </button>\n",
              "      \n",
              "  <style>\n",
              "    .colab-df-container {\n",
              "      display:flex;\n",
              "      flex-wrap:wrap;\n",
              "      gap: 12px;\n",
              "    }\n",
              "\n",
              "    .colab-df-convert {\n",
              "      background-color: #E8F0FE;\n",
              "      border: none;\n",
              "      border-radius: 50%;\n",
              "      cursor: pointer;\n",
              "      display: none;\n",
              "      fill: #1967D2;\n",
              "      height: 32px;\n",
              "      padding: 0 0 0 0;\n",
              "      width: 32px;\n",
              "    }\n",
              "\n",
              "    .colab-df-convert:hover {\n",
              "      background-color: #E2EBFA;\n",
              "      box-shadow: 0px 1px 2px rgba(60, 64, 67, 0.3), 0px 1px 3px 1px rgba(60, 64, 67, 0.15);\n",
              "      fill: #174EA6;\n",
              "    }\n",
              "\n",
              "    [theme=dark] .colab-df-convert {\n",
              "      background-color: #3B4455;\n",
              "      fill: #D2E3FC;\n",
              "    }\n",
              "\n",
              "    [theme=dark] .colab-df-convert:hover {\n",
              "      background-color: #434B5C;\n",
              "      box-shadow: 0px 1px 3px 1px rgba(0, 0, 0, 0.15);\n",
              "      filter: drop-shadow(0px 1px 2px rgba(0, 0, 0, 0.3));\n",
              "      fill: #FFFFFF;\n",
              "    }\n",
              "  </style>\n",
              "\n",
              "      <script>\n",
              "        const buttonEl =\n",
              "          document.querySelector('#df-97e76fdf-db50-482d-ae7c-5d6d05d40b94 button.colab-df-convert');\n",
              "        buttonEl.style.display =\n",
              "          google.colab.kernel.accessAllowed ? 'block' : 'none';\n",
              "\n",
              "        async function convertToInteractive(key) {\n",
              "          const element = document.querySelector('#df-97e76fdf-db50-482d-ae7c-5d6d05d40b94');\n",
              "          const dataTable =\n",
              "            await google.colab.kernel.invokeFunction('convertToInteractive',\n",
              "                                                     [key], {});\n",
              "          if (!dataTable) return;\n",
              "\n",
              "          const docLinkHtml = 'Like what you see? Visit the ' +\n",
              "            '<a target=\"_blank\" href=https://colab.research.google.com/notebooks/data_table.ipynb>data table notebook</a>'\n",
              "            + ' to learn more about interactive tables.';\n",
              "          element.innerHTML = '';\n",
              "          dataTable['output_type'] = 'display_data';\n",
              "          await google.colab.output.renderOutput(dataTable, element);\n",
              "          const docLink = document.createElement('div');\n",
              "          docLink.innerHTML = docLinkHtml;\n",
              "          element.appendChild(docLink);\n",
              "        }\n",
              "      </script>\n",
              "    </div>\n",
              "  </div>\n",
              "  "
            ]
          },
          "metadata": {},
          "execution_count": 35
        }
      ]
    },
    {
      "cell_type": "markdown",
      "source": [
        "- user_per_percent_cum : 전체 유저 수에서 파워유저의 비율\n",
        "    - 전체유저의 약 **24%는 파워유저** 이다.\n",
        "- price_per_percent_cum : 전체 매출에서 파워유저가 차지한 비율\n",
        "    - 전체의 약 **75%의 매출**은 **파워유저**가 담당하였다.\n",
        "- item_per_percent_cum : 전체 판매 상품 개수에서 파워유저가 구매한 상품의 비율\n",
        "    - 전체 판매한 약 **76%의 상품**은 **파워유저**가 구매하였다."
      ],
      "metadata": {
        "id": "NhMaAUlpCyup"
      }
    },
    {
      "cell_type": "markdown",
      "source": [
        "\n",
        "- **즉, 약 24%의 유저가 전체 75%의 매출을 담당하고 있다.**\n",
        "- **\"파워유저\"에서 \"파레토의 법칙\"이 보인다.**\n",
        "- **그러므로, 29CM은 이 파워유저의 특징을 파악하고, 지속적으로 파워유저를 타겟팅하고 유지하는 것이 이익 창출에 큰 도움을 줄 것으로 보인다.**\n",
        "\n"
      ],
      "metadata": {
        "id": "UJftyxAlCyzA"
      }
    },
    {
      "cell_type": "markdown",
      "source": [
        "# 4. 파워유저 vs 논파워유저"
      ],
      "metadata": {
        "id": "6cQyAAJGCy1i"
      }
    },
    {
      "cell_type": "markdown",
      "source": [
        "## (1) 데이터 전처리"
      ],
      "metadata": {
        "id": "HXQ0IpIwInx2"
      }
    },
    {
      "cell_type": "markdown",
      "source": [
        "- 더욱 자세하게 비교하기 위해, total에서 살펴보기로 하자.\n",
        "- 이전에 power_user를 구분지을 수 있게 전처리 진행"
      ],
      "metadata": {
        "id": "QD4LpdHG4cdu"
      }
    },
    {
      "cell_type": "code",
      "source": [
        "# 필요없는 컬럼 제거\n",
        "user_cum = user_total.drop(['user_per_percent_cum','price_per_percent_cum','item_per_percent_cum'], axis=1)\n",
        "user_cum.columns = ['user_no','item_per_cnt','total_per_price','power_user']\n"
      ],
      "metadata": {
        "id": "VVI1c-xmCy3S"
      },
      "execution_count": null,
      "outputs": []
    },
    {
      "cell_type": "code",
      "source": [
        "# total & user_cum merge, final로 명명\n",
        "final = total.merge(user_cum, on='user_no', how='left')"
      ],
      "metadata": {
        "id": "XAyCyW756p1J"
      },
      "execution_count": null,
      "outputs": []
    },
    {
      "cell_type": "code",
      "source": [
        "# final 유저가 제대로 합쳐졌는지 user_no null값 확인\n",
        "final['user_no'].isnull().sum()"
      ],
      "metadata": {
        "colab": {
          "base_uri": "https://localhost:8080/"
        },
        "id": "JeoHrLeo4QyW",
        "outputId": "16a47735-17fa-446b-8a35-6185b36357d1"
      },
      "execution_count": null,
      "outputs": [
        {
          "output_type": "execute_result",
          "data": {
            "text/plain": [
              "0"
            ]
          },
          "metadata": {},
          "execution_count": 38
        }
      ]
    },
    {
      "cell_type": "code",
      "source": [
        "final.head(2)"
      ],
      "metadata": {
        "id": "xXinxAXh4Q1z",
        "colab": {
          "base_uri": "https://localhost:8080/",
          "height": 315
        },
        "outputId": "656e5a9c-a4bf-42dd-98ce-36cdf864137f"
      },
      "execution_count": null,
      "outputs": [
        {
          "output_type": "execute_result",
          "data": {
            "text/plain": [
              "                         session_id event_timestamp  event_name  \\\n",
              "0  5240d1b731949382c749c79db207b2fa      2021-06-06  click_item   \n",
              "1  5ae2c24c1c3e9dc228846c772cfbbbdc      2021-06-06  click_item   \n",
              "\n",
              "                    user_no                   item_no device_type  \\\n",
              "0  j2PG6ak1chv+aTkyNM3JzA==  JdwoJ4a/Z2YK5nKCKWUiyw==      mobile   \n",
              "1  tBR8q7ZrRkJwO88bCX6aKA==  V9vAu4jSKMu64NY9zU155Q==      mobile   \n",
              "\n",
              "  mobile_brand_name      country region platform  \\\n",
              "0             Apple  South Korea  Seoul      IOS   \n",
              "1             Apple  South Korea  Seoul      IOS   \n",
              "\n",
              "                            item_name     price category1_name category2_name  \\\n",
              "0  WOOL SILK CROP JACKET - SEAL BROWN  135000.0             의류            아우터   \n",
              "1                cl half pants (bone)  117000.0             의류             하의   \n",
              "\n",
              "  category3_name    brand_name gender  나이대  event_month  event_day  \\\n",
              "0             재킷  MORE OR LESS      F  20대            6          6   \n",
              "1             바지          MOIA      F  20대            6          6   \n",
              "\n",
              "   event_weekday  event_hour  buyer  item_per_cnt  total_per_price  power_user  \n",
              "0              6           0    0.0             0              0.0         0.0  \n",
              "1              6           0    1.0             1         128000.0         0.0  "
            ],
            "text/html": [
              "\n",
              "  <div id=\"df-173281e5-11e7-4356-95a0-3bfc2025ca69\">\n",
              "    <div class=\"colab-df-container\">\n",
              "      <div>\n",
              "<style scoped>\n",
              "    .dataframe tbody tr th:only-of-type {\n",
              "        vertical-align: middle;\n",
              "    }\n",
              "\n",
              "    .dataframe tbody tr th {\n",
              "        vertical-align: top;\n",
              "    }\n",
              "\n",
              "    .dataframe thead th {\n",
              "        text-align: right;\n",
              "    }\n",
              "</style>\n",
              "<table border=\"1\" class=\"dataframe\">\n",
              "  <thead>\n",
              "    <tr style=\"text-align: right;\">\n",
              "      <th></th>\n",
              "      <th>session_id</th>\n",
              "      <th>event_timestamp</th>\n",
              "      <th>event_name</th>\n",
              "      <th>user_no</th>\n",
              "      <th>item_no</th>\n",
              "      <th>device_type</th>\n",
              "      <th>mobile_brand_name</th>\n",
              "      <th>country</th>\n",
              "      <th>region</th>\n",
              "      <th>platform</th>\n",
              "      <th>item_name</th>\n",
              "      <th>price</th>\n",
              "      <th>category1_name</th>\n",
              "      <th>category2_name</th>\n",
              "      <th>category3_name</th>\n",
              "      <th>brand_name</th>\n",
              "      <th>gender</th>\n",
              "      <th>나이대</th>\n",
              "      <th>event_month</th>\n",
              "      <th>event_day</th>\n",
              "      <th>event_weekday</th>\n",
              "      <th>event_hour</th>\n",
              "      <th>buyer</th>\n",
              "      <th>item_per_cnt</th>\n",
              "      <th>total_per_price</th>\n",
              "      <th>power_user</th>\n",
              "    </tr>\n",
              "  </thead>\n",
              "  <tbody>\n",
              "    <tr>\n",
              "      <th>0</th>\n",
              "      <td>5240d1b731949382c749c79db207b2fa</td>\n",
              "      <td>2021-06-06</td>\n",
              "      <td>click_item</td>\n",
              "      <td>j2PG6ak1chv+aTkyNM3JzA==</td>\n",
              "      <td>JdwoJ4a/Z2YK5nKCKWUiyw==</td>\n",
              "      <td>mobile</td>\n",
              "      <td>Apple</td>\n",
              "      <td>South Korea</td>\n",
              "      <td>Seoul</td>\n",
              "      <td>IOS</td>\n",
              "      <td>WOOL SILK CROP JACKET - SEAL BROWN</td>\n",
              "      <td>135000.0</td>\n",
              "      <td>의류</td>\n",
              "      <td>아우터</td>\n",
              "      <td>재킷</td>\n",
              "      <td>MORE OR LESS</td>\n",
              "      <td>F</td>\n",
              "      <td>20대</td>\n",
              "      <td>6</td>\n",
              "      <td>6</td>\n",
              "      <td>6</td>\n",
              "      <td>0</td>\n",
              "      <td>0.0</td>\n",
              "      <td>0</td>\n",
              "      <td>0.0</td>\n",
              "      <td>0.0</td>\n",
              "    </tr>\n",
              "    <tr>\n",
              "      <th>1</th>\n",
              "      <td>5ae2c24c1c3e9dc228846c772cfbbbdc</td>\n",
              "      <td>2021-06-06</td>\n",
              "      <td>click_item</td>\n",
              "      <td>tBR8q7ZrRkJwO88bCX6aKA==</td>\n",
              "      <td>V9vAu4jSKMu64NY9zU155Q==</td>\n",
              "      <td>mobile</td>\n",
              "      <td>Apple</td>\n",
              "      <td>South Korea</td>\n",
              "      <td>Seoul</td>\n",
              "      <td>IOS</td>\n",
              "      <td>cl half pants (bone)</td>\n",
              "      <td>117000.0</td>\n",
              "      <td>의류</td>\n",
              "      <td>하의</td>\n",
              "      <td>바지</td>\n",
              "      <td>MOIA</td>\n",
              "      <td>F</td>\n",
              "      <td>20대</td>\n",
              "      <td>6</td>\n",
              "      <td>6</td>\n",
              "      <td>6</td>\n",
              "      <td>0</td>\n",
              "      <td>1.0</td>\n",
              "      <td>1</td>\n",
              "      <td>128000.0</td>\n",
              "      <td>0.0</td>\n",
              "    </tr>\n",
              "  </tbody>\n",
              "</table>\n",
              "</div>\n",
              "      <button class=\"colab-df-convert\" onclick=\"convertToInteractive('df-173281e5-11e7-4356-95a0-3bfc2025ca69')\"\n",
              "              title=\"Convert this dataframe to an interactive table.\"\n",
              "              style=\"display:none;\">\n",
              "        \n",
              "  <svg xmlns=\"http://www.w3.org/2000/svg\" height=\"24px\"viewBox=\"0 0 24 24\"\n",
              "       width=\"24px\">\n",
              "    <path d=\"M0 0h24v24H0V0z\" fill=\"none\"/>\n",
              "    <path d=\"M18.56 5.44l.94 2.06.94-2.06 2.06-.94-2.06-.94-.94-2.06-.94 2.06-2.06.94zm-11 1L8.5 8.5l.94-2.06 2.06-.94-2.06-.94L8.5 2.5l-.94 2.06-2.06.94zm10 10l.94 2.06.94-2.06 2.06-.94-2.06-.94-.94-2.06-.94 2.06-2.06.94z\"/><path d=\"M17.41 7.96l-1.37-1.37c-.4-.4-.92-.59-1.43-.59-.52 0-1.04.2-1.43.59L10.3 9.45l-7.72 7.72c-.78.78-.78 2.05 0 2.83L4 21.41c.39.39.9.59 1.41.59.51 0 1.02-.2 1.41-.59l7.78-7.78 2.81-2.81c.8-.78.8-2.07 0-2.86zM5.41 20L4 18.59l7.72-7.72 1.47 1.35L5.41 20z\"/>\n",
              "  </svg>\n",
              "      </button>\n",
              "      \n",
              "  <style>\n",
              "    .colab-df-container {\n",
              "      display:flex;\n",
              "      flex-wrap:wrap;\n",
              "      gap: 12px;\n",
              "    }\n",
              "\n",
              "    .colab-df-convert {\n",
              "      background-color: #E8F0FE;\n",
              "      border: none;\n",
              "      border-radius: 50%;\n",
              "      cursor: pointer;\n",
              "      display: none;\n",
              "      fill: #1967D2;\n",
              "      height: 32px;\n",
              "      padding: 0 0 0 0;\n",
              "      width: 32px;\n",
              "    }\n",
              "\n",
              "    .colab-df-convert:hover {\n",
              "      background-color: #E2EBFA;\n",
              "      box-shadow: 0px 1px 2px rgba(60, 64, 67, 0.3), 0px 1px 3px 1px rgba(60, 64, 67, 0.15);\n",
              "      fill: #174EA6;\n",
              "    }\n",
              "\n",
              "    [theme=dark] .colab-df-convert {\n",
              "      background-color: #3B4455;\n",
              "      fill: #D2E3FC;\n",
              "    }\n",
              "\n",
              "    [theme=dark] .colab-df-convert:hover {\n",
              "      background-color: #434B5C;\n",
              "      box-shadow: 0px 1px 3px 1px rgba(0, 0, 0, 0.15);\n",
              "      filter: drop-shadow(0px 1px 2px rgba(0, 0, 0, 0.3));\n",
              "      fill: #FFFFFF;\n",
              "    }\n",
              "  </style>\n",
              "\n",
              "      <script>\n",
              "        const buttonEl =\n",
              "          document.querySelector('#df-173281e5-11e7-4356-95a0-3bfc2025ca69 button.colab-df-convert');\n",
              "        buttonEl.style.display =\n",
              "          google.colab.kernel.accessAllowed ? 'block' : 'none';\n",
              "\n",
              "        async function convertToInteractive(key) {\n",
              "          const element = document.querySelector('#df-173281e5-11e7-4356-95a0-3bfc2025ca69');\n",
              "          const dataTable =\n",
              "            await google.colab.kernel.invokeFunction('convertToInteractive',\n",
              "                                                     [key], {});\n",
              "          if (!dataTable) return;\n",
              "\n",
              "          const docLinkHtml = 'Like what you see? Visit the ' +\n",
              "            '<a target=\"_blank\" href=https://colab.research.google.com/notebooks/data_table.ipynb>data table notebook</a>'\n",
              "            + ' to learn more about interactive tables.';\n",
              "          element.innerHTML = '';\n",
              "          dataTable['output_type'] = 'display_data';\n",
              "          await google.colab.output.renderOutput(dataTable, element);\n",
              "          const docLink = document.createElement('div');\n",
              "          docLink.innerHTML = docLinkHtml;\n",
              "          element.appendChild(docLink);\n",
              "        }\n",
              "      </script>\n",
              "    </div>\n",
              "  </div>\n",
              "  "
            ]
          },
          "metadata": {},
          "execution_count": 39
        }
      ]
    },
    {
      "cell_type": "markdown",
      "source": [
        "## (2) 유저 별 각종 행동 횟수 계산"
      ],
      "metadata": {
        "id": "Qjw0YKNPMR89"
      }
    },
    {
      "cell_type": "markdown",
      "source": [
        "- 각 유저가 파워유저, 논파워유저로 나뉘어 있는만큼, 그들의 행동 패턴에는 큰 차이가 있을 것이다.\n",
        "- 그래서 각 유저의 event, 데모그래픽(성별, 나이, 지역 등), 카테고리1의 구매 횟수, 요일 별 구매 횟수 등등 데이터로 어떠한 차이가 있는지 알아보고자 한다."
      ],
      "metadata": {
        "id": "2MBUfUCOPINj"
      }
    },
    {
      "cell_type": "markdown",
      "source": [
        "#### event"
      ],
      "metadata": {
        "id": "EipZgnc5Mmqx"
      }
    },
    {
      "cell_type": "code",
      "source": [
        "# 각 유저 별 총 클릭 횟수\n",
        "click_cnt = final[final['event_name'] == 'click_item'].groupby(['user_no'])['item_no'].count().reset_index().rename(columns = {'item_no' : 'click_cnt'})\n",
        "\n",
        "# 각 유저 별 총 장바구니 횟수\n",
        "cart_cnt = final[final['event_name'] == 'add_to_cart'].groupby(['user_no'])['item_no'].count().reset_index().rename(columns = {'item_no' : 'cart_cnt'})\n",
        "\n",
        "# 각 유저 별 총 좋아요 횟수\n",
        "like_cnt = final[final['event_name'] == 'like_item'].groupby(['user_no'])['item_no'].count().reset_index().rename(columns = {'item_no' : 'like_cnt'})"
      ],
      "metadata": {
        "id": "gW_-wS1L4Q5F"
      },
      "execution_count": null,
      "outputs": []
    },
    {
      "cell_type": "code",
      "source": [
        "click_cnt"
      ],
      "metadata": {
        "id": "EyrqolPN4RJ7",
        "colab": {
          "base_uri": "https://localhost:8080/",
          "height": 424
        },
        "outputId": "f4edb763-c5db-4fa1-e6e5-d71a874cd63d"
      },
      "execution_count": null,
      "outputs": [
        {
          "output_type": "execute_result",
          "data": {
            "text/plain": [
              "                         user_no  click_cnt\n",
              "0       +++T9c17sr6wEYOy9UFv3w==          2\n",
              "1       +++aQH5NnhiU/9qECKk3uQ==         49\n",
              "2       ++0bwiYVJ/TAsCpxI4UCuw==         50\n",
              "3       ++292nTvV+bCI1Diuw96GA==          1\n",
              "4       ++2b+ESK8hAPty/PmYpJCA==          3\n",
              "...                          ...        ...\n",
              "193130  zzwQnhNQeYnzcsjywnIh3g==          3\n",
              "193131  zzwYai1YDr0JZQwaTqc0mQ==          7\n",
              "193132  zzwxh/ZL9TPJOWZHLMvnDQ==         11\n",
              "193133  zzxlG1wzPCGvsW0SlOleDg==          1\n",
              "193134  zzzWx+6Z3L2IRJBTgvBs5g==          1\n",
              "\n",
              "[193135 rows x 2 columns]"
            ],
            "text/html": [
              "\n",
              "  <div id=\"df-b7e57c82-c322-4805-a730-eca049c262dd\">\n",
              "    <div class=\"colab-df-container\">\n",
              "      <div>\n",
              "<style scoped>\n",
              "    .dataframe tbody tr th:only-of-type {\n",
              "        vertical-align: middle;\n",
              "    }\n",
              "\n",
              "    .dataframe tbody tr th {\n",
              "        vertical-align: top;\n",
              "    }\n",
              "\n",
              "    .dataframe thead th {\n",
              "        text-align: right;\n",
              "    }\n",
              "</style>\n",
              "<table border=\"1\" class=\"dataframe\">\n",
              "  <thead>\n",
              "    <tr style=\"text-align: right;\">\n",
              "      <th></th>\n",
              "      <th>user_no</th>\n",
              "      <th>click_cnt</th>\n",
              "    </tr>\n",
              "  </thead>\n",
              "  <tbody>\n",
              "    <tr>\n",
              "      <th>0</th>\n",
              "      <td>+++T9c17sr6wEYOy9UFv3w==</td>\n",
              "      <td>2</td>\n",
              "    </tr>\n",
              "    <tr>\n",
              "      <th>1</th>\n",
              "      <td>+++aQH5NnhiU/9qECKk3uQ==</td>\n",
              "      <td>49</td>\n",
              "    </tr>\n",
              "    <tr>\n",
              "      <th>2</th>\n",
              "      <td>++0bwiYVJ/TAsCpxI4UCuw==</td>\n",
              "      <td>50</td>\n",
              "    </tr>\n",
              "    <tr>\n",
              "      <th>3</th>\n",
              "      <td>++292nTvV+bCI1Diuw96GA==</td>\n",
              "      <td>1</td>\n",
              "    </tr>\n",
              "    <tr>\n",
              "      <th>4</th>\n",
              "      <td>++2b+ESK8hAPty/PmYpJCA==</td>\n",
              "      <td>3</td>\n",
              "    </tr>\n",
              "    <tr>\n",
              "      <th>...</th>\n",
              "      <td>...</td>\n",
              "      <td>...</td>\n",
              "    </tr>\n",
              "    <tr>\n",
              "      <th>193130</th>\n",
              "      <td>zzwQnhNQeYnzcsjywnIh3g==</td>\n",
              "      <td>3</td>\n",
              "    </tr>\n",
              "    <tr>\n",
              "      <th>193131</th>\n",
              "      <td>zzwYai1YDr0JZQwaTqc0mQ==</td>\n",
              "      <td>7</td>\n",
              "    </tr>\n",
              "    <tr>\n",
              "      <th>193132</th>\n",
              "      <td>zzwxh/ZL9TPJOWZHLMvnDQ==</td>\n",
              "      <td>11</td>\n",
              "    </tr>\n",
              "    <tr>\n",
              "      <th>193133</th>\n",
              "      <td>zzxlG1wzPCGvsW0SlOleDg==</td>\n",
              "      <td>1</td>\n",
              "    </tr>\n",
              "    <tr>\n",
              "      <th>193134</th>\n",
              "      <td>zzzWx+6Z3L2IRJBTgvBs5g==</td>\n",
              "      <td>1</td>\n",
              "    </tr>\n",
              "  </tbody>\n",
              "</table>\n",
              "<p>193135 rows × 2 columns</p>\n",
              "</div>\n",
              "      <button class=\"colab-df-convert\" onclick=\"convertToInteractive('df-b7e57c82-c322-4805-a730-eca049c262dd')\"\n",
              "              title=\"Convert this dataframe to an interactive table.\"\n",
              "              style=\"display:none;\">\n",
              "        \n",
              "  <svg xmlns=\"http://www.w3.org/2000/svg\" height=\"24px\"viewBox=\"0 0 24 24\"\n",
              "       width=\"24px\">\n",
              "    <path d=\"M0 0h24v24H0V0z\" fill=\"none\"/>\n",
              "    <path d=\"M18.56 5.44l.94 2.06.94-2.06 2.06-.94-2.06-.94-.94-2.06-.94 2.06-2.06.94zm-11 1L8.5 8.5l.94-2.06 2.06-.94-2.06-.94L8.5 2.5l-.94 2.06-2.06.94zm10 10l.94 2.06.94-2.06 2.06-.94-2.06-.94-.94-2.06-.94 2.06-2.06.94z\"/><path d=\"M17.41 7.96l-1.37-1.37c-.4-.4-.92-.59-1.43-.59-.52 0-1.04.2-1.43.59L10.3 9.45l-7.72 7.72c-.78.78-.78 2.05 0 2.83L4 21.41c.39.39.9.59 1.41.59.51 0 1.02-.2 1.41-.59l7.78-7.78 2.81-2.81c.8-.78.8-2.07 0-2.86zM5.41 20L4 18.59l7.72-7.72 1.47 1.35L5.41 20z\"/>\n",
              "  </svg>\n",
              "      </button>\n",
              "      \n",
              "  <style>\n",
              "    .colab-df-container {\n",
              "      display:flex;\n",
              "      flex-wrap:wrap;\n",
              "      gap: 12px;\n",
              "    }\n",
              "\n",
              "    .colab-df-convert {\n",
              "      background-color: #E8F0FE;\n",
              "      border: none;\n",
              "      border-radius: 50%;\n",
              "      cursor: pointer;\n",
              "      display: none;\n",
              "      fill: #1967D2;\n",
              "      height: 32px;\n",
              "      padding: 0 0 0 0;\n",
              "      width: 32px;\n",
              "    }\n",
              "\n",
              "    .colab-df-convert:hover {\n",
              "      background-color: #E2EBFA;\n",
              "      box-shadow: 0px 1px 2px rgba(60, 64, 67, 0.3), 0px 1px 3px 1px rgba(60, 64, 67, 0.15);\n",
              "      fill: #174EA6;\n",
              "    }\n",
              "\n",
              "    [theme=dark] .colab-df-convert {\n",
              "      background-color: #3B4455;\n",
              "      fill: #D2E3FC;\n",
              "    }\n",
              "\n",
              "    [theme=dark] .colab-df-convert:hover {\n",
              "      background-color: #434B5C;\n",
              "      box-shadow: 0px 1px 3px 1px rgba(0, 0, 0, 0.15);\n",
              "      filter: drop-shadow(0px 1px 2px rgba(0, 0, 0, 0.3));\n",
              "      fill: #FFFFFF;\n",
              "    }\n",
              "  </style>\n",
              "\n",
              "      <script>\n",
              "        const buttonEl =\n",
              "          document.querySelector('#df-b7e57c82-c322-4805-a730-eca049c262dd button.colab-df-convert');\n",
              "        buttonEl.style.display =\n",
              "          google.colab.kernel.accessAllowed ? 'block' : 'none';\n",
              "\n",
              "        async function convertToInteractive(key) {\n",
              "          const element = document.querySelector('#df-b7e57c82-c322-4805-a730-eca049c262dd');\n",
              "          const dataTable =\n",
              "            await google.colab.kernel.invokeFunction('convertToInteractive',\n",
              "                                                     [key], {});\n",
              "          if (!dataTable) return;\n",
              "\n",
              "          const docLinkHtml = 'Like what you see? Visit the ' +\n",
              "            '<a target=\"_blank\" href=https://colab.research.google.com/notebooks/data_table.ipynb>data table notebook</a>'\n",
              "            + ' to learn more about interactive tables.';\n",
              "          element.innerHTML = '';\n",
              "          dataTable['output_type'] = 'display_data';\n",
              "          await google.colab.output.renderOutput(dataTable, element);\n",
              "          const docLink = document.createElement('div');\n",
              "          docLink.innerHTML = docLinkHtml;\n",
              "          element.appendChild(docLink);\n",
              "        }\n",
              "      </script>\n",
              "    </div>\n",
              "  </div>\n",
              "  "
            ]
          },
          "metadata": {},
          "execution_count": 41
        }
      ]
    },
    {
      "cell_type": "code",
      "source": [
        "# 행동 패턴 테이블 합치기 (with user_total)\n",
        "user_total = user_total.merge(click_cnt, on='user_no', how='left')\n",
        "user_total = user_total.merge(cart_cnt, on='user_no', how='left')\n",
        "user_total = user_total.merge(like_cnt, on='user_no', how='left')"
      ],
      "metadata": {
        "id": "g1zmUWF64RRC"
      },
      "execution_count": null,
      "outputs": []
    },
    {
      "cell_type": "code",
      "source": [
        "user_total"
      ],
      "metadata": {
        "id": "WVV_zNd-4RUJ",
        "colab": {
          "base_uri": "https://localhost:8080/",
          "height": 424
        },
        "outputId": "9b890b8f-2e23-4bde-ad3d-ffcc7fc2b3bf"
      },
      "execution_count": null,
      "outputs": [
        {
          "output_type": "execute_result",
          "data": {
            "text/plain": [
              "                         user_no  item_no       price  user_per_percent_cum  \\\n",
              "0       b2xZVfUtjyGsZckO7j6zkg==      246  28841100.0               0.00041   \n",
              "1       anAN3a+fvEnnvFdQ61+Egw==      203  22966700.0               0.00082   \n",
              "2       pywOPeCTmJKudBVHC1/5iw==       15  11035900.0               0.00123   \n",
              "3       8j/l4DjsSqXcIR9r5GAmLQ==      115  10068900.0               0.00164   \n",
              "4       tCbVorRR1nnG7W2rSzxZNQ==        3  10008000.0               0.00205   \n",
              "...                          ...      ...         ...                   ...   \n",
              "243867  zzrlop3HrqxAgIT0VJ9wRg==        0         0.0              99.99836   \n",
              "243868  zzwOfX9q6MNyni9Ff8Ws6A==        0         0.0              99.99877   \n",
              "243869  zzwQnhNQeYnzcsjywnIh3g==        0         0.0              99.99918   \n",
              "243870  zzxlG1wzPCGvsW0SlOleDg==        0         0.0              99.99959   \n",
              "243871  zzzTNW8escss3zrnpuGMhQ==        0         0.0             100.00000   \n",
              "\n",
              "        price_per_percent_cum  item_per_percent_cum  power_user  click_cnt  \\\n",
              "0                    0.113023              0.057958         1.0     7534.0   \n",
              "1                    0.203025              0.105785         1.0      325.0   \n",
              "2                    0.246273              0.109319         1.0       55.0   \n",
              "3                    0.285731              0.136414         1.0      119.0   \n",
              "4                    0.324950              0.137121         1.0        3.0   \n",
              "...                       ...                   ...         ...        ...   \n",
              "243867             100.000000            100.000000         0.0        1.0   \n",
              "243868             100.000000            100.000000         0.0       16.0   \n",
              "243869             100.000000            100.000000         0.0        3.0   \n",
              "243870             100.000000            100.000000         0.0        1.0   \n",
              "243871             100.000000            100.000000         0.0        NaN   \n",
              "\n",
              "        cart_cnt  like_cnt  \n",
              "0            NaN       NaN  \n",
              "1          105.0       NaN  \n",
              "2            NaN       NaN  \n",
              "3          265.0       NaN  \n",
              "4            3.0       NaN  \n",
              "...          ...       ...  \n",
              "243867       NaN       NaN  \n",
              "243868       NaN       NaN  \n",
              "243869       NaN       NaN  \n",
              "243870       NaN       NaN  \n",
              "243871       1.0       NaN  \n",
              "\n",
              "[243872 rows x 10 columns]"
            ],
            "text/html": [
              "\n",
              "  <div id=\"df-cb40b564-d6f5-4421-b7a0-8fc376175935\">\n",
              "    <div class=\"colab-df-container\">\n",
              "      <div>\n",
              "<style scoped>\n",
              "    .dataframe tbody tr th:only-of-type {\n",
              "        vertical-align: middle;\n",
              "    }\n",
              "\n",
              "    .dataframe tbody tr th {\n",
              "        vertical-align: top;\n",
              "    }\n",
              "\n",
              "    .dataframe thead th {\n",
              "        text-align: right;\n",
              "    }\n",
              "</style>\n",
              "<table border=\"1\" class=\"dataframe\">\n",
              "  <thead>\n",
              "    <tr style=\"text-align: right;\">\n",
              "      <th></th>\n",
              "      <th>user_no</th>\n",
              "      <th>item_no</th>\n",
              "      <th>price</th>\n",
              "      <th>user_per_percent_cum</th>\n",
              "      <th>price_per_percent_cum</th>\n",
              "      <th>item_per_percent_cum</th>\n",
              "      <th>power_user</th>\n",
              "      <th>click_cnt</th>\n",
              "      <th>cart_cnt</th>\n",
              "      <th>like_cnt</th>\n",
              "    </tr>\n",
              "  </thead>\n",
              "  <tbody>\n",
              "    <tr>\n",
              "      <th>0</th>\n",
              "      <td>b2xZVfUtjyGsZckO7j6zkg==</td>\n",
              "      <td>246</td>\n",
              "      <td>28841100.0</td>\n",
              "      <td>0.00041</td>\n",
              "      <td>0.113023</td>\n",
              "      <td>0.057958</td>\n",
              "      <td>1.0</td>\n",
              "      <td>7534.0</td>\n",
              "      <td>NaN</td>\n",
              "      <td>NaN</td>\n",
              "    </tr>\n",
              "    <tr>\n",
              "      <th>1</th>\n",
              "      <td>anAN3a+fvEnnvFdQ61+Egw==</td>\n",
              "      <td>203</td>\n",
              "      <td>22966700.0</td>\n",
              "      <td>0.00082</td>\n",
              "      <td>0.203025</td>\n",
              "      <td>0.105785</td>\n",
              "      <td>1.0</td>\n",
              "      <td>325.0</td>\n",
              "      <td>105.0</td>\n",
              "      <td>NaN</td>\n",
              "    </tr>\n",
              "    <tr>\n",
              "      <th>2</th>\n",
              "      <td>pywOPeCTmJKudBVHC1/5iw==</td>\n",
              "      <td>15</td>\n",
              "      <td>11035900.0</td>\n",
              "      <td>0.00123</td>\n",
              "      <td>0.246273</td>\n",
              "      <td>0.109319</td>\n",
              "      <td>1.0</td>\n",
              "      <td>55.0</td>\n",
              "      <td>NaN</td>\n",
              "      <td>NaN</td>\n",
              "    </tr>\n",
              "    <tr>\n",
              "      <th>3</th>\n",
              "      <td>8j/l4DjsSqXcIR9r5GAmLQ==</td>\n",
              "      <td>115</td>\n",
              "      <td>10068900.0</td>\n",
              "      <td>0.00164</td>\n",
              "      <td>0.285731</td>\n",
              "      <td>0.136414</td>\n",
              "      <td>1.0</td>\n",
              "      <td>119.0</td>\n",
              "      <td>265.0</td>\n",
              "      <td>NaN</td>\n",
              "    </tr>\n",
              "    <tr>\n",
              "      <th>4</th>\n",
              "      <td>tCbVorRR1nnG7W2rSzxZNQ==</td>\n",
              "      <td>3</td>\n",
              "      <td>10008000.0</td>\n",
              "      <td>0.00205</td>\n",
              "      <td>0.324950</td>\n",
              "      <td>0.137121</td>\n",
              "      <td>1.0</td>\n",
              "      <td>3.0</td>\n",
              "      <td>3.0</td>\n",
              "      <td>NaN</td>\n",
              "    </tr>\n",
              "    <tr>\n",
              "      <th>...</th>\n",
              "      <td>...</td>\n",
              "      <td>...</td>\n",
              "      <td>...</td>\n",
              "      <td>...</td>\n",
              "      <td>...</td>\n",
              "      <td>...</td>\n",
              "      <td>...</td>\n",
              "      <td>...</td>\n",
              "      <td>...</td>\n",
              "      <td>...</td>\n",
              "    </tr>\n",
              "    <tr>\n",
              "      <th>243867</th>\n",
              "      <td>zzrlop3HrqxAgIT0VJ9wRg==</td>\n",
              "      <td>0</td>\n",
              "      <td>0.0</td>\n",
              "      <td>99.99836</td>\n",
              "      <td>100.000000</td>\n",
              "      <td>100.000000</td>\n",
              "      <td>0.0</td>\n",
              "      <td>1.0</td>\n",
              "      <td>NaN</td>\n",
              "      <td>NaN</td>\n",
              "    </tr>\n",
              "    <tr>\n",
              "      <th>243868</th>\n",
              "      <td>zzwOfX9q6MNyni9Ff8Ws6A==</td>\n",
              "      <td>0</td>\n",
              "      <td>0.0</td>\n",
              "      <td>99.99877</td>\n",
              "      <td>100.000000</td>\n",
              "      <td>100.000000</td>\n",
              "      <td>0.0</td>\n",
              "      <td>16.0</td>\n",
              "      <td>NaN</td>\n",
              "      <td>NaN</td>\n",
              "    </tr>\n",
              "    <tr>\n",
              "      <th>243869</th>\n",
              "      <td>zzwQnhNQeYnzcsjywnIh3g==</td>\n",
              "      <td>0</td>\n",
              "      <td>0.0</td>\n",
              "      <td>99.99918</td>\n",
              "      <td>100.000000</td>\n",
              "      <td>100.000000</td>\n",
              "      <td>0.0</td>\n",
              "      <td>3.0</td>\n",
              "      <td>NaN</td>\n",
              "      <td>NaN</td>\n",
              "    </tr>\n",
              "    <tr>\n",
              "      <th>243870</th>\n",
              "      <td>zzxlG1wzPCGvsW0SlOleDg==</td>\n",
              "      <td>0</td>\n",
              "      <td>0.0</td>\n",
              "      <td>99.99959</td>\n",
              "      <td>100.000000</td>\n",
              "      <td>100.000000</td>\n",
              "      <td>0.0</td>\n",
              "      <td>1.0</td>\n",
              "      <td>NaN</td>\n",
              "      <td>NaN</td>\n",
              "    </tr>\n",
              "    <tr>\n",
              "      <th>243871</th>\n",
              "      <td>zzzTNW8escss3zrnpuGMhQ==</td>\n",
              "      <td>0</td>\n",
              "      <td>0.0</td>\n",
              "      <td>100.00000</td>\n",
              "      <td>100.000000</td>\n",
              "      <td>100.000000</td>\n",
              "      <td>0.0</td>\n",
              "      <td>NaN</td>\n",
              "      <td>1.0</td>\n",
              "      <td>NaN</td>\n",
              "    </tr>\n",
              "  </tbody>\n",
              "</table>\n",
              "<p>243872 rows × 10 columns</p>\n",
              "</div>\n",
              "      <button class=\"colab-df-convert\" onclick=\"convertToInteractive('df-cb40b564-d6f5-4421-b7a0-8fc376175935')\"\n",
              "              title=\"Convert this dataframe to an interactive table.\"\n",
              "              style=\"display:none;\">\n",
              "        \n",
              "  <svg xmlns=\"http://www.w3.org/2000/svg\" height=\"24px\"viewBox=\"0 0 24 24\"\n",
              "       width=\"24px\">\n",
              "    <path d=\"M0 0h24v24H0V0z\" fill=\"none\"/>\n",
              "    <path d=\"M18.56 5.44l.94 2.06.94-2.06 2.06-.94-2.06-.94-.94-2.06-.94 2.06-2.06.94zm-11 1L8.5 8.5l.94-2.06 2.06-.94-2.06-.94L8.5 2.5l-.94 2.06-2.06.94zm10 10l.94 2.06.94-2.06 2.06-.94-2.06-.94-.94-2.06-.94 2.06-2.06.94z\"/><path d=\"M17.41 7.96l-1.37-1.37c-.4-.4-.92-.59-1.43-.59-.52 0-1.04.2-1.43.59L10.3 9.45l-7.72 7.72c-.78.78-.78 2.05 0 2.83L4 21.41c.39.39.9.59 1.41.59.51 0 1.02-.2 1.41-.59l7.78-7.78 2.81-2.81c.8-.78.8-2.07 0-2.86zM5.41 20L4 18.59l7.72-7.72 1.47 1.35L5.41 20z\"/>\n",
              "  </svg>\n",
              "      </button>\n",
              "      \n",
              "  <style>\n",
              "    .colab-df-container {\n",
              "      display:flex;\n",
              "      flex-wrap:wrap;\n",
              "      gap: 12px;\n",
              "    }\n",
              "\n",
              "    .colab-df-convert {\n",
              "      background-color: #E8F0FE;\n",
              "      border: none;\n",
              "      border-radius: 50%;\n",
              "      cursor: pointer;\n",
              "      display: none;\n",
              "      fill: #1967D2;\n",
              "      height: 32px;\n",
              "      padding: 0 0 0 0;\n",
              "      width: 32px;\n",
              "    }\n",
              "\n",
              "    .colab-df-convert:hover {\n",
              "      background-color: #E2EBFA;\n",
              "      box-shadow: 0px 1px 2px rgba(60, 64, 67, 0.3), 0px 1px 3px 1px rgba(60, 64, 67, 0.15);\n",
              "      fill: #174EA6;\n",
              "    }\n",
              "\n",
              "    [theme=dark] .colab-df-convert {\n",
              "      background-color: #3B4455;\n",
              "      fill: #D2E3FC;\n",
              "    }\n",
              "\n",
              "    [theme=dark] .colab-df-convert:hover {\n",
              "      background-color: #434B5C;\n",
              "      box-shadow: 0px 1px 3px 1px rgba(0, 0, 0, 0.15);\n",
              "      filter: drop-shadow(0px 1px 2px rgba(0, 0, 0, 0.3));\n",
              "      fill: #FFFFFF;\n",
              "    }\n",
              "  </style>\n",
              "\n",
              "      <script>\n",
              "        const buttonEl =\n",
              "          document.querySelector('#df-cb40b564-d6f5-4421-b7a0-8fc376175935 button.colab-df-convert');\n",
              "        buttonEl.style.display =\n",
              "          google.colab.kernel.accessAllowed ? 'block' : 'none';\n",
              "\n",
              "        async function convertToInteractive(key) {\n",
              "          const element = document.querySelector('#df-cb40b564-d6f5-4421-b7a0-8fc376175935');\n",
              "          const dataTable =\n",
              "            await google.colab.kernel.invokeFunction('convertToInteractive',\n",
              "                                                     [key], {});\n",
              "          if (!dataTable) return;\n",
              "\n",
              "          const docLinkHtml = 'Like what you see? Visit the ' +\n",
              "            '<a target=\"_blank\" href=https://colab.research.google.com/notebooks/data_table.ipynb>data table notebook</a>'\n",
              "            + ' to learn more about interactive tables.';\n",
              "          element.innerHTML = '';\n",
              "          dataTable['output_type'] = 'display_data';\n",
              "          await google.colab.output.renderOutput(dataTable, element);\n",
              "          const docLink = document.createElement('div');\n",
              "          docLink.innerHTML = docLinkHtml;\n",
              "          element.appendChild(docLink);\n",
              "        }\n",
              "      </script>\n",
              "    </div>\n",
              "  </div>\n",
              "  "
            ]
          },
          "metadata": {},
          "execution_count": 43
        }
      ]
    },
    {
      "cell_type": "code",
      "source": [
        "# 행동 패턴 결측치 정리\n",
        "user_total.fillna(0, inplace=True)\n",
        "user_total.isnull().sum().sum()"
      ],
      "metadata": {
        "id": "Rft-pnLC4RXi",
        "colab": {
          "base_uri": "https://localhost:8080/"
        },
        "outputId": "ab3ee3a4-23ec-48d9-97f0-f70dc60eff01"
      },
      "execution_count": null,
      "outputs": [
        {
          "output_type": "execute_result",
          "data": {
            "text/plain": [
              "0"
            ]
          },
          "metadata": {},
          "execution_count": 44
        }
      ]
    },
    {
      "cell_type": "markdown",
      "source": [
        "#### 데모그래픽"
      ],
      "metadata": {
        "id": "cy6ub3xvNIx6"
      }
    },
    {
      "cell_type": "code",
      "source": [
        "# 기타 인적 사항 테이블 만들기\n",
        "user_info = final[['user_no','buyer','mobile_brand_name','region','platform','gender','나이대']]\n",
        "user_info.drop_duplicates('user_no', keep='first', inplace=True)"
      ],
      "metadata": {
        "id": "Z1pzzcn04Ra6"
      },
      "execution_count": null,
      "outputs": []
    },
    {
      "cell_type": "code",
      "source": [
        "# 인적 사항 user_total 테이블과 합치기\n",
        "user_total = user_total.merge(user_info, on='user_no', how='left')\n",
        "user_total.head(2)"
      ],
      "metadata": {
        "id": "S8Z5px8C4ReB",
        "colab": {
          "base_uri": "https://localhost:8080/",
          "height": 245
        },
        "outputId": "77c33300-7f79-40d1-84d5-a79bf4b4240f"
      },
      "execution_count": null,
      "outputs": [
        {
          "output_type": "execute_result",
          "data": {
            "text/plain": [
              "                    user_no  item_no       price  user_per_percent_cum  \\\n",
              "0  b2xZVfUtjyGsZckO7j6zkg==      246  28841100.0               0.00041   \n",
              "1  anAN3a+fvEnnvFdQ61+Egw==      203  22966700.0               0.00082   \n",
              "\n",
              "   price_per_percent_cum  item_per_percent_cum  power_user  click_cnt  \\\n",
              "0               0.113023              0.057958         1.0     7534.0   \n",
              "1               0.203025              0.105785         1.0      325.0   \n",
              "\n",
              "   cart_cnt  like_cnt  buyer mobile_brand_name             region platform  \\\n",
              "0       0.0       0.0    1.0             Apple  Chungcheongnam-do      IOS   \n",
              "1     105.0       0.0    1.0           Samsung              Seoul  ANDROID   \n",
              "\n",
              "  gender  나이대  \n",
              "0      F  40대  \n",
              "1      F  40대  "
            ],
            "text/html": [
              "\n",
              "  <div id=\"df-540b6f39-1a08-487f-8cb5-7ade7de12a85\">\n",
              "    <div class=\"colab-df-container\">\n",
              "      <div>\n",
              "<style scoped>\n",
              "    .dataframe tbody tr th:only-of-type {\n",
              "        vertical-align: middle;\n",
              "    }\n",
              "\n",
              "    .dataframe tbody tr th {\n",
              "        vertical-align: top;\n",
              "    }\n",
              "\n",
              "    .dataframe thead th {\n",
              "        text-align: right;\n",
              "    }\n",
              "</style>\n",
              "<table border=\"1\" class=\"dataframe\">\n",
              "  <thead>\n",
              "    <tr style=\"text-align: right;\">\n",
              "      <th></th>\n",
              "      <th>user_no</th>\n",
              "      <th>item_no</th>\n",
              "      <th>price</th>\n",
              "      <th>user_per_percent_cum</th>\n",
              "      <th>price_per_percent_cum</th>\n",
              "      <th>item_per_percent_cum</th>\n",
              "      <th>power_user</th>\n",
              "      <th>click_cnt</th>\n",
              "      <th>cart_cnt</th>\n",
              "      <th>like_cnt</th>\n",
              "      <th>buyer</th>\n",
              "      <th>mobile_brand_name</th>\n",
              "      <th>region</th>\n",
              "      <th>platform</th>\n",
              "      <th>gender</th>\n",
              "      <th>나이대</th>\n",
              "    </tr>\n",
              "  </thead>\n",
              "  <tbody>\n",
              "    <tr>\n",
              "      <th>0</th>\n",
              "      <td>b2xZVfUtjyGsZckO7j6zkg==</td>\n",
              "      <td>246</td>\n",
              "      <td>28841100.0</td>\n",
              "      <td>0.00041</td>\n",
              "      <td>0.113023</td>\n",
              "      <td>0.057958</td>\n",
              "      <td>1.0</td>\n",
              "      <td>7534.0</td>\n",
              "      <td>0.0</td>\n",
              "      <td>0.0</td>\n",
              "      <td>1.0</td>\n",
              "      <td>Apple</td>\n",
              "      <td>Chungcheongnam-do</td>\n",
              "      <td>IOS</td>\n",
              "      <td>F</td>\n",
              "      <td>40대</td>\n",
              "    </tr>\n",
              "    <tr>\n",
              "      <th>1</th>\n",
              "      <td>anAN3a+fvEnnvFdQ61+Egw==</td>\n",
              "      <td>203</td>\n",
              "      <td>22966700.0</td>\n",
              "      <td>0.00082</td>\n",
              "      <td>0.203025</td>\n",
              "      <td>0.105785</td>\n",
              "      <td>1.0</td>\n",
              "      <td>325.0</td>\n",
              "      <td>105.0</td>\n",
              "      <td>0.0</td>\n",
              "      <td>1.0</td>\n",
              "      <td>Samsung</td>\n",
              "      <td>Seoul</td>\n",
              "      <td>ANDROID</td>\n",
              "      <td>F</td>\n",
              "      <td>40대</td>\n",
              "    </tr>\n",
              "  </tbody>\n",
              "</table>\n",
              "</div>\n",
              "      <button class=\"colab-df-convert\" onclick=\"convertToInteractive('df-540b6f39-1a08-487f-8cb5-7ade7de12a85')\"\n",
              "              title=\"Convert this dataframe to an interactive table.\"\n",
              "              style=\"display:none;\">\n",
              "        \n",
              "  <svg xmlns=\"http://www.w3.org/2000/svg\" height=\"24px\"viewBox=\"0 0 24 24\"\n",
              "       width=\"24px\">\n",
              "    <path d=\"M0 0h24v24H0V0z\" fill=\"none\"/>\n",
              "    <path d=\"M18.56 5.44l.94 2.06.94-2.06 2.06-.94-2.06-.94-.94-2.06-.94 2.06-2.06.94zm-11 1L8.5 8.5l.94-2.06 2.06-.94-2.06-.94L8.5 2.5l-.94 2.06-2.06.94zm10 10l.94 2.06.94-2.06 2.06-.94-2.06-.94-.94-2.06-.94 2.06-2.06.94z\"/><path d=\"M17.41 7.96l-1.37-1.37c-.4-.4-.92-.59-1.43-.59-.52 0-1.04.2-1.43.59L10.3 9.45l-7.72 7.72c-.78.78-.78 2.05 0 2.83L4 21.41c.39.39.9.59 1.41.59.51 0 1.02-.2 1.41-.59l7.78-7.78 2.81-2.81c.8-.78.8-2.07 0-2.86zM5.41 20L4 18.59l7.72-7.72 1.47 1.35L5.41 20z\"/>\n",
              "  </svg>\n",
              "      </button>\n",
              "      \n",
              "  <style>\n",
              "    .colab-df-container {\n",
              "      display:flex;\n",
              "      flex-wrap:wrap;\n",
              "      gap: 12px;\n",
              "    }\n",
              "\n",
              "    .colab-df-convert {\n",
              "      background-color: #E8F0FE;\n",
              "      border: none;\n",
              "      border-radius: 50%;\n",
              "      cursor: pointer;\n",
              "      display: none;\n",
              "      fill: #1967D2;\n",
              "      height: 32px;\n",
              "      padding: 0 0 0 0;\n",
              "      width: 32px;\n",
              "    }\n",
              "\n",
              "    .colab-df-convert:hover {\n",
              "      background-color: #E2EBFA;\n",
              "      box-shadow: 0px 1px 2px rgba(60, 64, 67, 0.3), 0px 1px 3px 1px rgba(60, 64, 67, 0.15);\n",
              "      fill: #174EA6;\n",
              "    }\n",
              "\n",
              "    [theme=dark] .colab-df-convert {\n",
              "      background-color: #3B4455;\n",
              "      fill: #D2E3FC;\n",
              "    }\n",
              "\n",
              "    [theme=dark] .colab-df-convert:hover {\n",
              "      background-color: #434B5C;\n",
              "      box-shadow: 0px 1px 3px 1px rgba(0, 0, 0, 0.15);\n",
              "      filter: drop-shadow(0px 1px 2px rgba(0, 0, 0, 0.3));\n",
              "      fill: #FFFFFF;\n",
              "    }\n",
              "  </style>\n",
              "\n",
              "      <script>\n",
              "        const buttonEl =\n",
              "          document.querySelector('#df-540b6f39-1a08-487f-8cb5-7ade7de12a85 button.colab-df-convert');\n",
              "        buttonEl.style.display =\n",
              "          google.colab.kernel.accessAllowed ? 'block' : 'none';\n",
              "\n",
              "        async function convertToInteractive(key) {\n",
              "          const element = document.querySelector('#df-540b6f39-1a08-487f-8cb5-7ade7de12a85');\n",
              "          const dataTable =\n",
              "            await google.colab.kernel.invokeFunction('convertToInteractive',\n",
              "                                                     [key], {});\n",
              "          if (!dataTable) return;\n",
              "\n",
              "          const docLinkHtml = 'Like what you see? Visit the ' +\n",
              "            '<a target=\"_blank\" href=https://colab.research.google.com/notebooks/data_table.ipynb>data table notebook</a>'\n",
              "            + ' to learn more about interactive tables.';\n",
              "          element.innerHTML = '';\n",
              "          dataTable['output_type'] = 'display_data';\n",
              "          await google.colab.output.renderOutput(dataTable, element);\n",
              "          const docLink = document.createElement('div');\n",
              "          docLink.innerHTML = docLinkHtml;\n",
              "          element.appendChild(docLink);\n",
              "        }\n",
              "      </script>\n",
              "    </div>\n",
              "  </div>\n",
              "  "
            ]
          },
          "metadata": {},
          "execution_count": 46
        }
      ]
    },
    {
      "cell_type": "markdown",
      "source": [
        "#### 카테고리1 (구매 횟수)"
      ],
      "metadata": {
        "id": "1zhmJEMGMbPA"
      }
    },
    {
      "cell_type": "code",
      "source": [
        "final['category1_name'].value_counts()"
      ],
      "metadata": {
        "id": "WQ9tN7EJ4Rha",
        "colab": {
          "base_uri": "https://localhost:8080/"
        },
        "outputId": "f42b8621-148e-4896-c398-57e98bf59a4e"
      },
      "execution_count": null,
      "outputs": [
        {
          "output_type": "execute_result",
          "data": {
            "text/plain": [
              "의류            3255145\n",
              "잡화            1349863\n",
              "생활/건강          234897\n",
              "가구/인테리어        190674\n",
              "디지털/가전         123827\n",
              "화장품/미용          66095\n",
              "식품              42477\n",
              "스포츠/레저          39716\n",
              "컬처              29803\n",
              "키즈              10097\n",
              "반려동물             8447\n",
              "성년의날             3184\n",
              "홈_OLD             220\n",
              "패션잡화_OLD           25\n",
              "라이프스타일_OLD         13\n",
              "뷰티_OLD              3\n",
              "여성패션_OLD            3\n",
              "Name: category1_name, dtype: int64"
            ]
          },
          "metadata": {},
          "execution_count": 47
        }
      ]
    },
    {
      "cell_type": "markdown",
      "source": [
        "- OLD 관련된 제품은 갯수가 너무 적으므로, 분석이 불가"
      ],
      "metadata": {
        "id": "Y4S0wnFyMvWL"
      }
    },
    {
      "cell_type": "code",
      "source": [
        "# 전체 유저no\n",
        "all_user_no = final[['user_no']]\n",
        "\n",
        "# 의류 구매자 테이블\n",
        "clothes_cnt = final[(final['category1_name'] == '의류') & (final['event_name'] == 'purchase_success')].groupby(['user_no'])['item_no'].count().reset_index().rename(columns={'item_no' : '의류'})\n",
        "\n",
        "# 전체 유저no & 의류 구매자 테이블 합치기\n",
        "category_p_cnt = all_user_no.merge(clothes_cnt,on='user_no', how='left')"
      ],
      "metadata": {
        "id": "LqsPhCFdOHZB"
      },
      "execution_count": null,
      "outputs": []
    },
    {
      "cell_type": "code",
      "source": [
        "# 각 유저 카테고리 별 구매 개수 테이블\n",
        "for category in final['category1_name'].unique()[1:-5]:\n",
        "    category_cnt =  final[(final['category1_name'] == category) & (final['event_name'] == 'purchase_success')].groupby(['user_no'])['item_no'].count().reset_index().rename(columns={'item_no' : category})\n",
        "    category_p_cnt = category_p_cnt.merge(category_cnt, on='user_no', how='left')\n",
        "\n",
        "# 비구매자 결측치 0으로 대체\n",
        "category_p_cnt.fillna(0, inplace=True)\n",
        "# 중복 유저 no 제거\n",
        "category_p_cnt.drop_duplicates('user_no', keep='first', inplace=True)"
      ],
      "metadata": {
        "id": "A57MCxE3Cy5F"
      },
      "execution_count": null,
      "outputs": []
    },
    {
      "cell_type": "code",
      "source": [
        "# (2개월간) 각 유저가 구매한 카테고리 수\n",
        "category_p_cnt.head(1)"
      ],
      "metadata": {
        "colab": {
          "base_uri": "https://localhost:8080/",
          "height": 81
        },
        "id": "Jtt_b4wrNbCo",
        "outputId": "8db83666-22bb-47f0-a6ed-94ab30fec14b"
      },
      "execution_count": null,
      "outputs": [
        {
          "output_type": "execute_result",
          "data": {
            "text/plain": [
              "                    user_no   의류  생활/건강  스포츠/레저   잡화  화장품/미용  가구/인테리어   컬처  \\\n",
              "0  j2PG6ak1chv+aTkyNM3JzA==  0.0    0.0     0.0  0.0     0.0      0.0  0.0   \n",
              "\n",
              "   디지털/가전   식품   키즈  반려동물  성년의날  \n",
              "0     0.0  0.0  0.0   0.0   0.0  "
            ],
            "text/html": [
              "\n",
              "  <div id=\"df-f1a842f7-6067-4558-83ac-63dd22a74b25\">\n",
              "    <div class=\"colab-df-container\">\n",
              "      <div>\n",
              "<style scoped>\n",
              "    .dataframe tbody tr th:only-of-type {\n",
              "        vertical-align: middle;\n",
              "    }\n",
              "\n",
              "    .dataframe tbody tr th {\n",
              "        vertical-align: top;\n",
              "    }\n",
              "\n",
              "    .dataframe thead th {\n",
              "        text-align: right;\n",
              "    }\n",
              "</style>\n",
              "<table border=\"1\" class=\"dataframe\">\n",
              "  <thead>\n",
              "    <tr style=\"text-align: right;\">\n",
              "      <th></th>\n",
              "      <th>user_no</th>\n",
              "      <th>의류</th>\n",
              "      <th>생활/건강</th>\n",
              "      <th>스포츠/레저</th>\n",
              "      <th>잡화</th>\n",
              "      <th>화장품/미용</th>\n",
              "      <th>가구/인테리어</th>\n",
              "      <th>컬처</th>\n",
              "      <th>디지털/가전</th>\n",
              "      <th>식품</th>\n",
              "      <th>키즈</th>\n",
              "      <th>반려동물</th>\n",
              "      <th>성년의날</th>\n",
              "    </tr>\n",
              "  </thead>\n",
              "  <tbody>\n",
              "    <tr>\n",
              "      <th>0</th>\n",
              "      <td>j2PG6ak1chv+aTkyNM3JzA==</td>\n",
              "      <td>0.0</td>\n",
              "      <td>0.0</td>\n",
              "      <td>0.0</td>\n",
              "      <td>0.0</td>\n",
              "      <td>0.0</td>\n",
              "      <td>0.0</td>\n",
              "      <td>0.0</td>\n",
              "      <td>0.0</td>\n",
              "      <td>0.0</td>\n",
              "      <td>0.0</td>\n",
              "      <td>0.0</td>\n",
              "      <td>0.0</td>\n",
              "    </tr>\n",
              "  </tbody>\n",
              "</table>\n",
              "</div>\n",
              "      <button class=\"colab-df-convert\" onclick=\"convertToInteractive('df-f1a842f7-6067-4558-83ac-63dd22a74b25')\"\n",
              "              title=\"Convert this dataframe to an interactive table.\"\n",
              "              style=\"display:none;\">\n",
              "        \n",
              "  <svg xmlns=\"http://www.w3.org/2000/svg\" height=\"24px\"viewBox=\"0 0 24 24\"\n",
              "       width=\"24px\">\n",
              "    <path d=\"M0 0h24v24H0V0z\" fill=\"none\"/>\n",
              "    <path d=\"M18.56 5.44l.94 2.06.94-2.06 2.06-.94-2.06-.94-.94-2.06-.94 2.06-2.06.94zm-11 1L8.5 8.5l.94-2.06 2.06-.94-2.06-.94L8.5 2.5l-.94 2.06-2.06.94zm10 10l.94 2.06.94-2.06 2.06-.94-2.06-.94-.94-2.06-.94 2.06-2.06.94z\"/><path d=\"M17.41 7.96l-1.37-1.37c-.4-.4-.92-.59-1.43-.59-.52 0-1.04.2-1.43.59L10.3 9.45l-7.72 7.72c-.78.78-.78 2.05 0 2.83L4 21.41c.39.39.9.59 1.41.59.51 0 1.02-.2 1.41-.59l7.78-7.78 2.81-2.81c.8-.78.8-2.07 0-2.86zM5.41 20L4 18.59l7.72-7.72 1.47 1.35L5.41 20z\"/>\n",
              "  </svg>\n",
              "      </button>\n",
              "      \n",
              "  <style>\n",
              "    .colab-df-container {\n",
              "      display:flex;\n",
              "      flex-wrap:wrap;\n",
              "      gap: 12px;\n",
              "    }\n",
              "\n",
              "    .colab-df-convert {\n",
              "      background-color: #E8F0FE;\n",
              "      border: none;\n",
              "      border-radius: 50%;\n",
              "      cursor: pointer;\n",
              "      display: none;\n",
              "      fill: #1967D2;\n",
              "      height: 32px;\n",
              "      padding: 0 0 0 0;\n",
              "      width: 32px;\n",
              "    }\n",
              "\n",
              "    .colab-df-convert:hover {\n",
              "      background-color: #E2EBFA;\n",
              "      box-shadow: 0px 1px 2px rgba(60, 64, 67, 0.3), 0px 1px 3px 1px rgba(60, 64, 67, 0.15);\n",
              "      fill: #174EA6;\n",
              "    }\n",
              "\n",
              "    [theme=dark] .colab-df-convert {\n",
              "      background-color: #3B4455;\n",
              "      fill: #D2E3FC;\n",
              "    }\n",
              "\n",
              "    [theme=dark] .colab-df-convert:hover {\n",
              "      background-color: #434B5C;\n",
              "      box-shadow: 0px 1px 3px 1px rgba(0, 0, 0, 0.15);\n",
              "      filter: drop-shadow(0px 1px 2px rgba(0, 0, 0, 0.3));\n",
              "      fill: #FFFFFF;\n",
              "    }\n",
              "  </style>\n",
              "\n",
              "      <script>\n",
              "        const buttonEl =\n",
              "          document.querySelector('#df-f1a842f7-6067-4558-83ac-63dd22a74b25 button.colab-df-convert');\n",
              "        buttonEl.style.display =\n",
              "          google.colab.kernel.accessAllowed ? 'block' : 'none';\n",
              "\n",
              "        async function convertToInteractive(key) {\n",
              "          const element = document.querySelector('#df-f1a842f7-6067-4558-83ac-63dd22a74b25');\n",
              "          const dataTable =\n",
              "            await google.colab.kernel.invokeFunction('convertToInteractive',\n",
              "                                                     [key], {});\n",
              "          if (!dataTable) return;\n",
              "\n",
              "          const docLinkHtml = 'Like what you see? Visit the ' +\n",
              "            '<a target=\"_blank\" href=https://colab.research.google.com/notebooks/data_table.ipynb>data table notebook</a>'\n",
              "            + ' to learn more about interactive tables.';\n",
              "          element.innerHTML = '';\n",
              "          dataTable['output_type'] = 'display_data';\n",
              "          await google.colab.output.renderOutput(dataTable, element);\n",
              "          const docLink = document.createElement('div');\n",
              "          docLink.innerHTML = docLinkHtml;\n",
              "          element.appendChild(docLink);\n",
              "        }\n",
              "      </script>\n",
              "    </div>\n",
              "  </div>\n",
              "  "
            ]
          },
          "metadata": {},
          "execution_count": 50
        }
      ]
    },
    {
      "cell_type": "code",
      "source": [
        "# user_total과 카테고리 별 구매 개수 테이블 합치기\n",
        "user_total = user_total.merge(category_p_cnt, on='user_no', how='left')"
      ],
      "metadata": {
        "id": "EkIfHSL7NbGJ"
      },
      "execution_count": null,
      "outputs": []
    },
    {
      "cell_type": "markdown",
      "source": [
        "#### 요일 (구매 횟수)"
      ],
      "metadata": {
        "id": "vqzokvZeOvYp"
      }
    },
    {
      "cell_type": "code",
      "source": [
        "# 전체 유저no\n",
        "all_user_no = final[['user_no']]\n",
        "\n",
        "# 일요일 구매자 테이블\n",
        "sunday_cnt = final[(final['event_weekday'] == 6) & (final['event_name'] == 'purchase_success')].groupby(['user_no'])['item_no'].count().reset_index().rename(columns={'item_no' : '일요일'})\n",
        "\n",
        "# 전체 유저no & 일요일 구매자 테이블 합치기\n",
        "week_p_cnt = all_user_no.merge(sunday_cnt,on='user_no', how='left')"
      ],
      "metadata": {
        "id": "ZmJknkzJNbJi"
      },
      "execution_count": null,
      "outputs": []
    },
    {
      "cell_type": "code",
      "source": [
        "# 각 유저 요일 별 구매 개수 테이블\n",
        "for week in final['event_weekday'].unique()[1:]:\n",
        "    week_cnt =  final[(final['event_weekday'] == week) & (final['event_name'] == 'purchase_success')].groupby(['user_no'])['item_no'].count().reset_index().rename(columns={'item_no' : week})\n",
        "    week_p_cnt = week_p_cnt.merge(week_cnt, on='user_no', how='left')\n",
        "\n",
        "# 비구매자 결측치 0으로 대체\n",
        "week_p_cnt.fillna(0, inplace=True)\n",
        "# 중복 유저 no 제거\n",
        "week_p_cnt.drop_duplicates('user_no', keep='first', inplace=True)\n",
        "# 요일 이름 바꾸기\n",
        "week_p_cnt.columns = ['user_no','일요일','월요일','화요일','수요일','목요일','금요일','토요일']"
      ],
      "metadata": {
        "id": "uu-S4ocGNbMp"
      },
      "execution_count": null,
      "outputs": []
    },
    {
      "cell_type": "code",
      "source": [
        "# user_total과 요일 별 구매 개수 테이블 합치기\n",
        "\n",
        "user_total = user_total.merge(week_p_cnt, on='user_no', how='left')"
      ],
      "metadata": {
        "id": "Nb1s13zuNbP4"
      },
      "execution_count": null,
      "outputs": []
    },
    {
      "cell_type": "code",
      "source": [
        "user_total.head(1)"
      ],
      "metadata": {
        "colab": {
          "base_uri": "https://localhost:8080/"
        },
        "id": "x05rNKLvNbSx",
        "outputId": "28cc7a89-898d-4207-eefe-52ff18f28fcd"
      },
      "execution_count": null,
      "outputs": [
        {
          "output_type": "execute_result",
          "data": {
            "text/plain": [
              "                    user_no  item_no       price  user_per_percent_cum  \\\n",
              "0  b2xZVfUtjyGsZckO7j6zkg==      246  28841100.0               0.00041   \n",
              "\n",
              "   price_per_percent_cum  item_per_percent_cum  power_user  click_cnt  \\\n",
              "0               0.113023              0.057958         1.0     7534.0   \n",
              "\n",
              "   cart_cnt  like_cnt  buyer mobile_brand_name             region platform  \\\n",
              "0       0.0       0.0    1.0             Apple  Chungcheongnam-do      IOS   \n",
              "\n",
              "  gender  나이대     의류  생활/건강  스포츠/레저   잡화  화장품/미용  가구/인테리어   컬처  디지털/가전   식품  \\\n",
              "0      F  40대  238.0    0.0     0.0  8.0     0.0      0.0  0.0     0.0  0.0   \n",
              "\n",
              "    키즈  반려동물  성년의날   일요일   월요일   화요일   수요일   목요일   금요일   토요일  \n",
              "0  0.0   0.0   0.0  29.0  23.0  42.0  31.0  37.0  34.0  50.0  "
            ],
            "text/html": [
              "\n",
              "  <div id=\"df-9a3c6822-9457-47c4-b003-f83fdf29763c\">\n",
              "    <div class=\"colab-df-container\">\n",
              "      <div>\n",
              "<style scoped>\n",
              "    .dataframe tbody tr th:only-of-type {\n",
              "        vertical-align: middle;\n",
              "    }\n",
              "\n",
              "    .dataframe tbody tr th {\n",
              "        vertical-align: top;\n",
              "    }\n",
              "\n",
              "    .dataframe thead th {\n",
              "        text-align: right;\n",
              "    }\n",
              "</style>\n",
              "<table border=\"1\" class=\"dataframe\">\n",
              "  <thead>\n",
              "    <tr style=\"text-align: right;\">\n",
              "      <th></th>\n",
              "      <th>user_no</th>\n",
              "      <th>item_no</th>\n",
              "      <th>price</th>\n",
              "      <th>user_per_percent_cum</th>\n",
              "      <th>price_per_percent_cum</th>\n",
              "      <th>item_per_percent_cum</th>\n",
              "      <th>power_user</th>\n",
              "      <th>click_cnt</th>\n",
              "      <th>cart_cnt</th>\n",
              "      <th>like_cnt</th>\n",
              "      <th>buyer</th>\n",
              "      <th>mobile_brand_name</th>\n",
              "      <th>region</th>\n",
              "      <th>platform</th>\n",
              "      <th>gender</th>\n",
              "      <th>나이대</th>\n",
              "      <th>의류</th>\n",
              "      <th>생활/건강</th>\n",
              "      <th>스포츠/레저</th>\n",
              "      <th>잡화</th>\n",
              "      <th>화장품/미용</th>\n",
              "      <th>가구/인테리어</th>\n",
              "      <th>컬처</th>\n",
              "      <th>디지털/가전</th>\n",
              "      <th>식품</th>\n",
              "      <th>키즈</th>\n",
              "      <th>반려동물</th>\n",
              "      <th>성년의날</th>\n",
              "      <th>일요일</th>\n",
              "      <th>월요일</th>\n",
              "      <th>화요일</th>\n",
              "      <th>수요일</th>\n",
              "      <th>목요일</th>\n",
              "      <th>금요일</th>\n",
              "      <th>토요일</th>\n",
              "    </tr>\n",
              "  </thead>\n",
              "  <tbody>\n",
              "    <tr>\n",
              "      <th>0</th>\n",
              "      <td>b2xZVfUtjyGsZckO7j6zkg==</td>\n",
              "      <td>246</td>\n",
              "      <td>28841100.0</td>\n",
              "      <td>0.00041</td>\n",
              "      <td>0.113023</td>\n",
              "      <td>0.057958</td>\n",
              "      <td>1.0</td>\n",
              "      <td>7534.0</td>\n",
              "      <td>0.0</td>\n",
              "      <td>0.0</td>\n",
              "      <td>1.0</td>\n",
              "      <td>Apple</td>\n",
              "      <td>Chungcheongnam-do</td>\n",
              "      <td>IOS</td>\n",
              "      <td>F</td>\n",
              "      <td>40대</td>\n",
              "      <td>238.0</td>\n",
              "      <td>0.0</td>\n",
              "      <td>0.0</td>\n",
              "      <td>8.0</td>\n",
              "      <td>0.0</td>\n",
              "      <td>0.0</td>\n",
              "      <td>0.0</td>\n",
              "      <td>0.0</td>\n",
              "      <td>0.0</td>\n",
              "      <td>0.0</td>\n",
              "      <td>0.0</td>\n",
              "      <td>0.0</td>\n",
              "      <td>29.0</td>\n",
              "      <td>23.0</td>\n",
              "      <td>42.0</td>\n",
              "      <td>31.0</td>\n",
              "      <td>37.0</td>\n",
              "      <td>34.0</td>\n",
              "      <td>50.0</td>\n",
              "    </tr>\n",
              "  </tbody>\n",
              "</table>\n",
              "</div>\n",
              "      <button class=\"colab-df-convert\" onclick=\"convertToInteractive('df-9a3c6822-9457-47c4-b003-f83fdf29763c')\"\n",
              "              title=\"Convert this dataframe to an interactive table.\"\n",
              "              style=\"display:none;\">\n",
              "        \n",
              "  <svg xmlns=\"http://www.w3.org/2000/svg\" height=\"24px\"viewBox=\"0 0 24 24\"\n",
              "       width=\"24px\">\n",
              "    <path d=\"M0 0h24v24H0V0z\" fill=\"none\"/>\n",
              "    <path d=\"M18.56 5.44l.94 2.06.94-2.06 2.06-.94-2.06-.94-.94-2.06-.94 2.06-2.06.94zm-11 1L8.5 8.5l.94-2.06 2.06-.94-2.06-.94L8.5 2.5l-.94 2.06-2.06.94zm10 10l.94 2.06.94-2.06 2.06-.94-2.06-.94-.94-2.06-.94 2.06-2.06.94z\"/><path d=\"M17.41 7.96l-1.37-1.37c-.4-.4-.92-.59-1.43-.59-.52 0-1.04.2-1.43.59L10.3 9.45l-7.72 7.72c-.78.78-.78 2.05 0 2.83L4 21.41c.39.39.9.59 1.41.59.51 0 1.02-.2 1.41-.59l7.78-7.78 2.81-2.81c.8-.78.8-2.07 0-2.86zM5.41 20L4 18.59l7.72-7.72 1.47 1.35L5.41 20z\"/>\n",
              "  </svg>\n",
              "      </button>\n",
              "      \n",
              "  <style>\n",
              "    .colab-df-container {\n",
              "      display:flex;\n",
              "      flex-wrap:wrap;\n",
              "      gap: 12px;\n",
              "    }\n",
              "\n",
              "    .colab-df-convert {\n",
              "      background-color: #E8F0FE;\n",
              "      border: none;\n",
              "      border-radius: 50%;\n",
              "      cursor: pointer;\n",
              "      display: none;\n",
              "      fill: #1967D2;\n",
              "      height: 32px;\n",
              "      padding: 0 0 0 0;\n",
              "      width: 32px;\n",
              "    }\n",
              "\n",
              "    .colab-df-convert:hover {\n",
              "      background-color: #E2EBFA;\n",
              "      box-shadow: 0px 1px 2px rgba(60, 64, 67, 0.3), 0px 1px 3px 1px rgba(60, 64, 67, 0.15);\n",
              "      fill: #174EA6;\n",
              "    }\n",
              "\n",
              "    [theme=dark] .colab-df-convert {\n",
              "      background-color: #3B4455;\n",
              "      fill: #D2E3FC;\n",
              "    }\n",
              "\n",
              "    [theme=dark] .colab-df-convert:hover {\n",
              "      background-color: #434B5C;\n",
              "      box-shadow: 0px 1px 3px 1px rgba(0, 0, 0, 0.15);\n",
              "      filter: drop-shadow(0px 1px 2px rgba(0, 0, 0, 0.3));\n",
              "      fill: #FFFFFF;\n",
              "    }\n",
              "  </style>\n",
              "\n",
              "      <script>\n",
              "        const buttonEl =\n",
              "          document.querySelector('#df-9a3c6822-9457-47c4-b003-f83fdf29763c button.colab-df-convert');\n",
              "        buttonEl.style.display =\n",
              "          google.colab.kernel.accessAllowed ? 'block' : 'none';\n",
              "\n",
              "        async function convertToInteractive(key) {\n",
              "          const element = document.querySelector('#df-9a3c6822-9457-47c4-b003-f83fdf29763c');\n",
              "          const dataTable =\n",
              "            await google.colab.kernel.invokeFunction('convertToInteractive',\n",
              "                                                     [key], {});\n",
              "          if (!dataTable) return;\n",
              "\n",
              "          const docLinkHtml = 'Like what you see? Visit the ' +\n",
              "            '<a target=\"_blank\" href=https://colab.research.google.com/notebooks/data_table.ipynb>data table notebook</a>'\n",
              "            + ' to learn more about interactive tables.';\n",
              "          element.innerHTML = '';\n",
              "          dataTable['output_type'] = 'display_data';\n",
              "          await google.colab.output.renderOutput(dataTable, element);\n",
              "          const docLink = document.createElement('div');\n",
              "          docLink.innerHTML = docLinkHtml;\n",
              "          element.appendChild(docLink);\n",
              "        }\n",
              "      </script>\n",
              "    </div>\n",
              "  </div>\n",
              "  "
            ]
          },
          "metadata": {},
          "execution_count": 55
        }
      ]
    },
    {
      "cell_type": "markdown",
      "source": [
        "#### 객단가"
      ],
      "metadata": {
        "id": "K7oE5guZNbWJ"
      }
    },
    {
      "cell_type": "code",
      "source": [
        "# 객단가 item_per_price 계산\n",
        "user_total['item_per_price'] = user_total['price'] / user_total['item_no']\n",
        "user_total['item_per_price'].fillna(0, inplace=True)\n",
        "\n",
        "# 상품 구매 갯수 이름 변경, item_no => buy_cnt\n",
        "user_total.rename(columns = {'item_no' : 'buy_cnt'}, inplace=True)"
      ],
      "metadata": {
        "id": "Q3_J28UwNbZf"
      },
      "execution_count": null,
      "outputs": []
    },
    {
      "cell_type": "markdown",
      "source": [
        "#### 시간대"
      ],
      "metadata": {
        "id": "J3s5cYLAQBcW"
      }
    },
    {
      "cell_type": "code",
      "source": [
        "# 전체 유저no\n",
        "all_user_no = final[['user_no']]\n",
        "\n",
        "# 0시 구매자 테이블\n",
        "zero_cnt = final[(final['event_hour'] == 0) & (final['event_name'] == 'purchase_success')].groupby(['user_no'])['item_no'].count().reset_index().rename(columns={'item_no' : '0시'})\n",
        "\n",
        "# 전체 유저no & 0시 구매자 테이블 합치기\n",
        "hour_p_cnt = all_user_no.merge(zero_cnt,on='user_no', how='left')"
      ],
      "metadata": {
        "id": "kX8QR334SW4c"
      },
      "execution_count": null,
      "outputs": []
    },
    {
      "cell_type": "code",
      "source": [
        "# 각 유저 시간대 별 구매 개수 테이블\n",
        "for hour in final['event_hour'].unique()[1:]:\n",
        "    hour_cnt =  final[(final['event_hour'] == hour) & (final['event_name'] == 'purchase_success')].groupby(['user_no'])['item_no'].count().reset_index().rename(columns={'item_no' : hour})\n",
        "    hour_p_cnt = hour_p_cnt.merge(hour_cnt, on='user_no', how='left')\n",
        "\n",
        "# 비구매자 결측치 0으로 대체\n",
        "hour_p_cnt.fillna(0, inplace=True)\n",
        "# 중복 유저 no 제거\n",
        "hour_p_cnt.drop_duplicates('user_no', keep='first', inplace=True)\n",
        "# 시간대 이름 바꾸기\n",
        "hour_p_cnt.columns = ['user_no','0시','1시','2시','3시','4시','5시','6시','7시','8시','9시','10시','11시','12시','13시','14시','15시','16시','17시','18시','19시','20시','21시','22시','23시']"
      ],
      "metadata": {
        "id": "DdBeZS__SdbS"
      },
      "execution_count": null,
      "outputs": []
    },
    {
      "cell_type": "code",
      "source": [
        "# user_total과 시간대 별 구매 개수 테이블 합치기\n",
        "user_total = user_total.merge(hour_p_cnt, on='user_no', how='left')"
      ],
      "metadata": {
        "id": "u5PRtE-GSde9"
      },
      "execution_count": null,
      "outputs": []
    },
    {
      "cell_type": "code",
      "source": [
        "user_total.head(3)"
      ],
      "metadata": {
        "id": "KdUVRvpqSdiI"
      },
      "execution_count": null,
      "outputs": []
    },
    {
      "cell_type": "markdown",
      "source": [
        "## (3) Power user & Non power user 행동 차이"
      ],
      "metadata": {
        "id": "J3mS7xVFSdlR"
      }
    },
    {
      "cell_type": "code",
      "source": [
        "# 보기 쉽게 필요한 value를 한글로 변경\n",
        "user_total['buyer'] = np.where(user_total['buyer'] == 1, '구매자','비구매자')\n",
        "user_total['power_user'] = np.where(user_total['power_user'] == 1, '파워유저','논파워유저')"
      ],
      "metadata": {
        "id": "lxfdCxG-Sdoa"
      },
      "execution_count": null,
      "outputs": []
    },
    {
      "cell_type": "code",
      "source": [
        "user_total.head(2)"
      ],
      "metadata": {
        "colab": {
          "base_uri": "https://localhost:8080/",
          "height": 298
        },
        "id": "INP7PNu7aN1c",
        "outputId": "cc062dc6-2f07-460c-f426-70df4291ae19"
      },
      "execution_count": null,
      "outputs": [
        {
          "output_type": "execute_result",
          "data": {
            "text/plain": [
              "                    user_no  buy_cnt       price  user_per_percent_cum  \\\n",
              "0  b2xZVfUtjyGsZckO7j6zkg==      246  28841100.0               0.00041   \n",
              "1  anAN3a+fvEnnvFdQ61+Egw==      203  22966700.0               0.00082   \n",
              "\n",
              "   price_per_percent_cum  item_per_percent_cum power_user  click_cnt  \\\n",
              "0               0.113023              0.057958       파워유저     7534.0   \n",
              "1               0.203025              0.105785       파워유저      325.0   \n",
              "\n",
              "   cart_cnt  like_cnt buyer mobile_brand_name             region platform  \\\n",
              "0       0.0       0.0   구매자             Apple  Chungcheongnam-do      IOS   \n",
              "1     105.0       0.0   구매자           Samsung              Seoul  ANDROID   \n",
              "\n",
              "  gender  나이대     의류  생활/건강  스포츠/레저    잡화  화장품/미용  가구/인테리어   컬처  디지털/가전   식품  \\\n",
              "0      F  40대  238.0    0.0     0.0   8.0     0.0      0.0  0.0     0.0  0.0   \n",
              "1      F  40대  171.0    9.0     2.0  20.0     0.0      1.0  0.0     0.0  0.0   \n",
              "\n",
              "    키즈  반려동물  성년의날   일요일   월요일   화요일    수요일   목요일   금요일   토요일  item_per_price  \\\n",
              "0  0.0   0.0   0.0  29.0  23.0  42.0   31.0  37.0  34.0  50.0   117240.243902   \n",
              "1  0.0   0.0   0.0   0.0   0.0   0.0  190.0   0.0   0.0  13.0   113136.453202   \n",
              "\n",
              "     0시   1시    2시   3시   4시   5시    6시   7시    8시    9시   10시   11시   12시  \\\n",
              "0   7.0  8.0   5.0  0.0  0.0  0.0  10.0  6.0  12.0  13.0  12.0  13.0  10.0   \n",
              "1  13.0  0.0  13.0  0.0  0.0  0.0   0.0  0.0   0.0   0.0   0.0   0.0   0.0   \n",
              "\n",
              "    13시   14시   15시   16시   17시   18시  19시   20시  21시   22시    23시  \n",
              "0  14.0  12.0  15.0  19.0  19.0  18.0  8.0  17.0  6.0  15.0    7.0  \n",
              "1   0.0   0.0   0.0   0.0   0.0   0.0  0.0   0.0  0.0   0.0  177.0  "
            ],
            "text/html": [
              "\n",
              "  <div id=\"df-6961ffc8-43a0-41c5-bcaa-f836c8f7c2f3\">\n",
              "    <div class=\"colab-df-container\">\n",
              "      <div>\n",
              "<style scoped>\n",
              "    .dataframe tbody tr th:only-of-type {\n",
              "        vertical-align: middle;\n",
              "    }\n",
              "\n",
              "    .dataframe tbody tr th {\n",
              "        vertical-align: top;\n",
              "    }\n",
              "\n",
              "    .dataframe thead th {\n",
              "        text-align: right;\n",
              "    }\n",
              "</style>\n",
              "<table border=\"1\" class=\"dataframe\">\n",
              "  <thead>\n",
              "    <tr style=\"text-align: right;\">\n",
              "      <th></th>\n",
              "      <th>user_no</th>\n",
              "      <th>buy_cnt</th>\n",
              "      <th>price</th>\n",
              "      <th>user_per_percent_cum</th>\n",
              "      <th>price_per_percent_cum</th>\n",
              "      <th>item_per_percent_cum</th>\n",
              "      <th>power_user</th>\n",
              "      <th>click_cnt</th>\n",
              "      <th>cart_cnt</th>\n",
              "      <th>like_cnt</th>\n",
              "      <th>buyer</th>\n",
              "      <th>mobile_brand_name</th>\n",
              "      <th>region</th>\n",
              "      <th>platform</th>\n",
              "      <th>gender</th>\n",
              "      <th>나이대</th>\n",
              "      <th>의류</th>\n",
              "      <th>생활/건강</th>\n",
              "      <th>스포츠/레저</th>\n",
              "      <th>잡화</th>\n",
              "      <th>화장품/미용</th>\n",
              "      <th>가구/인테리어</th>\n",
              "      <th>컬처</th>\n",
              "      <th>디지털/가전</th>\n",
              "      <th>식품</th>\n",
              "      <th>키즈</th>\n",
              "      <th>반려동물</th>\n",
              "      <th>성년의날</th>\n",
              "      <th>일요일</th>\n",
              "      <th>월요일</th>\n",
              "      <th>화요일</th>\n",
              "      <th>수요일</th>\n",
              "      <th>목요일</th>\n",
              "      <th>금요일</th>\n",
              "      <th>토요일</th>\n",
              "      <th>item_per_price</th>\n",
              "      <th>0시</th>\n",
              "      <th>1시</th>\n",
              "      <th>2시</th>\n",
              "      <th>3시</th>\n",
              "      <th>4시</th>\n",
              "      <th>5시</th>\n",
              "      <th>6시</th>\n",
              "      <th>7시</th>\n",
              "      <th>8시</th>\n",
              "      <th>9시</th>\n",
              "      <th>10시</th>\n",
              "      <th>11시</th>\n",
              "      <th>12시</th>\n",
              "      <th>13시</th>\n",
              "      <th>14시</th>\n",
              "      <th>15시</th>\n",
              "      <th>16시</th>\n",
              "      <th>17시</th>\n",
              "      <th>18시</th>\n",
              "      <th>19시</th>\n",
              "      <th>20시</th>\n",
              "      <th>21시</th>\n",
              "      <th>22시</th>\n",
              "      <th>23시</th>\n",
              "    </tr>\n",
              "  </thead>\n",
              "  <tbody>\n",
              "    <tr>\n",
              "      <th>0</th>\n",
              "      <td>b2xZVfUtjyGsZckO7j6zkg==</td>\n",
              "      <td>246</td>\n",
              "      <td>28841100.0</td>\n",
              "      <td>0.00041</td>\n",
              "      <td>0.113023</td>\n",
              "      <td>0.057958</td>\n",
              "      <td>파워유저</td>\n",
              "      <td>7534.0</td>\n",
              "      <td>0.0</td>\n",
              "      <td>0.0</td>\n",
              "      <td>구매자</td>\n",
              "      <td>Apple</td>\n",
              "      <td>Chungcheongnam-do</td>\n",
              "      <td>IOS</td>\n",
              "      <td>F</td>\n",
              "      <td>40대</td>\n",
              "      <td>238.0</td>\n",
              "      <td>0.0</td>\n",
              "      <td>0.0</td>\n",
              "      <td>8.0</td>\n",
              "      <td>0.0</td>\n",
              "      <td>0.0</td>\n",
              "      <td>0.0</td>\n",
              "      <td>0.0</td>\n",
              "      <td>0.0</td>\n",
              "      <td>0.0</td>\n",
              "      <td>0.0</td>\n",
              "      <td>0.0</td>\n",
              "      <td>29.0</td>\n",
              "      <td>23.0</td>\n",
              "      <td>42.0</td>\n",
              "      <td>31.0</td>\n",
              "      <td>37.0</td>\n",
              "      <td>34.0</td>\n",
              "      <td>50.0</td>\n",
              "      <td>117240.243902</td>\n",
              "      <td>7.0</td>\n",
              "      <td>8.0</td>\n",
              "      <td>5.0</td>\n",
              "      <td>0.0</td>\n",
              "      <td>0.0</td>\n",
              "      <td>0.0</td>\n",
              "      <td>10.0</td>\n",
              "      <td>6.0</td>\n",
              "      <td>12.0</td>\n",
              "      <td>13.0</td>\n",
              "      <td>12.0</td>\n",
              "      <td>13.0</td>\n",
              "      <td>10.0</td>\n",
              "      <td>14.0</td>\n",
              "      <td>12.0</td>\n",
              "      <td>15.0</td>\n",
              "      <td>19.0</td>\n",
              "      <td>19.0</td>\n",
              "      <td>18.0</td>\n",
              "      <td>8.0</td>\n",
              "      <td>17.0</td>\n",
              "      <td>6.0</td>\n",
              "      <td>15.0</td>\n",
              "      <td>7.0</td>\n",
              "    </tr>\n",
              "    <tr>\n",
              "      <th>1</th>\n",
              "      <td>anAN3a+fvEnnvFdQ61+Egw==</td>\n",
              "      <td>203</td>\n",
              "      <td>22966700.0</td>\n",
              "      <td>0.00082</td>\n",
              "      <td>0.203025</td>\n",
              "      <td>0.105785</td>\n",
              "      <td>파워유저</td>\n",
              "      <td>325.0</td>\n",
              "      <td>105.0</td>\n",
              "      <td>0.0</td>\n",
              "      <td>구매자</td>\n",
              "      <td>Samsung</td>\n",
              "      <td>Seoul</td>\n",
              "      <td>ANDROID</td>\n",
              "      <td>F</td>\n",
              "      <td>40대</td>\n",
              "      <td>171.0</td>\n",
              "      <td>9.0</td>\n",
              "      <td>2.0</td>\n",
              "      <td>20.0</td>\n",
              "      <td>0.0</td>\n",
              "      <td>1.0</td>\n",
              "      <td>0.0</td>\n",
              "      <td>0.0</td>\n",
              "      <td>0.0</td>\n",
              "      <td>0.0</td>\n",
              "      <td>0.0</td>\n",
              "      <td>0.0</td>\n",
              "      <td>0.0</td>\n",
              "      <td>0.0</td>\n",
              "      <td>0.0</td>\n",
              "      <td>190.0</td>\n",
              "      <td>0.0</td>\n",
              "      <td>0.0</td>\n",
              "      <td>13.0</td>\n",
              "      <td>113136.453202</td>\n",
              "      <td>13.0</td>\n",
              "      <td>0.0</td>\n",
              "      <td>13.0</td>\n",
              "      <td>0.0</td>\n",
              "      <td>0.0</td>\n",
              "      <td>0.0</td>\n",
              "      <td>0.0</td>\n",
              "      <td>0.0</td>\n",
              "      <td>0.0</td>\n",
              "      <td>0.0</td>\n",
              "      <td>0.0</td>\n",
              "      <td>0.0</td>\n",
              "      <td>0.0</td>\n",
              "      <td>0.0</td>\n",
              "      <td>0.0</td>\n",
              "      <td>0.0</td>\n",
              "      <td>0.0</td>\n",
              "      <td>0.0</td>\n",
              "      <td>0.0</td>\n",
              "      <td>0.0</td>\n",
              "      <td>0.0</td>\n",
              "      <td>0.0</td>\n",
              "      <td>0.0</td>\n",
              "      <td>177.0</td>\n",
              "    </tr>\n",
              "  </tbody>\n",
              "</table>\n",
              "</div>\n",
              "      <button class=\"colab-df-convert\" onclick=\"convertToInteractive('df-6961ffc8-43a0-41c5-bcaa-f836c8f7c2f3')\"\n",
              "              title=\"Convert this dataframe to an interactive table.\"\n",
              "              style=\"display:none;\">\n",
              "        \n",
              "  <svg xmlns=\"http://www.w3.org/2000/svg\" height=\"24px\"viewBox=\"0 0 24 24\"\n",
              "       width=\"24px\">\n",
              "    <path d=\"M0 0h24v24H0V0z\" fill=\"none\"/>\n",
              "    <path d=\"M18.56 5.44l.94 2.06.94-2.06 2.06-.94-2.06-.94-.94-2.06-.94 2.06-2.06.94zm-11 1L8.5 8.5l.94-2.06 2.06-.94-2.06-.94L8.5 2.5l-.94 2.06-2.06.94zm10 10l.94 2.06.94-2.06 2.06-.94-2.06-.94-.94-2.06-.94 2.06-2.06.94z\"/><path d=\"M17.41 7.96l-1.37-1.37c-.4-.4-.92-.59-1.43-.59-.52 0-1.04.2-1.43.59L10.3 9.45l-7.72 7.72c-.78.78-.78 2.05 0 2.83L4 21.41c.39.39.9.59 1.41.59.51 0 1.02-.2 1.41-.59l7.78-7.78 2.81-2.81c.8-.78.8-2.07 0-2.86zM5.41 20L4 18.59l7.72-7.72 1.47 1.35L5.41 20z\"/>\n",
              "  </svg>\n",
              "      </button>\n",
              "      \n",
              "  <style>\n",
              "    .colab-df-container {\n",
              "      display:flex;\n",
              "      flex-wrap:wrap;\n",
              "      gap: 12px;\n",
              "    }\n",
              "\n",
              "    .colab-df-convert {\n",
              "      background-color: #E8F0FE;\n",
              "      border: none;\n",
              "      border-radius: 50%;\n",
              "      cursor: pointer;\n",
              "      display: none;\n",
              "      fill: #1967D2;\n",
              "      height: 32px;\n",
              "      padding: 0 0 0 0;\n",
              "      width: 32px;\n",
              "    }\n",
              "\n",
              "    .colab-df-convert:hover {\n",
              "      background-color: #E2EBFA;\n",
              "      box-shadow: 0px 1px 2px rgba(60, 64, 67, 0.3), 0px 1px 3px 1px rgba(60, 64, 67, 0.15);\n",
              "      fill: #174EA6;\n",
              "    }\n",
              "\n",
              "    [theme=dark] .colab-df-convert {\n",
              "      background-color: #3B4455;\n",
              "      fill: #D2E3FC;\n",
              "    }\n",
              "\n",
              "    [theme=dark] .colab-df-convert:hover {\n",
              "      background-color: #434B5C;\n",
              "      box-shadow: 0px 1px 3px 1px rgba(0, 0, 0, 0.15);\n",
              "      filter: drop-shadow(0px 1px 2px rgba(0, 0, 0, 0.3));\n",
              "      fill: #FFFFFF;\n",
              "    }\n",
              "  </style>\n",
              "\n",
              "      <script>\n",
              "        const buttonEl =\n",
              "          document.querySelector('#df-6961ffc8-43a0-41c5-bcaa-f836c8f7c2f3 button.colab-df-convert');\n",
              "        buttonEl.style.display =\n",
              "          google.colab.kernel.accessAllowed ? 'block' : 'none';\n",
              "\n",
              "        async function convertToInteractive(key) {\n",
              "          const element = document.querySelector('#df-6961ffc8-43a0-41c5-bcaa-f836c8f7c2f3');\n",
              "          const dataTable =\n",
              "            await google.colab.kernel.invokeFunction('convertToInteractive',\n",
              "                                                     [key], {});\n",
              "          if (!dataTable) return;\n",
              "\n",
              "          const docLinkHtml = 'Like what you see? Visit the ' +\n",
              "            '<a target=\"_blank\" href=https://colab.research.google.com/notebooks/data_table.ipynb>data table notebook</a>'\n",
              "            + ' to learn more about interactive tables.';\n",
              "          element.innerHTML = '';\n",
              "          dataTable['output_type'] = 'display_data';\n",
              "          await google.colab.output.renderOutput(dataTable, element);\n",
              "          const docLink = document.createElement('div');\n",
              "          docLink.innerHTML = docLinkHtml;\n",
              "          element.appendChild(docLink);\n",
              "        }\n",
              "      </script>\n",
              "    </div>\n",
              "  </div>\n",
              "  "
            ]
          },
          "metadata": {},
          "execution_count": 56
        }
      ]
    },
    {
      "cell_type": "markdown",
      "source": [
        "### event & 구매 금액"
      ],
      "metadata": {
        "id": "AEnMzv-0qEt_"
      }
    },
    {
      "cell_type": "markdown",
      "source": [
        "#### 구매자 & 비구매자 포함"
      ],
      "metadata": {
        "id": "ZZ7J26eRzw4f"
      }
    },
    {
      "cell_type": "code",
      "source": [
        "# 행동 패턴\n",
        "\n",
        "action = np.round(user_total.pivot_table(index = ['power_user'], values = ['buy_cnt','click_cnt','cart_cnt','like_cnt','price','item_per_price'] ,aggfunc='mean'), 2)\n",
        "action = action[['click_cnt','cart_cnt','like_cnt','buy_cnt','price','item_per_price']]\n",
        "action.rename(columns = {'click_cnt' : '인당클릭수', 'cart_cnt':'인당장바구니수','like_cnt':'인당좋아요수', 'buy_cnt':'인당구매수','price':'총구매금액','item_per_price':'객단가'})\n",
        "\n",
        "# click user 대비 -> cart, like_cnt ,buy_cnt (취약점 찾기)\n",
        "# 이탈률(click->cart) (어디가 취약점인지)"
      ],
      "metadata": {
        "colab": {
          "base_uri": "https://localhost:8080/",
          "height": 143
        },
        "id": "Y5PetB9HSdvS",
        "outputId": "667cfe58-3cbd-4a7a-fd74-3f18074c5ac9"
      },
      "execution_count": null,
      "outputs": [
        {
          "output_type": "execute_result",
          "data": {
            "text/plain": [
              "            인당클릭수  인당장바구니수  인당좋아요수  인당구매수      총구매금액       객단가\n",
              "power_user                                                    \n",
              "논파워유저       11.35     0.65    0.55   0.58   27605.67  21967.79\n",
              "파워유저        38.93     3.40    1.62   5.32  343198.60  82557.92"
            ],
            "text/html": [
              "\n",
              "  <div id=\"df-49b5ac98-5bd1-4a1a-b511-944e51e0f662\">\n",
              "    <div class=\"colab-df-container\">\n",
              "      <div>\n",
              "<style scoped>\n",
              "    .dataframe tbody tr th:only-of-type {\n",
              "        vertical-align: middle;\n",
              "    }\n",
              "\n",
              "    .dataframe tbody tr th {\n",
              "        vertical-align: top;\n",
              "    }\n",
              "\n",
              "    .dataframe thead th {\n",
              "        text-align: right;\n",
              "    }\n",
              "</style>\n",
              "<table border=\"1\" class=\"dataframe\">\n",
              "  <thead>\n",
              "    <tr style=\"text-align: right;\">\n",
              "      <th></th>\n",
              "      <th>인당클릭수</th>\n",
              "      <th>인당장바구니수</th>\n",
              "      <th>인당좋아요수</th>\n",
              "      <th>인당구매수</th>\n",
              "      <th>총구매금액</th>\n",
              "      <th>객단가</th>\n",
              "    </tr>\n",
              "    <tr>\n",
              "      <th>power_user</th>\n",
              "      <th></th>\n",
              "      <th></th>\n",
              "      <th></th>\n",
              "      <th></th>\n",
              "      <th></th>\n",
              "      <th></th>\n",
              "    </tr>\n",
              "  </thead>\n",
              "  <tbody>\n",
              "    <tr>\n",
              "      <th>논파워유저</th>\n",
              "      <td>11.35</td>\n",
              "      <td>0.65</td>\n",
              "      <td>0.55</td>\n",
              "      <td>0.58</td>\n",
              "      <td>27605.67</td>\n",
              "      <td>21967.79</td>\n",
              "    </tr>\n",
              "    <tr>\n",
              "      <th>파워유저</th>\n",
              "      <td>38.93</td>\n",
              "      <td>3.40</td>\n",
              "      <td>1.62</td>\n",
              "      <td>5.32</td>\n",
              "      <td>343198.60</td>\n",
              "      <td>82557.92</td>\n",
              "    </tr>\n",
              "  </tbody>\n",
              "</table>\n",
              "</div>\n",
              "      <button class=\"colab-df-convert\" onclick=\"convertToInteractive('df-49b5ac98-5bd1-4a1a-b511-944e51e0f662')\"\n",
              "              title=\"Convert this dataframe to an interactive table.\"\n",
              "              style=\"display:none;\">\n",
              "        \n",
              "  <svg xmlns=\"http://www.w3.org/2000/svg\" height=\"24px\"viewBox=\"0 0 24 24\"\n",
              "       width=\"24px\">\n",
              "    <path d=\"M0 0h24v24H0V0z\" fill=\"none\"/>\n",
              "    <path d=\"M18.56 5.44l.94 2.06.94-2.06 2.06-.94-2.06-.94-.94-2.06-.94 2.06-2.06.94zm-11 1L8.5 8.5l.94-2.06 2.06-.94-2.06-.94L8.5 2.5l-.94 2.06-2.06.94zm10 10l.94 2.06.94-2.06 2.06-.94-2.06-.94-.94-2.06-.94 2.06-2.06.94z\"/><path d=\"M17.41 7.96l-1.37-1.37c-.4-.4-.92-.59-1.43-.59-.52 0-1.04.2-1.43.59L10.3 9.45l-7.72 7.72c-.78.78-.78 2.05 0 2.83L4 21.41c.39.39.9.59 1.41.59.51 0 1.02-.2 1.41-.59l7.78-7.78 2.81-2.81c.8-.78.8-2.07 0-2.86zM5.41 20L4 18.59l7.72-7.72 1.47 1.35L5.41 20z\"/>\n",
              "  </svg>\n",
              "      </button>\n",
              "      \n",
              "  <style>\n",
              "    .colab-df-container {\n",
              "      display:flex;\n",
              "      flex-wrap:wrap;\n",
              "      gap: 12px;\n",
              "    }\n",
              "\n",
              "    .colab-df-convert {\n",
              "      background-color: #E8F0FE;\n",
              "      border: none;\n",
              "      border-radius: 50%;\n",
              "      cursor: pointer;\n",
              "      display: none;\n",
              "      fill: #1967D2;\n",
              "      height: 32px;\n",
              "      padding: 0 0 0 0;\n",
              "      width: 32px;\n",
              "    }\n",
              "\n",
              "    .colab-df-convert:hover {\n",
              "      background-color: #E2EBFA;\n",
              "      box-shadow: 0px 1px 2px rgba(60, 64, 67, 0.3), 0px 1px 3px 1px rgba(60, 64, 67, 0.15);\n",
              "      fill: #174EA6;\n",
              "    }\n",
              "\n",
              "    [theme=dark] .colab-df-convert {\n",
              "      background-color: #3B4455;\n",
              "      fill: #D2E3FC;\n",
              "    }\n",
              "\n",
              "    [theme=dark] .colab-df-convert:hover {\n",
              "      background-color: #434B5C;\n",
              "      box-shadow: 0px 1px 3px 1px rgba(0, 0, 0, 0.15);\n",
              "      filter: drop-shadow(0px 1px 2px rgba(0, 0, 0, 0.3));\n",
              "      fill: #FFFFFF;\n",
              "    }\n",
              "  </style>\n",
              "\n",
              "      <script>\n",
              "        const buttonEl =\n",
              "          document.querySelector('#df-49b5ac98-5bd1-4a1a-b511-944e51e0f662 button.colab-df-convert');\n",
              "        buttonEl.style.display =\n",
              "          google.colab.kernel.accessAllowed ? 'block' : 'none';\n",
              "\n",
              "        async function convertToInteractive(key) {\n",
              "          const element = document.querySelector('#df-49b5ac98-5bd1-4a1a-b511-944e51e0f662');\n",
              "          const dataTable =\n",
              "            await google.colab.kernel.invokeFunction('convertToInteractive',\n",
              "                                                     [key], {});\n",
              "          if (!dataTable) return;\n",
              "\n",
              "          const docLinkHtml = 'Like what you see? Visit the ' +\n",
              "            '<a target=\"_blank\" href=https://colab.research.google.com/notebooks/data_table.ipynb>data table notebook</a>'\n",
              "            + ' to learn more about interactive tables.';\n",
              "          element.innerHTML = '';\n",
              "          dataTable['output_type'] = 'display_data';\n",
              "          await google.colab.output.renderOutput(dataTable, element);\n",
              "          const docLink = document.createElement('div');\n",
              "          docLink.innerHTML = docLinkHtml;\n",
              "          element.appendChild(docLink);\n",
              "        }\n",
              "      </script>\n",
              "    </div>\n",
              "  </div>\n",
              "  "
            ]
          },
          "metadata": {},
          "execution_count": 104
        }
      ]
    },
    {
      "cell_type": "code",
      "source": [
        "f,ax = plt.subplots(1,2, figsize=(12,5))\n",
        "\n",
        "action.iloc[:,:-2].plot.bar(fontsize=12, ax=ax[0])\n",
        "ax[0].set_title('유저 별 행동', fontsize=15)\n",
        "\n",
        "action.iloc[:,-2:].plot.bar(fontsize=12, ax=ax[1])\n",
        "plt.title('구매금액 vs 객단가', fontsize=15)\n",
        "plt.show()"
      ],
      "metadata": {
        "colab": {
          "base_uri": "https://localhost:8080/",
          "height": 395
        },
        "id": "7hzXb7XU2oZK",
        "outputId": "eeadf4c9-e49a-4237-f0fb-a1f8e4a23919"
      },
      "execution_count": null,
      "outputs": [
        {
          "output_type": "display_data",
          "data": {
            "text/plain": [
              "<Figure size 864x360 with 2 Axes>"
            ],
            "image/png": "[encoded data removed]"
          },
          "metadata": {
            "needs_background": "light"
          }
        }
      ]
    },
    {
      "cell_type": "markdown",
      "source": [
        "**유저 별 행동**\n",
        "- 전환 퍼널 5단계를 살펴봤을 때, 본 데이터로는 클릭 -> 장바구니/좋아요 -> 구매 순이라고 이해할 수 있으며, 넘어갈 수록 이탈률이 증가된다.\n",
        "- 그러나, 위의 데이터를 살펴보면, 논파워유저는 그런 성향을 띄고 있지만, 파워유저는 클릭에서 장바구니/좋아요는 적어졌지만, 구매에서는 오히려 많아졌다.\n",
        "- 즉, 파워유저는 클릭에서 장바구니/좋아요를 거치는 횟수보다, 즉시 구매 전환을 이루는 구매 패턴을 보이고 있다.\n",
        "\n",
        "\n",
        "**구매금액 vs 객단가**\n",
        "- **논파워유저**는 총 구매금액과 객단가에서 큰 차이를 보이지 않고, 금액이 크지 않다.\n",
        "    - 즉,논파워유저는 높은 금액의 상품을 사지 않고, 많이 사지도 않는다.\n",
        "    - 그러나, 논파워유저에는 구매자와 비구매자 고객들이 모두 존재하기에, 추후 구매자, 비구매자를 구분해서 살펴보아야 할 필요성이 있다.\n",
        "\n",
        "- 반면에, **파워유저**는 비싼 물품을 많이 산다. 총구매금액과 객단가 또한 약 4배의 차이를 보이고 있다."
      ],
      "metadata": {
        "id": "4gqi-QyEThHZ"
      }
    },
    {
      "cell_type": "markdown",
      "source": [
        "#### 구매자 & 비구매자 구분"
      ],
      "metadata": {
        "id": "J2smNlYNz163"
      }
    },
    {
      "cell_type": "code",
      "source": [
        "# 행동 패턴\n",
        "\n",
        "action = np.round(user_total.pivot_table(index = ['power_user','buyer'], values = ['buy_cnt','click_cnt','cart_cnt','like_cnt','price','item_per_price'] ,aggfunc='mean'), 2)\n",
        "action = action[['click_cnt','cart_cnt','like_cnt','buy_cnt','price','item_per_price']]\n",
        "action.rename(columns = {'click_cnt' : '인당클릭수', 'cart_cnt':'인당장바구니수','like_cnt':'인당좋아요수', 'buy_cnt':'인당구매수','price':'총구매금액','item_per_price':'객단가'})"
      ],
      "metadata": {
        "colab": {
          "base_uri": "https://localhost:8080/",
          "height": 175
        },
        "id": "X9SXPn91z3Zv",
        "outputId": "55c6c561-f24f-4baa-c34b-485062af0bdb"
      },
      "execution_count": null,
      "outputs": [
        {
          "output_type": "execute_result",
          "data": {
            "text/plain": [
              "                  인당클릭수  인당장바구니수  인당좋아요수  인당구매수      총구매금액       객단가\n",
              "power_user buyer                                                    \n",
              "논파워유저      구매자     9.98     0.67    0.46   1.37   64619.22  51422.10\n",
              "           비구매자   12.38     0.64    0.61   0.00       0.00      0.00\n",
              "파워유저       구매자    38.93     3.40    1.62   5.32  343198.60  82557.92"
            ],
            "text/html": [
              "\n",
              "  <div id=\"df-98289e15-8d65-4a55-949f-9e6694008ee0\">\n",
              "    <div class=\"colab-df-container\">\n",
              "      <div>\n",
              "<style scoped>\n",
              "    .dataframe tbody tr th:only-of-type {\n",
              "        vertical-align: middle;\n",
              "    }\n",
              "\n",
              "    .dataframe tbody tr th {\n",
              "        vertical-align: top;\n",
              "    }\n",
              "\n",
              "    .dataframe thead th {\n",
              "        text-align: right;\n",
              "    }\n",
              "</style>\n",
              "<table border=\"1\" class=\"dataframe\">\n",
              "  <thead>\n",
              "    <tr style=\"text-align: right;\">\n",
              "      <th></th>\n",
              "      <th></th>\n",
              "      <th>인당클릭수</th>\n",
              "      <th>인당장바구니수</th>\n",
              "      <th>인당좋아요수</th>\n",
              "      <th>인당구매수</th>\n",
              "      <th>총구매금액</th>\n",
              "      <th>객단가</th>\n",
              "    </tr>\n",
              "    <tr>\n",
              "      <th>power_user</th>\n",
              "      <th>buyer</th>\n",
              "      <th></th>\n",
              "      <th></th>\n",
              "      <th></th>\n",
              "      <th></th>\n",
              "      <th></th>\n",
              "      <th></th>\n",
              "    </tr>\n",
              "  </thead>\n",
              "  <tbody>\n",
              "    <tr>\n",
              "      <th rowspan=\"2\" valign=\"top\">논파워유저</th>\n",
              "      <th>구매자</th>\n",
              "      <td>9.98</td>\n",
              "      <td>0.67</td>\n",
              "      <td>0.46</td>\n",
              "      <td>1.37</td>\n",
              "      <td>64619.22</td>\n",
              "      <td>51422.10</td>\n",
              "    </tr>\n",
              "    <tr>\n",
              "      <th>비구매자</th>\n",
              "      <td>12.38</td>\n",
              "      <td>0.64</td>\n",
              "      <td>0.61</td>\n",
              "      <td>0.00</td>\n",
              "      <td>0.00</td>\n",
              "      <td>0.00</td>\n",
              "    </tr>\n",
              "    <tr>\n",
              "      <th>파워유저</th>\n",
              "      <th>구매자</th>\n",
              "      <td>38.93</td>\n",
              "      <td>3.40</td>\n",
              "      <td>1.62</td>\n",
              "      <td>5.32</td>\n",
              "      <td>343198.60</td>\n",
              "      <td>82557.92</td>\n",
              "    </tr>\n",
              "  </tbody>\n",
              "</table>\n",
              "</div>\n",
              "      <button class=\"colab-df-convert\" onclick=\"convertToInteractive('df-98289e15-8d65-4a55-949f-9e6694008ee0')\"\n",
              "              title=\"Convert this dataframe to an interactive table.\"\n",
              "              style=\"display:none;\">\n",
              "        \n",
              "  <svg xmlns=\"http://www.w3.org/2000/svg\" height=\"24px\"viewBox=\"0 0 24 24\"\n",
              "       width=\"24px\">\n",
              "    <path d=\"M0 0h24v24H0V0z\" fill=\"none\"/>\n",
              "    <path d=\"M18.56 5.44l.94 2.06.94-2.06 2.06-.94-2.06-.94-.94-2.06-.94 2.06-2.06.94zm-11 1L8.5 8.5l.94-2.06 2.06-.94-2.06-.94L8.5 2.5l-.94 2.06-2.06.94zm10 10l.94 2.06.94-2.06 2.06-.94-2.06-.94-.94-2.06-.94 2.06-2.06.94z\"/><path d=\"M17.41 7.96l-1.37-1.37c-.4-.4-.92-.59-1.43-.59-.52 0-1.04.2-1.43.59L10.3 9.45l-7.72 7.72c-.78.78-.78 2.05 0 2.83L4 21.41c.39.39.9.59 1.41.59.51 0 1.02-.2 1.41-.59l7.78-7.78 2.81-2.81c.8-.78.8-2.07 0-2.86zM5.41 20L4 18.59l7.72-7.72 1.47 1.35L5.41 20z\"/>\n",
              "  </svg>\n",
              "      </button>\n",
              "      \n",
              "  <style>\n",
              "    .colab-df-container {\n",
              "      display:flex;\n",
              "      flex-wrap:wrap;\n",
              "      gap: 12px;\n",
              "    }\n",
              "\n",
              "    .colab-df-convert {\n",
              "      background-color: #E8F0FE;\n",
              "      border: none;\n",
              "      border-radius: 50%;\n",
              "      cursor: pointer;\n",
              "      display: none;\n",
              "      fill: #1967D2;\n",
              "      height: 32px;\n",
              "      padding: 0 0 0 0;\n",
              "      width: 32px;\n",
              "    }\n",
              "\n",
              "    .colab-df-convert:hover {\n",
              "      background-color: #E2EBFA;\n",
              "      box-shadow: 0px 1px 2px rgba(60, 64, 67, 0.3), 0px 1px 3px 1px rgba(60, 64, 67, 0.15);\n",
              "      fill: #174EA6;\n",
              "    }\n",
              "\n",
              "    [theme=dark] .colab-df-convert {\n",
              "      background-color: #3B4455;\n",
              "      fill: #D2E3FC;\n",
              "    }\n",
              "\n",
              "    [theme=dark] .colab-df-convert:hover {\n",
              "      background-color: #434B5C;\n",
              "      box-shadow: 0px 1px 3px 1px rgba(0, 0, 0, 0.15);\n",
              "      filter: drop-shadow(0px 1px 2px rgba(0, 0, 0, 0.3));\n",
              "      fill: #FFFFFF;\n",
              "    }\n",
              "  </style>\n",
              "\n",
              "      <script>\n",
              "        const buttonEl =\n",
              "          document.querySelector('#df-98289e15-8d65-4a55-949f-9e6694008ee0 button.colab-df-convert');\n",
              "        buttonEl.style.display =\n",
              "          google.colab.kernel.accessAllowed ? 'block' : 'none';\n",
              "\n",
              "        async function convertToInteractive(key) {\n",
              "          const element = document.querySelector('#df-98289e15-8d65-4a55-949f-9e6694008ee0');\n",
              "          const dataTable =\n",
              "            await google.colab.kernel.invokeFunction('convertToInteractive',\n",
              "                                                     [key], {});\n",
              "          if (!dataTable) return;\n",
              "\n",
              "          const docLinkHtml = 'Like what you see? Visit the ' +\n",
              "            '<a target=\"_blank\" href=https://colab.research.google.com/notebooks/data_table.ipynb>data table notebook</a>'\n",
              "            + ' to learn more about interactive tables.';\n",
              "          element.innerHTML = '';\n",
              "          dataTable['output_type'] = 'display_data';\n",
              "          await google.colab.output.renderOutput(dataTable, element);\n",
              "          const docLink = document.createElement('div');\n",
              "          docLink.innerHTML = docLinkHtml;\n",
              "          element.appendChild(docLink);\n",
              "        }\n",
              "      </script>\n",
              "    </div>\n",
              "  </div>\n",
              "  "
            ]
          },
          "metadata": {},
          "execution_count": 99
        }
      ]
    },
    {
      "cell_type": "markdown",
      "source": [
        "- 논파워유저에서 구매자, 비구매자를 구분해서 보자.\n",
        "\n",
        "**유저 별 행동**\n",
        "- 놀라운 점은, **논파워유저는 비구매자가 인당 클릭수와 인당 좋아요수가 높고, 장바구니수 또한 구매자와 큰 차이가 없다.**\n",
        "- 그러나, 실제로 구매를 하지는 않았다.\n",
        "- 이는, **비구매자**들은, 마음에 들지 않아서 많은 상품들을 살펴보거나, 혹은 구매에 있어서 신중한 성향의 사람들이라고 추측을 할 수 있다.\n",
        "\n",
        "**구매금액 vs 객단가**\n",
        "- 이를 보면, **논파워유저**에서 비구매자들이 구매자들의 총구매금액과 객단가 평균을 많이 낮춘것을 알 수 있다"
      ],
      "metadata": {
        "id": "EwS_TUWE0JCt"
      }
    },
    {
      "cell_type": "markdown",
      "source": [
        "#### 플랫폼"
      ],
      "metadata": {
        "id": "0UNg89kY2H4k"
      }
    },
    {
      "cell_type": "code",
      "source": [
        "# 행동 패턴\n",
        "\n",
        "action = np.round(user_total.pivot_table(index = ['power_user','platform'], values = ['buy_cnt','click_cnt','cart_cnt','like_cnt','price','item_per_price'] ,aggfunc='mean'), 2)\n",
        "action = action[['click_cnt','cart_cnt','like_cnt','buy_cnt','price','item_per_price']]\n",
        "action.rename(columns = {'click_cnt' : '인당클릭수', 'cart_cnt':'인당장바구니수','like_cnt':'인당좋아요수', 'buy_cnt':'인당구매수','price':'총구매금액','item_per_price':'객단가'})"
      ],
      "metadata": {
        "colab": {
          "base_uri": "https://localhost:8080/",
          "height": 206
        },
        "id": "Gnl-ecfN2H9L",
        "outputId": "110d5028-804b-4565-a12c-ebfc9d42ec88"
      },
      "execution_count": null,
      "outputs": [
        {
          "output_type": "execute_result",
          "data": {
            "text/plain": [
              "                     인당클릭수  인당장바구니수  인당좋아요수  인당구매수      총구매금액       객단가\n",
              "power_user platform                                                    \n",
              "논파워유저      ANDROID    7.72     2.53    2.11   0.51   24335.24  19375.13\n",
              "           IOS       12.62     0.00    0.00   0.61   28740.62  22867.53\n",
              "파워유저       ANDROID   36.34    14.32    6.82   5.63  370184.79  86348.55\n",
              "           IOS       39.74     0.02    0.01   5.23  334859.37  81386.55"
            ],
            "text/html": [
              "\n",
              "  <div id=\"df-be3a0e44-838d-4ae8-8cc5-cd8d85fcce04\">\n",
              "    <div class=\"colab-df-container\">\n",
              "      <div>\n",
              "<style scoped>\n",
              "    .dataframe tbody tr th:only-of-type {\n",
              "        vertical-align: middle;\n",
              "    }\n",
              "\n",
              "    .dataframe tbody tr th {\n",
              "        vertical-align: top;\n",
              "    }\n",
              "\n",
              "    .dataframe thead th {\n",
              "        text-align: right;\n",
              "    }\n",
              "</style>\n",
              "<table border=\"1\" class=\"dataframe\">\n",
              "  <thead>\n",
              "    <tr style=\"text-align: right;\">\n",
              "      <th></th>\n",
              "      <th></th>\n",
              "      <th>인당클릭수</th>\n",
              "      <th>인당장바구니수</th>\n",
              "      <th>인당좋아요수</th>\n",
              "      <th>인당구매수</th>\n",
              "      <th>총구매금액</th>\n",
              "      <th>객단가</th>\n",
              "    </tr>\n",
              "    <tr>\n",
              "      <th>power_user</th>\n",
              "      <th>platform</th>\n",
              "      <th></th>\n",
              "      <th></th>\n",
              "      <th></th>\n",
              "      <th></th>\n",
              "      <th></th>\n",
              "      <th></th>\n",
              "    </tr>\n",
              "  </thead>\n",
              "  <tbody>\n",
              "    <tr>\n",
              "      <th rowspan=\"2\" valign=\"top\">논파워유저</th>\n",
              "      <th>ANDROID</th>\n",
              "      <td>7.72</td>\n",
              "      <td>2.53</td>\n",
              "      <td>2.11</td>\n",
              "      <td>0.51</td>\n",
              "      <td>24335.24</td>\n",
              "      <td>19375.13</td>\n",
              "    </tr>\n",
              "    <tr>\n",
              "      <th>IOS</th>\n",
              "      <td>12.62</td>\n",
              "      <td>0.00</td>\n",
              "      <td>0.00</td>\n",
              "      <td>0.61</td>\n",
              "      <td>28740.62</td>\n",
              "      <td>22867.53</td>\n",
              "    </tr>\n",
              "    <tr>\n",
              "      <th rowspan=\"2\" valign=\"top\">파워유저</th>\n",
              "      <th>ANDROID</th>\n",
              "      <td>36.34</td>\n",
              "      <td>14.32</td>\n",
              "      <td>6.82</td>\n",
              "      <td>5.63</td>\n",
              "      <td>370184.79</td>\n",
              "      <td>86348.55</td>\n",
              "    </tr>\n",
              "    <tr>\n",
              "      <th>IOS</th>\n",
              "      <td>39.74</td>\n",
              "      <td>0.02</td>\n",
              "      <td>0.01</td>\n",
              "      <td>5.23</td>\n",
              "      <td>334859.37</td>\n",
              "      <td>81386.55</td>\n",
              "    </tr>\n",
              "  </tbody>\n",
              "</table>\n",
              "</div>\n",
              "      <button class=\"colab-df-convert\" onclick=\"convertToInteractive('df-be3a0e44-838d-4ae8-8cc5-cd8d85fcce04')\"\n",
              "              title=\"Convert this dataframe to an interactive table.\"\n",
              "              style=\"display:none;\">\n",
              "        \n",
              "  <svg xmlns=\"http://www.w3.org/2000/svg\" height=\"24px\"viewBox=\"0 0 24 24\"\n",
              "       width=\"24px\">\n",
              "    <path d=\"M0 0h24v24H0V0z\" fill=\"none\"/>\n",
              "    <path d=\"M18.56 5.44l.94 2.06.94-2.06 2.06-.94-2.06-.94-.94-2.06-.94 2.06-2.06.94zm-11 1L8.5 8.5l.94-2.06 2.06-.94-2.06-.94L8.5 2.5l-.94 2.06-2.06.94zm10 10l.94 2.06.94-2.06 2.06-.94-2.06-.94-.94-2.06-.94 2.06-2.06.94z\"/><path d=\"M17.41 7.96l-1.37-1.37c-.4-.4-.92-.59-1.43-.59-.52 0-1.04.2-1.43.59L10.3 9.45l-7.72 7.72c-.78.78-.78 2.05 0 2.83L4 21.41c.39.39.9.59 1.41.59.51 0 1.02-.2 1.41-.59l7.78-7.78 2.81-2.81c.8-.78.8-2.07 0-2.86zM5.41 20L4 18.59l7.72-7.72 1.47 1.35L5.41 20z\"/>\n",
              "  </svg>\n",
              "      </button>\n",
              "      \n",
              "  <style>\n",
              "    .colab-df-container {\n",
              "      display:flex;\n",
              "      flex-wrap:wrap;\n",
              "      gap: 12px;\n",
              "    }\n",
              "\n",
              "    .colab-df-convert {\n",
              "      background-color: #E8F0FE;\n",
              "      border: none;\n",
              "      border-radius: 50%;\n",
              "      cursor: pointer;\n",
              "      display: none;\n",
              "      fill: #1967D2;\n",
              "      height: 32px;\n",
              "      padding: 0 0 0 0;\n",
              "      width: 32px;\n",
              "    }\n",
              "\n",
              "    .colab-df-convert:hover {\n",
              "      background-color: #E2EBFA;\n",
              "      box-shadow: 0px 1px 2px rgba(60, 64, 67, 0.3), 0px 1px 3px 1px rgba(60, 64, 67, 0.15);\n",
              "      fill: #174EA6;\n",
              "    }\n",
              "\n",
              "    [theme=dark] .colab-df-convert {\n",
              "      background-color: #3B4455;\n",
              "      fill: #D2E3FC;\n",
              "    }\n",
              "\n",
              "    [theme=dark] .colab-df-convert:hover {\n",
              "      background-color: #434B5C;\n",
              "      box-shadow: 0px 1px 3px 1px rgba(0, 0, 0, 0.15);\n",
              "      filter: drop-shadow(0px 1px 2px rgba(0, 0, 0, 0.3));\n",
              "      fill: #FFFFFF;\n",
              "    }\n",
              "  </style>\n",
              "\n",
              "      <script>\n",
              "        const buttonEl =\n",
              "          document.querySelector('#df-be3a0e44-838d-4ae8-8cc5-cd8d85fcce04 button.colab-df-convert');\n",
              "        buttonEl.style.display =\n",
              "          google.colab.kernel.accessAllowed ? 'block' : 'none';\n",
              "\n",
              "        async function convertToInteractive(key) {\n",
              "          const element = document.querySelector('#df-be3a0e44-838d-4ae8-8cc5-cd8d85fcce04');\n",
              "          const dataTable =\n",
              "            await google.colab.kernel.invokeFunction('convertToInteractive',\n",
              "                                                     [key], {});\n",
              "          if (!dataTable) return;\n",
              "\n",
              "          const docLinkHtml = 'Like what you see? Visit the ' +\n",
              "            '<a target=\"_blank\" href=https://colab.research.google.com/notebooks/data_table.ipynb>data table notebook</a>'\n",
              "            + ' to learn more about interactive tables.';\n",
              "          element.innerHTML = '';\n",
              "          dataTable['output_type'] = 'display_data';\n",
              "          await google.colab.output.renderOutput(dataTable, element);\n",
              "          const docLink = document.createElement('div');\n",
              "          docLink.innerHTML = docLinkHtml;\n",
              "          element.appendChild(docLink);\n",
              "        }\n",
              "      </script>\n",
              "    </div>\n",
              "  </div>\n",
              "  "
            ]
          },
          "metadata": {},
          "execution_count": 100
        }
      ]
    },
    {
      "cell_type": "markdown",
      "source": [
        "**유저 별 행동**\n",
        "- **플랫폼으로 분류했을 때, IOS 유저들을 보면, 장바구니수와 좋아요 수가 거의 0의 육박한 것을 확인 할 수 있다.**\n",
        "- 이를 통해 확인해본 결과, **IOS 유저들은 6/6 ~ 7/31** 동안의 **장바구니 수와 좋아요 수는 거의 \"0\"**으로 채워져있다. => 불완전한 데이터\n",
        "\n",
        "\n",
        "\n",
        "\n",
        "- 그러므로 현재부터, 전체적으로 데이터를 볼 때, **장바구니와 좋아요는 제외**를 해서 분석을 진행한다.\n"
      ],
      "metadata": {
        "id": "5r15IJjM2MAn"
      }
    },
    {
      "cell_type": "code",
      "source": [
        "# 구매 전환률 => 인당구매수 / 인당클릭수 (클릭 대비 구매의 비율)\n",
        "\n",
        "action = np.round(user_total.pivot_table(index = ['power_user','platform'], values = ['buy_cnt','click_cnt','price','item_per_price'] ,aggfunc='mean'), 2)\n",
        "action = action[['click_cnt','buy_cnt','price','item_per_price']]\n",
        "action['구매전환률'] = np.round(action.iloc[:,1] / action.iloc[:,0] * 100, 2)\n",
        "action = action[['click_cnt','buy_cnt','구매전환률','price','item_per_price']]\n",
        "action.rename(columns = {'click_cnt' : '인당클릭수', 'buy_cnt':'인당구매수','price':'총구매금액','item_per_price':'객단가'})"
      ],
      "metadata": {
        "colab": {
          "base_uri": "https://localhost:8080/",
          "height": 206
        },
        "id": "cks_UUi-MNYL",
        "outputId": "4e3cf3eb-265c-4dba-8e85-deb0590fd0ba"
      },
      "execution_count": null,
      "outputs": [
        {
          "output_type": "execute_result",
          "data": {
            "text/plain": [
              "                     인당클릭수  인당구매수  구매전환률      총구매금액       객단가\n",
              "power_user platform                                          \n",
              "논파워유저      ANDROID    7.72   0.51   6.61   24335.24  19375.13\n",
              "           IOS       12.62   0.61   4.83   28740.62  22867.53\n",
              "파워유저       ANDROID   36.34   5.63  15.49  370184.79  86348.55\n",
              "           IOS       39.74   5.23  13.16  334859.37  81386.55"
            ],
            "text/html": [
              "\n",
              "  <div id=\"df-5d824b0d-47cd-45e8-93d2-2f9969e9aae2\">\n",
              "    <div class=\"colab-df-container\">\n",
              "      <div>\n",
              "<style scoped>\n",
              "    .dataframe tbody tr th:only-of-type {\n",
              "        vertical-align: middle;\n",
              "    }\n",
              "\n",
              "    .dataframe tbody tr th {\n",
              "        vertical-align: top;\n",
              "    }\n",
              "\n",
              "    .dataframe thead th {\n",
              "        text-align: right;\n",
              "    }\n",
              "</style>\n",
              "<table border=\"1\" class=\"dataframe\">\n",
              "  <thead>\n",
              "    <tr style=\"text-align: right;\">\n",
              "      <th></th>\n",
              "      <th></th>\n",
              "      <th>인당클릭수</th>\n",
              "      <th>인당구매수</th>\n",
              "      <th>구매전환률</th>\n",
              "      <th>총구매금액</th>\n",
              "      <th>객단가</th>\n",
              "    </tr>\n",
              "    <tr>\n",
              "      <th>power_user</th>\n",
              "      <th>platform</th>\n",
              "      <th></th>\n",
              "      <th></th>\n",
              "      <th></th>\n",
              "      <th></th>\n",
              "      <th></th>\n",
              "    </tr>\n",
              "  </thead>\n",
              "  <tbody>\n",
              "    <tr>\n",
              "      <th rowspan=\"2\" valign=\"top\">논파워유저</th>\n",
              "      <th>ANDROID</th>\n",
              "      <td>7.72</td>\n",
              "      <td>0.51</td>\n",
              "      <td>6.61</td>\n",
              "      <td>24335.24</td>\n",
              "      <td>19375.13</td>\n",
              "    </tr>\n",
              "    <tr>\n",
              "      <th>IOS</th>\n",
              "      <td>12.62</td>\n",
              "      <td>0.61</td>\n",
              "      <td>4.83</td>\n",
              "      <td>28740.62</td>\n",
              "      <td>22867.53</td>\n",
              "    </tr>\n",
              "    <tr>\n",
              "      <th rowspan=\"2\" valign=\"top\">파워유저</th>\n",
              "      <th>ANDROID</th>\n",
              "      <td>36.34</td>\n",
              "      <td>5.63</td>\n",
              "      <td>15.49</td>\n",
              "      <td>370184.79</td>\n",
              "      <td>86348.55</td>\n",
              "    </tr>\n",
              "    <tr>\n",
              "      <th>IOS</th>\n",
              "      <td>39.74</td>\n",
              "      <td>5.23</td>\n",
              "      <td>13.16</td>\n",
              "      <td>334859.37</td>\n",
              "      <td>81386.55</td>\n",
              "    </tr>\n",
              "  </tbody>\n",
              "</table>\n",
              "</div>\n",
              "      <button class=\"colab-df-convert\" onclick=\"convertToInteractive('df-5d824b0d-47cd-45e8-93d2-2f9969e9aae2')\"\n",
              "              title=\"Convert this dataframe to an interactive table.\"\n",
              "              style=\"display:none;\">\n",
              "        \n",
              "  <svg xmlns=\"http://www.w3.org/2000/svg\" height=\"24px\"viewBox=\"0 0 24 24\"\n",
              "       width=\"24px\">\n",
              "    <path d=\"M0 0h24v24H0V0z\" fill=\"none\"/>\n",
              "    <path d=\"M18.56 5.44l.94 2.06.94-2.06 2.06-.94-2.06-.94-.94-2.06-.94 2.06-2.06.94zm-11 1L8.5 8.5l.94-2.06 2.06-.94-2.06-.94L8.5 2.5l-.94 2.06-2.06.94zm10 10l.94 2.06.94-2.06 2.06-.94-2.06-.94-.94-2.06-.94 2.06-2.06.94z\"/><path d=\"M17.41 7.96l-1.37-1.37c-.4-.4-.92-.59-1.43-.59-.52 0-1.04.2-1.43.59L10.3 9.45l-7.72 7.72c-.78.78-.78 2.05 0 2.83L4 21.41c.39.39.9.59 1.41.59.51 0 1.02-.2 1.41-.59l7.78-7.78 2.81-2.81c.8-.78.8-2.07 0-2.86zM5.41 20L4 18.59l7.72-7.72 1.47 1.35L5.41 20z\"/>\n",
              "  </svg>\n",
              "      </button>\n",
              "      \n",
              "  <style>\n",
              "    .colab-df-container {\n",
              "      display:flex;\n",
              "      flex-wrap:wrap;\n",
              "      gap: 12px;\n",
              "    }\n",
              "\n",
              "    .colab-df-convert {\n",
              "      background-color: #E8F0FE;\n",
              "      border: none;\n",
              "      border-radius: 50%;\n",
              "      cursor: pointer;\n",
              "      display: none;\n",
              "      fill: #1967D2;\n",
              "      height: 32px;\n",
              "      padding: 0 0 0 0;\n",
              "      width: 32px;\n",
              "    }\n",
              "\n",
              "    .colab-df-convert:hover {\n",
              "      background-color: #E2EBFA;\n",
              "      box-shadow: 0px 1px 2px rgba(60, 64, 67, 0.3), 0px 1px 3px 1px rgba(60, 64, 67, 0.15);\n",
              "      fill: #174EA6;\n",
              "    }\n",
              "\n",
              "    [theme=dark] .colab-df-convert {\n",
              "      background-color: #3B4455;\n",
              "      fill: #D2E3FC;\n",
              "    }\n",
              "\n",
              "    [theme=dark] .colab-df-convert:hover {\n",
              "      background-color: #434B5C;\n",
              "      box-shadow: 0px 1px 3px 1px rgba(0, 0, 0, 0.15);\n",
              "      filter: drop-shadow(0px 1px 2px rgba(0, 0, 0, 0.3));\n",
              "      fill: #FFFFFF;\n",
              "    }\n",
              "  </style>\n",
              "\n",
              "      <script>\n",
              "        const buttonEl =\n",
              "          document.querySelector('#df-5d824b0d-47cd-45e8-93d2-2f9969e9aae2 button.colab-df-convert');\n",
              "        buttonEl.style.display =\n",
              "          google.colab.kernel.accessAllowed ? 'block' : 'none';\n",
              "\n",
              "        async function convertToInteractive(key) {\n",
              "          const element = document.querySelector('#df-5d824b0d-47cd-45e8-93d2-2f9969e9aae2');\n",
              "          const dataTable =\n",
              "            await google.colab.kernel.invokeFunction('convertToInteractive',\n",
              "                                                     [key], {});\n",
              "          if (!dataTable) return;\n",
              "\n",
              "          const docLinkHtml = 'Like what you see? Visit the ' +\n",
              "            '<a target=\"_blank\" href=https://colab.research.google.com/notebooks/data_table.ipynb>data table notebook</a>'\n",
              "            + ' to learn more about interactive tables.';\n",
              "          element.innerHTML = '';\n",
              "          dataTable['output_type'] = 'display_data';\n",
              "          await google.colab.output.renderOutput(dataTable, element);\n",
              "          const docLink = document.createElement('div');\n",
              "          docLink.innerHTML = docLinkHtml;\n",
              "          element.appendChild(docLink);\n",
              "        }\n",
              "      </script>\n",
              "    </div>\n",
              "  </div>\n",
              "  "
            ]
          },
          "metadata": {},
          "execution_count": 173
        }
      ]
    },
    {
      "cell_type": "code",
      "source": [
        "f,ax = plt.subplots(1,2, figsize=(12,5))\n",
        "action.loc['논파워유저', '구매전환률'].plot(ax=ax[0], color='b',marker='o')\n",
        "action.loc['논파워유저', 'click_cnt'].plot.bar(ax=ax[0])\n",
        "ax[0].set_title('논파워유저 클릭수(빨강) & 구매전환률(파랑)', fontsize=15)\n",
        "ax[0].set_yticks([0,40], 10)\n",
        "\n",
        "action.loc['파워유저', '구매전환률'].plot(ax=ax[1], color='b',marker='o')\n",
        "action.loc['파워유저', 'click_cnt'].plot.bar(ax=ax[1])\n",
        "ax[1].set_title('파워유저 클릭수(빨강) & 구매전환률(파랑)', fontsize=15)\n",
        "\n",
        "plt.show()"
      ],
      "metadata": {
        "colab": {
          "base_uri": "https://localhost:8080/",
          "height": 387
        },
        "id": "KSUMZKPBMxl9",
        "outputId": "36b89750-f931-4876-d68d-fc6a7096cdc7"
      },
      "execution_count": null,
      "outputs": [
        {
          "output_type": "display_data",
          "data": {
            "text/plain": [
              "<Figure size 864x360 with 2 Axes>"
            ],
            "image/png": "[encoded data removed]"
          },
          "metadata": {
            "needs_background": "light"
          }
        }
      ]
    },
    {
      "cell_type": "markdown",
      "source": [
        "- **구매전환률: 클릭 대비 구매의 비율**\n",
        "- **구매전환률** 계산을 통해 플랫폼 대비, 파워/논파워 유저의 차이를 알아보고자 한다.\n",
        "- **IOS와 안드로이드 구매 횟수는 큰 차이 없으나, 논파워->파워 구매 전환율은 안드로이드가 더 높은 비율로 올라감**"
      ],
      "metadata": {
        "id": "avrTa_OTMibJ"
      }
    },
    {
      "cell_type": "markdown",
      "source": [
        "#### 성별"
      ],
      "metadata": {
        "id": "MVI5GOso6m93"
      }
    },
    {
      "cell_type": "code",
      "source": [
        "# 구매 전환률 => 인당구매수 / 인당클릭수 (클릭 대비 구매의 비율)\n",
        "\n",
        "action = np.round(user_total.pivot_table(index = ['power_user','gender'], values = ['buy_cnt','click_cnt','price','item_per_price'] ,aggfunc='mean'), 2)\n",
        "action = action[['click_cnt','buy_cnt','price','item_per_price']]\n",
        "action['구매전환률'] = np.round(action.iloc[:,1] / action.iloc[:,0] * 100, 2)\n",
        "action = action[['click_cnt','buy_cnt','구매전환률','price','item_per_price']]\n",
        "action.rename(columns = {'click_cnt' : '인당클릭수', 'buy_cnt':'인당구매수','price':'총구매금액','item_per_price':'객단가'})"
      ],
      "metadata": {
        "id": "FDp3Zixw6nBL",
        "colab": {
          "base_uri": "https://localhost:8080/",
          "height": 206
        },
        "outputId": "cceb846f-3082-4c89-903e-4a2d5bf95ff4"
      },
      "execution_count": null,
      "outputs": [
        {
          "output_type": "execute_result",
          "data": {
            "text/plain": [
              "                   인당클릭수  인당구매수  구매전환률      총구매금액       객단가\n",
              "power_user gender                                          \n",
              "논파워유저      F       12.86   0.60   4.67   27604.96  21836.41\n",
              "           M        8.47   0.63   7.44   31718.98  25610.06\n",
              "파워유저       F       44.52   5.59  12.56  353781.11  79150.99\n",
              "           M       25.87   4.78  18.48  329243.81  92508.61"
            ],
            "text/html": [
              "\n",
              "  <div id=\"df-6e872bf8-183c-4778-ac33-9902e10b0f50\">\n",
              "    <div class=\"colab-df-container\">\n",
              "      <div>\n",
              "<style scoped>\n",
              "    .dataframe tbody tr th:only-of-type {\n",
              "        vertical-align: middle;\n",
              "    }\n",
              "\n",
              "    .dataframe tbody tr th {\n",
              "        vertical-align: top;\n",
              "    }\n",
              "\n",
              "    .dataframe thead th {\n",
              "        text-align: right;\n",
              "    }\n",
              "</style>\n",
              "<table border=\"1\" class=\"dataframe\">\n",
              "  <thead>\n",
              "    <tr style=\"text-align: right;\">\n",
              "      <th></th>\n",
              "      <th></th>\n",
              "      <th>인당클릭수</th>\n",
              "      <th>인당구매수</th>\n",
              "      <th>구매전환률</th>\n",
              "      <th>총구매금액</th>\n",
              "      <th>객단가</th>\n",
              "    </tr>\n",
              "    <tr>\n",
              "      <th>power_user</th>\n",
              "      <th>gender</th>\n",
              "      <th></th>\n",
              "      <th></th>\n",
              "      <th></th>\n",
              "      <th></th>\n",
              "      <th></th>\n",
              "    </tr>\n",
              "  </thead>\n",
              "  <tbody>\n",
              "    <tr>\n",
              "      <th rowspan=\"2\" valign=\"top\">논파워유저</th>\n",
              "      <th>F</th>\n",
              "      <td>12.86</td>\n",
              "      <td>0.60</td>\n",
              "      <td>4.67</td>\n",
              "      <td>27604.96</td>\n",
              "      <td>21836.41</td>\n",
              "    </tr>\n",
              "    <tr>\n",
              "      <th>M</th>\n",
              "      <td>8.47</td>\n",
              "      <td>0.63</td>\n",
              "      <td>7.44</td>\n",
              "      <td>31718.98</td>\n",
              "      <td>25610.06</td>\n",
              "    </tr>\n",
              "    <tr>\n",
              "      <th rowspan=\"2\" valign=\"top\">파워유저</th>\n",
              "      <th>F</th>\n",
              "      <td>44.52</td>\n",
              "      <td>5.59</td>\n",
              "      <td>12.56</td>\n",
              "      <td>353781.11</td>\n",
              "      <td>79150.99</td>\n",
              "    </tr>\n",
              "    <tr>\n",
              "      <th>M</th>\n",
              "      <td>25.87</td>\n",
              "      <td>4.78</td>\n",
              "      <td>18.48</td>\n",
              "      <td>329243.81</td>\n",
              "      <td>92508.61</td>\n",
              "    </tr>\n",
              "  </tbody>\n",
              "</table>\n",
              "</div>\n",
              "      <button class=\"colab-df-convert\" onclick=\"convertToInteractive('df-6e872bf8-183c-4778-ac33-9902e10b0f50')\"\n",
              "              title=\"Convert this dataframe to an interactive table.\"\n",
              "              style=\"display:none;\">\n",
              "        \n",
              "  <svg xmlns=\"http://www.w3.org/2000/svg\" height=\"24px\"viewBox=\"0 0 24 24\"\n",
              "       width=\"24px\">\n",
              "    <path d=\"M0 0h24v24H0V0z\" fill=\"none\"/>\n",
              "    <path d=\"M18.56 5.44l.94 2.06.94-2.06 2.06-.94-2.06-.94-.94-2.06-.94 2.06-2.06.94zm-11 1L8.5 8.5l.94-2.06 2.06-.94-2.06-.94L8.5 2.5l-.94 2.06-2.06.94zm10 10l.94 2.06.94-2.06 2.06-.94-2.06-.94-.94-2.06-.94 2.06-2.06.94z\"/><path d=\"M17.41 7.96l-1.37-1.37c-.4-.4-.92-.59-1.43-.59-.52 0-1.04.2-1.43.59L10.3 9.45l-7.72 7.72c-.78.78-.78 2.05 0 2.83L4 21.41c.39.39.9.59 1.41.59.51 0 1.02-.2 1.41-.59l7.78-7.78 2.81-2.81c.8-.78.8-2.07 0-2.86zM5.41 20L4 18.59l7.72-7.72 1.47 1.35L5.41 20z\"/>\n",
              "  </svg>\n",
              "      </button>\n",
              "      \n",
              "  <style>\n",
              "    .colab-df-container {\n",
              "      display:flex;\n",
              "      flex-wrap:wrap;\n",
              "      gap: 12px;\n",
              "    }\n",
              "\n",
              "    .colab-df-convert {\n",
              "      background-color: #E8F0FE;\n",
              "      border: none;\n",
              "      border-radius: 50%;\n",
              "      cursor: pointer;\n",
              "      display: none;\n",
              "      fill: #1967D2;\n",
              "      height: 32px;\n",
              "      padding: 0 0 0 0;\n",
              "      width: 32px;\n",
              "    }\n",
              "\n",
              "    .colab-df-convert:hover {\n",
              "      background-color: #E2EBFA;\n",
              "      box-shadow: 0px 1px 2px rgba(60, 64, 67, 0.3), 0px 1px 3px 1px rgba(60, 64, 67, 0.15);\n",
              "      fill: #174EA6;\n",
              "    }\n",
              "\n",
              "    [theme=dark] .colab-df-convert {\n",
              "      background-color: #3B4455;\n",
              "      fill: #D2E3FC;\n",
              "    }\n",
              "\n",
              "    [theme=dark] .colab-df-convert:hover {\n",
              "      background-color: #434B5C;\n",
              "      box-shadow: 0px 1px 3px 1px rgba(0, 0, 0, 0.15);\n",
              "      filter: drop-shadow(0px 1px 2px rgba(0, 0, 0, 0.3));\n",
              "      fill: #FFFFFF;\n",
              "    }\n",
              "  </style>\n",
              "\n",
              "      <script>\n",
              "        const buttonEl =\n",
              "          document.querySelector('#df-6e872bf8-183c-4778-ac33-9902e10b0f50 button.colab-df-convert');\n",
              "        buttonEl.style.display =\n",
              "          google.colab.kernel.accessAllowed ? 'block' : 'none';\n",
              "\n",
              "        async function convertToInteractive(key) {\n",
              "          const element = document.querySelector('#df-6e872bf8-183c-4778-ac33-9902e10b0f50');\n",
              "          const dataTable =\n",
              "            await google.colab.kernel.invokeFunction('convertToInteractive',\n",
              "                                                     [key], {});\n",
              "          if (!dataTable) return;\n",
              "\n",
              "          const docLinkHtml = 'Like what you see? Visit the ' +\n",
              "            '<a target=\"_blank\" href=https://colab.research.google.com/notebooks/data_table.ipynb>data table notebook</a>'\n",
              "            + ' to learn more about interactive tables.';\n",
              "          element.innerHTML = '';\n",
              "          dataTable['output_type'] = 'display_data';\n",
              "          await google.colab.output.renderOutput(dataTable, element);\n",
              "          const docLink = document.createElement('div');\n",
              "          docLink.innerHTML = docLinkHtml;\n",
              "          element.appendChild(docLink);\n",
              "        }\n",
              "      </script>\n",
              "    </div>\n",
              "  </div>\n",
              "  "
            ]
          },
          "metadata": {},
          "execution_count": 145
        }
      ]
    },
    {
      "cell_type": "code",
      "source": [
        "f,ax = plt.subplots(1,2, figsize=(12,5))\n",
        "action.loc['논파워유저', '구매전환률'].plot(ax=ax[0], color='b',marker='o')\n",
        "action.loc['논파워유저', 'click_cnt'].plot.bar(ax=ax[0])\n",
        "ax[0].set_title('논파워유저 클릭수(빨강) & 구매전환률(파랑)', fontsize=15)\n",
        "ax[0].set_yticks([0,40], 10)\n",
        "\n",
        "action.loc['파워유저', '구매전환률'].plot(ax=ax[1], color='b',marker='o')\n",
        "action.loc['파워유저', 'click_cnt'].plot.bar(ax=ax[1])\n",
        "ax[1].set_title('파워유저 클릭수(빨강) & 구매전환률(파랑)', fontsize=15)\n",
        "\n",
        "plt.show()"
      ],
      "metadata": {
        "colab": {
          "base_uri": "https://localhost:8080/",
          "height": 351
        },
        "id": "LFTP_BPvDEaE",
        "outputId": "7d26a226-b4fe-441d-94c4-8834b108510d"
      },
      "execution_count": null,
      "outputs": [
        {
          "output_type": "display_data",
          "data": {
            "text/plain": [
              "<Figure size 864x360 with 2 Axes>"
            ],
            "image/png": "[encoded data removed]"
          },
          "metadata": {
            "needs_background": "light"
          }
        }
      ]
    },
    {
      "cell_type": "markdown",
      "source": [
        "- **구매전환률** 계산을 통해 성별 대비, 파워/논파워 유저의 차이를 알아보고자 한다.\n",
        "- **파워유저/논파워유저** : 남성이 여성에 비해 클릭은 적어도, 구매 전환이 매우 높은 것을 알 수 있다.\n",
        "- 파워유저가 클릭 횟수도 많지만, 구매 전환이 무려 3배 가량 높다."
      ],
      "metadata": {
        "id": "Uplzf9-2DEd0"
      }
    },
    {
      "cell_type": "code",
      "source": [
        "f,ax = plt.subplots(1,2, figsize=(12,5))\n",
        "action.loc['논파워유저', 'item_per_price'].plot.bar(ax=ax[0])\n",
        "ax[0].set_title('논파워유저 객단가', fontsize=15)\n",
        "ax[0].set_yticks([0,100000], 10)\n",
        "\n",
        "action.loc['파워유저', 'item_per_price'].plot.bar(ax=ax[1])\n",
        "ax[1].set_title('파워유저 객단가', fontsize=15)\n",
        "\n",
        "plt.show()"
      ],
      "metadata": {
        "colab": {
          "base_uri": "https://localhost:8080/",
          "height": 352
        },
        "id": "cfPCQMuYDEhK",
        "outputId": "3867e224-996c-4834-a91f-28198e309c8c"
      },
      "execution_count": null,
      "outputs": [
        {
          "output_type": "display_data",
          "data": {
            "text/plain": [
              "<Figure size 864x360 with 2 Axes>"
            ],
            "image/png": "[encoded data removed]"
          },
          "metadata": {
            "needs_background": "light"
          }
        }
      ]
    },
    {
      "cell_type": "markdown",
      "source": [
        "- 파워유저, 논파워유저 구분없이, 남성이 대체적으로 여성보다 구매 금액이 약 17% 높음을 알 수 있다."
      ],
      "metadata": {
        "id": "WfqYNCT9DEkV"
      }
    },
    {
      "cell_type": "markdown",
      "source": [
        "#### 연령"
      ],
      "metadata": {
        "id": "GuW698qwNwjZ"
      }
    },
    {
      "cell_type": "code",
      "source": [
        "user_ages = user_total[(user_total['나이대'] == '20대') |\n",
        "                       (user_total['나이대'] == '30대') |\n",
        "                       (user_total['나이대'] == '40대') |\n",
        "                       (user_total['나이대'] == '50대') ]\n",
        "\n",
        "action = np.round(user_ages.pivot_table(index = ['power_user','나이대'], values = ['buy_cnt','click_cnt','price','item_per_price'] ,aggfunc='mean'), 2)\n",
        "action = action[['click_cnt','buy_cnt','price','item_per_price']]\n",
        "action['구매전환률'] = np.round(action.iloc[:,1] / action.iloc[:,0] * 100, 2)\n",
        "action = action[['click_cnt','buy_cnt','구매전환률','price','item_per_price']]\n",
        "action.rename(columns = {'click_cnt' : '인당클릭수', 'buy_cnt':'인당구매수','price':'총구매금액','item_per_price':'객단가'})"
      ],
      "metadata": {
        "colab": {
          "base_uri": "https://localhost:8080/",
          "height": 332
        },
        "id": "RJRXiXwNOO_w",
        "outputId": "565f84ca-81eb-4a7b-f5e0-7bb791287c8d"
      },
      "execution_count": null,
      "outputs": [
        {
          "output_type": "execute_result",
          "data": {
            "text/plain": [
              "                인당클릭수  인당구매수  구매전환률      총구매금액       객단가\n",
              "power_user 나이대                                          \n",
              "논파워유저      20대  11.84   0.61   5.15   28854.01  22988.28\n",
              "           30대  11.91   0.60   5.04   28796.15  22808.68\n",
              "           40대  12.23   0.55   4.50   25480.13  20025.44\n",
              "           50대  12.59   0.60   4.77   28562.54  22973.43\n",
              "파워유저       20대  35.44   4.91  13.85  314214.88  80890.43\n",
              "           30대  41.14   5.61  13.64  362492.21  82441.09\n",
              "           40대  52.18   6.38  12.23  408542.77  82698.50\n",
              "           50대  58.26   6.39  10.97  430147.55  87506.66"
            ],
            "text/html": [
              "\n",
              "  <div id=\"df-3fc412be-7c35-49e1-a9b7-4a4c2afa018b\">\n",
              "    <div class=\"colab-df-container\">\n",
              "      <div>\n",
              "<style scoped>\n",
              "    .dataframe tbody tr th:only-of-type {\n",
              "        vertical-align: middle;\n",
              "    }\n",
              "\n",
              "    .dataframe tbody tr th {\n",
              "        vertical-align: top;\n",
              "    }\n",
              "\n",
              "    .dataframe thead th {\n",
              "        text-align: right;\n",
              "    }\n",
              "</style>\n",
              "<table border=\"1\" class=\"dataframe\">\n",
              "  <thead>\n",
              "    <tr style=\"text-align: right;\">\n",
              "      <th></th>\n",
              "      <th></th>\n",
              "      <th>인당클릭수</th>\n",
              "      <th>인당구매수</th>\n",
              "      <th>구매전환률</th>\n",
              "      <th>총구매금액</th>\n",
              "      <th>객단가</th>\n",
              "    </tr>\n",
              "    <tr>\n",
              "      <th>power_user</th>\n",
              "      <th>나이대</th>\n",
              "      <th></th>\n",
              "      <th></th>\n",
              "      <th></th>\n",
              "      <th></th>\n",
              "      <th></th>\n",
              "    </tr>\n",
              "  </thead>\n",
              "  <tbody>\n",
              "    <tr>\n",
              "      <th rowspan=\"4\" valign=\"top\">논파워유저</th>\n",
              "      <th>20대</th>\n",
              "      <td>11.84</td>\n",
              "      <td>0.61</td>\n",
              "      <td>5.15</td>\n",
              "      <td>28854.01</td>\n",
              "      <td>22988.28</td>\n",
              "    </tr>\n",
              "    <tr>\n",
              "      <th>30대</th>\n",
              "      <td>11.91</td>\n",
              "      <td>0.60</td>\n",
              "      <td>5.04</td>\n",
              "      <td>28796.15</td>\n",
              "      <td>22808.68</td>\n",
              "    </tr>\n",
              "    <tr>\n",
              "      <th>40대</th>\n",
              "      <td>12.23</td>\n",
              "      <td>0.55</td>\n",
              "      <td>4.50</td>\n",
              "      <td>25480.13</td>\n",
              "      <td>20025.44</td>\n",
              "    </tr>\n",
              "    <tr>\n",
              "      <th>50대</th>\n",
              "      <td>12.59</td>\n",
              "      <td>0.60</td>\n",
              "      <td>4.77</td>\n",
              "      <td>28562.54</td>\n",
              "      <td>22973.43</td>\n",
              "    </tr>\n",
              "    <tr>\n",
              "      <th rowspan=\"4\" valign=\"top\">파워유저</th>\n",
              "      <th>20대</th>\n",
              "      <td>35.44</td>\n",
              "      <td>4.91</td>\n",
              "      <td>13.85</td>\n",
              "      <td>314214.88</td>\n",
              "      <td>80890.43</td>\n",
              "    </tr>\n",
              "    <tr>\n",
              "      <th>30대</th>\n",
              "      <td>41.14</td>\n",
              "      <td>5.61</td>\n",
              "      <td>13.64</td>\n",
              "      <td>362492.21</td>\n",
              "      <td>82441.09</td>\n",
              "    </tr>\n",
              "    <tr>\n",
              "      <th>40대</th>\n",
              "      <td>52.18</td>\n",
              "      <td>6.38</td>\n",
              "      <td>12.23</td>\n",
              "      <td>408542.77</td>\n",
              "      <td>82698.50</td>\n",
              "    </tr>\n",
              "    <tr>\n",
              "      <th>50대</th>\n",
              "      <td>58.26</td>\n",
              "      <td>6.39</td>\n",
              "      <td>10.97</td>\n",
              "      <td>430147.55</td>\n",
              "      <td>87506.66</td>\n",
              "    </tr>\n",
              "  </tbody>\n",
              "</table>\n",
              "</div>\n",
              "      <button class=\"colab-df-convert\" onclick=\"convertToInteractive('df-3fc412be-7c35-49e1-a9b7-4a4c2afa018b')\"\n",
              "              title=\"Convert this dataframe to an interactive table.\"\n",
              "              style=\"display:none;\">\n",
              "        \n",
              "  <svg xmlns=\"http://www.w3.org/2000/svg\" height=\"24px\"viewBox=\"0 0 24 24\"\n",
              "       width=\"24px\">\n",
              "    <path d=\"M0 0h24v24H0V0z\" fill=\"none\"/>\n",
              "    <path d=\"M18.56 5.44l.94 2.06.94-2.06 2.06-.94-2.06-.94-.94-2.06-.94 2.06-2.06.94zm-11 1L8.5 8.5l.94-2.06 2.06-.94-2.06-.94L8.5 2.5l-.94 2.06-2.06.94zm10 10l.94 2.06.94-2.06 2.06-.94-2.06-.94-.94-2.06-.94 2.06-2.06.94z\"/><path d=\"M17.41 7.96l-1.37-1.37c-.4-.4-.92-.59-1.43-.59-.52 0-1.04.2-1.43.59L10.3 9.45l-7.72 7.72c-.78.78-.78 2.05 0 2.83L4 21.41c.39.39.9.59 1.41.59.51 0 1.02-.2 1.41-.59l7.78-7.78 2.81-2.81c.8-.78.8-2.07 0-2.86zM5.41 20L4 18.59l7.72-7.72 1.47 1.35L5.41 20z\"/>\n",
              "  </svg>\n",
              "      </button>\n",
              "      \n",
              "  <style>\n",
              "    .colab-df-container {\n",
              "      display:flex;\n",
              "      flex-wrap:wrap;\n",
              "      gap: 12px;\n",
              "    }\n",
              "\n",
              "    .colab-df-convert {\n",
              "      background-color: #E8F0FE;\n",
              "      border: none;\n",
              "      border-radius: 50%;\n",
              "      cursor: pointer;\n",
              "      display: none;\n",
              "      fill: #1967D2;\n",
              "      height: 32px;\n",
              "      padding: 0 0 0 0;\n",
              "      width: 32px;\n",
              "    }\n",
              "\n",
              "    .colab-df-convert:hover {\n",
              "      background-color: #E2EBFA;\n",
              "      box-shadow: 0px 1px 2px rgba(60, 64, 67, 0.3), 0px 1px 3px 1px rgba(60, 64, 67, 0.15);\n",
              "      fill: #174EA6;\n",
              "    }\n",
              "\n",
              "    [theme=dark] .colab-df-convert {\n",
              "      background-color: #3B4455;\n",
              "      fill: #D2E3FC;\n",
              "    }\n",
              "\n",
              "    [theme=dark] .colab-df-convert:hover {\n",
              "      background-color: #434B5C;\n",
              "      box-shadow: 0px 1px 3px 1px rgba(0, 0, 0, 0.15);\n",
              "      filter: drop-shadow(0px 1px 2px rgba(0, 0, 0, 0.3));\n",
              "      fill: #FFFFFF;\n",
              "    }\n",
              "  </style>\n",
              "\n",
              "      <script>\n",
              "        const buttonEl =\n",
              "          document.querySelector('#df-3fc412be-7c35-49e1-a9b7-4a4c2afa018b button.colab-df-convert');\n",
              "        buttonEl.style.display =\n",
              "          google.colab.kernel.accessAllowed ? 'block' : 'none';\n",
              "\n",
              "        async function convertToInteractive(key) {\n",
              "          const element = document.querySelector('#df-3fc412be-7c35-49e1-a9b7-4a4c2afa018b');\n",
              "          const dataTable =\n",
              "            await google.colab.kernel.invokeFunction('convertToInteractive',\n",
              "                                                     [key], {});\n",
              "          if (!dataTable) return;\n",
              "\n",
              "          const docLinkHtml = 'Like what you see? Visit the ' +\n",
              "            '<a target=\"_blank\" href=https://colab.research.google.com/notebooks/data_table.ipynb>data table notebook</a>'\n",
              "            + ' to learn more about interactive tables.';\n",
              "          element.innerHTML = '';\n",
              "          dataTable['output_type'] = 'display_data';\n",
              "          await google.colab.output.renderOutput(dataTable, element);\n",
              "          const docLink = document.createElement('div');\n",
              "          docLink.innerHTML = docLinkHtml;\n",
              "          element.appendChild(docLink);\n",
              "        }\n",
              "      </script>\n",
              "    </div>\n",
              "  </div>\n",
              "  "
            ]
          },
          "metadata": {},
          "execution_count": 184
        }
      ]
    },
    {
      "cell_type": "code",
      "source": [
        "f,ax = plt.subplots(1,2, figsize=(12,5))\n",
        "action.loc['논파워유저', '구매전환률'].plot(ax=ax[0], color='b',marker='o')\n",
        "action.loc['논파워유저', 'click_cnt'].plot.bar(ax=ax[0])\n",
        "ax[0].set_title('논파워유저 클릭수(빨강) & 구매전환률(파랑)', fontsize=15)\n",
        "ax[0].set_yticks([0,40], 10)\n",
        "\n",
        "action.loc['파워유저', '구매전환률'].plot(ax=ax[1], color='b',marker='o')\n",
        "action.loc['파워유저', 'click_cnt'].plot.bar(ax=ax[1])\n",
        "ax[1].set_title('파워유저 클릭수(빨강) & 구매전환률(파랑)', fontsize=15)\n",
        "\n",
        "plt.show()"
      ],
      "metadata": {
        "colab": {
          "base_uri": "https://localhost:8080/",
          "height": 362
        },
        "outputId": "651c1250-8f95-48f9-dd48-e422fe544be3",
        "id": "A_ASqrDcNwjZ"
      },
      "execution_count": null,
      "outputs": [
        {
          "output_type": "display_data",
          "data": {
            "text/plain": [
              "<Figure size 864x360 with 2 Axes>"
            ],
            "image/png": "[encoded data removed]"
          },
          "metadata": {
            "needs_background": "light"
          }
        }
      ]
    },
    {
      "cell_type": "markdown",
      "source": [
        "- **구매전환률** 계산을 통해 연령대뵬 대비, 파워/논파워 유저의 차이를 알아보고자 한다.\n",
        "- **논파워유저** : 클릭과 구매전환이 연령대별 큰 차이 없음\n",
        "- **파워유저** : 연령이 높을 수록 클릭은 많아지나, 구매전환은 떨어지는 추이를 보임"
      ],
      "metadata": {
        "id": "5NT23qjlNwjZ"
      }
    },
    {
      "cell_type": "code",
      "source": [
        "f,ax = plt.subplots(1,2, figsize=(12,5))\n",
        "action.loc['논파워유저', 'item_per_price'].plot.bar(ax=ax[0])\n",
        "ax[0].set_title('논파워유저 객단가', fontsize=15)\n",
        "ax[0].set_yticks([0,100000], 10)\n",
        "\n",
        "action.loc['파워유저', 'item_per_price'].plot.bar(ax=ax[1])\n",
        "ax[1].set_title('파워유저 객단가', fontsize=15)\n",
        "\n",
        "plt.show()"
      ],
      "metadata": {
        "colab": {
          "base_uri": "https://localhost:8080/",
          "height": 362
        },
        "outputId": "673af1e2-f733-4751-c528-16d768e834ba",
        "id": "Jl0nEwh1Nwja"
      },
      "execution_count": null,
      "outputs": [
        {
          "output_type": "display_data",
          "data": {
            "text/plain": [
              "<Figure size 864x360 with 2 Axes>"
            ],
            "image/png": "[encoded data removed]"
          },
          "metadata": {
            "needs_background": "light"
          }
        }
      ]
    },
    {
      "cell_type": "markdown",
      "source": [
        "- **논파워유저** : 나이대와 상관없이 큰 규칙이 없음\n",
        "- **파워유저** : 나이가 높을수록, 객단가가 높아지는 성향을 보이고 있다."
      ],
      "metadata": {
        "id": "ojx_dCHSNwja"
      }
    },
    {
      "cell_type": "markdown",
      "source": [
        "### 시간대"
      ],
      "metadata": {
        "id": "6p_lytL10yxy"
      }
    },
    {
      "cell_type": "code",
      "source": [
        "# 행동 패턴\n",
        "\n",
        "action = np.round(user_total.pivot_table(index = ['power_user'], values = ['0시', '1시',\n",
        "       '2시', '3시', '4시', '5시', '6시', '7시', '8시', '9시', '10시', '11시', '12시',\n",
        "       '13시', '14시', '15시', '16시', '17시', '18시', '19시', '20시', '21시', '22시',\n",
        "       '23시'] ,aggfunc='mean'), 2)\n",
        "action.columns = ['0시', '1시',\n",
        "       '2시', '3시', '4시', '5시', '6시', '7시', '8시', '9시', '10시', '11시', '12시',\n",
        "       '13시', '14시', '15시', '16시', '17시', '18시', '19시', '20시', '21시', '22시',\n",
        "       '23시']\n",
        "action.sort_values(by='파워유저', axis=1, ascending=False)"
      ],
      "metadata": {
        "colab": {
          "base_uri": "https://localhost:8080/",
          "height": 205
        },
        "id": "dAr0NNdkTFtb",
        "outputId": "0793f065-0bf0-40d5-e169-4e0b4e87066b"
      },
      "execution_count": null,
      "outputs": [
        {
          "output_type": "execute_result",
          "data": {
            "text/plain": [
              "             15시   14시   13시    0시    2시    3시    4시   12시    7시    6시    5시  \\\n",
              "power_user                                                                     \n",
              "논파워유저       0.04  0.04  0.04  0.03  0.04  0.03  0.03  0.03  0.03  0.03  0.03   \n",
              "파워유저        0.43  0.39  0.33  0.32  0.28  0.28  0.28  0.27  0.27  0.27  0.26   \n",
              "\n",
              "              1시    8시    9시   10시   11시   23시   22시   16시   21시   17시   20시  \\\n",
              "power_user                                                                     \n",
              "논파워유저       0.03  0.03  0.03  0.03  0.02  0.02  0.02  0.01  0.01  0.01  0.00   \n",
              "파워유저        0.25  0.24  0.23  0.23  0.21  0.21  0.16  0.12  0.10  0.07  0.05   \n",
              "\n",
              "             18시   19시  \n",
              "power_user              \n",
              "논파워유저       0.00  0.00  \n",
              "파워유저        0.04  0.04  "
            ],
            "text/html": [
              "\n",
              "  <div id=\"df-88b26d89-aee5-4beb-a4fa-791dec4bbd54\">\n",
              "    <div class=\"colab-df-container\">\n",
              "      <div>\n",
              "<style scoped>\n",
              "    .dataframe tbody tr th:only-of-type {\n",
              "        vertical-align: middle;\n",
              "    }\n",
              "\n",
              "    .dataframe tbody tr th {\n",
              "        vertical-align: top;\n",
              "    }\n",
              "\n",
              "    .dataframe thead th {\n",
              "        text-align: right;\n",
              "    }\n",
              "</style>\n",
              "<table border=\"1\" class=\"dataframe\">\n",
              "  <thead>\n",
              "    <tr style=\"text-align: right;\">\n",
              "      <th></th>\n",
              "      <th>15시</th>\n",
              "      <th>14시</th>\n",
              "      <th>13시</th>\n",
              "      <th>0시</th>\n",
              "      <th>2시</th>\n",
              "      <th>3시</th>\n",
              "      <th>4시</th>\n",
              "      <th>12시</th>\n",
              "      <th>7시</th>\n",
              "      <th>6시</th>\n",
              "      <th>5시</th>\n",
              "      <th>1시</th>\n",
              "      <th>8시</th>\n",
              "      <th>9시</th>\n",
              "      <th>10시</th>\n",
              "      <th>11시</th>\n",
              "      <th>23시</th>\n",
              "      <th>22시</th>\n",
              "      <th>16시</th>\n",
              "      <th>21시</th>\n",
              "      <th>17시</th>\n",
              "      <th>20시</th>\n",
              "      <th>18시</th>\n",
              "      <th>19시</th>\n",
              "    </tr>\n",
              "    <tr>\n",
              "      <th>power_user</th>\n",
              "      <th></th>\n",
              "      <th></th>\n",
              "      <th></th>\n",
              "      <th></th>\n",
              "      <th></th>\n",
              "      <th></th>\n",
              "      <th></th>\n",
              "      <th></th>\n",
              "      <th></th>\n",
              "      <th></th>\n",
              "      <th></th>\n",
              "      <th></th>\n",
              "      <th></th>\n",
              "      <th></th>\n",
              "      <th></th>\n",
              "      <th></th>\n",
              "      <th></th>\n",
              "      <th></th>\n",
              "      <th></th>\n",
              "      <th></th>\n",
              "      <th></th>\n",
              "      <th></th>\n",
              "      <th></th>\n",
              "      <th></th>\n",
              "    </tr>\n",
              "  </thead>\n",
              "  <tbody>\n",
              "    <tr>\n",
              "      <th>논파워유저</th>\n",
              "      <td>0.04</td>\n",
              "      <td>0.04</td>\n",
              "      <td>0.04</td>\n",
              "      <td>0.03</td>\n",
              "      <td>0.04</td>\n",
              "      <td>0.03</td>\n",
              "      <td>0.03</td>\n",
              "      <td>0.03</td>\n",
              "      <td>0.03</td>\n",
              "      <td>0.03</td>\n",
              "      <td>0.03</td>\n",
              "      <td>0.03</td>\n",
              "      <td>0.03</td>\n",
              "      <td>0.03</td>\n",
              "      <td>0.03</td>\n",
              "      <td>0.02</td>\n",
              "      <td>0.02</td>\n",
              "      <td>0.02</td>\n",
              "      <td>0.01</td>\n",
              "      <td>0.01</td>\n",
              "      <td>0.01</td>\n",
              "      <td>0.00</td>\n",
              "      <td>0.00</td>\n",
              "      <td>0.00</td>\n",
              "    </tr>\n",
              "    <tr>\n",
              "      <th>파워유저</th>\n",
              "      <td>0.43</td>\n",
              "      <td>0.39</td>\n",
              "      <td>0.33</td>\n",
              "      <td>0.32</td>\n",
              "      <td>0.28</td>\n",
              "      <td>0.28</td>\n",
              "      <td>0.28</td>\n",
              "      <td>0.27</td>\n",
              "      <td>0.27</td>\n",
              "      <td>0.27</td>\n",
              "      <td>0.26</td>\n",
              "      <td>0.25</td>\n",
              "      <td>0.24</td>\n",
              "      <td>0.23</td>\n",
              "      <td>0.23</td>\n",
              "      <td>0.21</td>\n",
              "      <td>0.21</td>\n",
              "      <td>0.16</td>\n",
              "      <td>0.12</td>\n",
              "      <td>0.10</td>\n",
              "      <td>0.07</td>\n",
              "      <td>0.05</td>\n",
              "      <td>0.04</td>\n",
              "      <td>0.04</td>\n",
              "    </tr>\n",
              "  </tbody>\n",
              "</table>\n",
              "</div>\n",
              "      <button class=\"colab-df-convert\" onclick=\"convertToInteractive('df-88b26d89-aee5-4beb-a4fa-791dec4bbd54')\"\n",
              "              title=\"Convert this dataframe to an interactive table.\"\n",
              "              style=\"display:none;\">\n",
              "        \n",
              "  <svg xmlns=\"http://www.w3.org/2000/svg\" height=\"24px\"viewBox=\"0 0 24 24\"\n",
              "       width=\"24px\">\n",
              "    <path d=\"M0 0h24v24H0V0z\" fill=\"none\"/>\n",
              "    <path d=\"M18.56 5.44l.94 2.06.94-2.06 2.06-.94-2.06-.94-.94-2.06-.94 2.06-2.06.94zm-11 1L8.5 8.5l.94-2.06 2.06-.94-2.06-.94L8.5 2.5l-.94 2.06-2.06.94zm10 10l.94 2.06.94-2.06 2.06-.94-2.06-.94-.94-2.06-.94 2.06-2.06.94z\"/><path d=\"M17.41 7.96l-1.37-1.37c-.4-.4-.92-.59-1.43-.59-.52 0-1.04.2-1.43.59L10.3 9.45l-7.72 7.72c-.78.78-.78 2.05 0 2.83L4 21.41c.39.39.9.59 1.41.59.51 0 1.02-.2 1.41-.59l7.78-7.78 2.81-2.81c.8-.78.8-2.07 0-2.86zM5.41 20L4 18.59l7.72-7.72 1.47 1.35L5.41 20z\"/>\n",
              "  </svg>\n",
              "      </button>\n",
              "      \n",
              "  <style>\n",
              "    .colab-df-container {\n",
              "      display:flex;\n",
              "      flex-wrap:wrap;\n",
              "      gap: 12px;\n",
              "    }\n",
              "\n",
              "    .colab-df-convert {\n",
              "      background-color: #E8F0FE;\n",
              "      border: none;\n",
              "      border-radius: 50%;\n",
              "      cursor: pointer;\n",
              "      display: none;\n",
              "      fill: #1967D2;\n",
              "      height: 32px;\n",
              "      padding: 0 0 0 0;\n",
              "      width: 32px;\n",
              "    }\n",
              "\n",
              "    .colab-df-convert:hover {\n",
              "      background-color: #E2EBFA;\n",
              "      box-shadow: 0px 1px 2px rgba(60, 64, 67, 0.3), 0px 1px 3px 1px rgba(60, 64, 67, 0.15);\n",
              "      fill: #174EA6;\n",
              "    }\n",
              "\n",
              "    [theme=dark] .colab-df-convert {\n",
              "      background-color: #3B4455;\n",
              "      fill: #D2E3FC;\n",
              "    }\n",
              "\n",
              "    [theme=dark] .colab-df-convert:hover {\n",
              "      background-color: #434B5C;\n",
              "      box-shadow: 0px 1px 3px 1px rgba(0, 0, 0, 0.15);\n",
              "      filter: drop-shadow(0px 1px 2px rgba(0, 0, 0, 0.3));\n",
              "      fill: #FFFFFF;\n",
              "    }\n",
              "  </style>\n",
              "\n",
              "      <script>\n",
              "        const buttonEl =\n",
              "          document.querySelector('#df-88b26d89-aee5-4beb-a4fa-791dec4bbd54 button.colab-df-convert');\n",
              "        buttonEl.style.display =\n",
              "          google.colab.kernel.accessAllowed ? 'block' : 'none';\n",
              "\n",
              "        async function convertToInteractive(key) {\n",
              "          const element = document.querySelector('#df-88b26d89-aee5-4beb-a4fa-791dec4bbd54');\n",
              "          const dataTable =\n",
              "            await google.colab.kernel.invokeFunction('convertToInteractive',\n",
              "                                                     [key], {});\n",
              "          if (!dataTable) return;\n",
              "\n",
              "          const docLinkHtml = 'Like what you see? Visit the ' +\n",
              "            '<a target=\"_blank\" href=https://colab.research.google.com/notebooks/data_table.ipynb>data table notebook</a>'\n",
              "            + ' to learn more about interactive tables.';\n",
              "          element.innerHTML = '';\n",
              "          dataTable['output_type'] = 'display_data';\n",
              "          await google.colab.output.renderOutput(dataTable, element);\n",
              "          const docLink = document.createElement('div');\n",
              "          docLink.innerHTML = docLinkHtml;\n",
              "          element.appendChild(docLink);\n",
              "        }\n",
              "      </script>\n",
              "    </div>\n",
              "  </div>\n",
              "  "
            ]
          },
          "metadata": {},
          "execution_count": 66
        }
      ]
    },
    {
      "cell_type": "markdown",
      "source": [
        "- **논파워유저** : 시간대와 구매수의 관계는 크게 없어 보인다.\n",
        "- **파워유저** :\n",
        "    - 13-15시에 제일 많이 구매하는 것으로 보인다.\n",
        "    - 다음으로는, 새벽 0-4시 경에 많이 구매한다."
      ],
      "metadata": {
        "id": "cmtnEw8-XKGf"
      }
    },
    {
      "cell_type": "markdown",
      "source": [
        "## 결론"
      ],
      "metadata": {
        "id": "liszPX2etQaS"
      }
    },
    {
      "cell_type": "markdown",
      "source": [
        "- **파워유저:**\n",
        "    - 성별: 현재는 29CM의 남성 사용자는 많지 않지만, 남성의 전환율이 높기 때문에 남성에 중점을 둔 브랜드/제품을 입점하는 것도 매우 좋아 보입니다.\n",
        "    - 연령: 20-30대 사용자의 클릭 수는 적지만 전환율이 높습니다. 앱에서의 상품 추천은 이 사용자들의 취향과 잘 맞는 것으로 보입니다. 다만 이 분석에서는 이들의 이탈률을 파악하지 못한 점이 단점입니다.\n",
        "    - 시간대: 파워유저들은 주로 13-15시와 0-4시에 액티브한데, 이 시간대 이전에 할인 쿠폰이나 구매 행동을 유도하는 마케팅 활동을 진행할 수 있습니다.\n",
        "\n",
        "- **논파워유저:**\n",
        "     - 구매자: 이 사용자 중 상당 부분은 한 번만 구매하며 평균 주문 금액이 높습니다. 이 사용자 그룹을 핵심 사용자로 전환시키기 위해 노력해야 합니다. 이들이 여러 번 구매하지 않는 이유는 다음과 같을 수 있습니다.\n",
        "         - 배송비가 비싸다.\n",
        "         - 원하는 상품이 없다.\n",
        "         - 상품 가격이 너무 비싸다.\n",
        "     - 이러한 점을 중점으로 전략을 수립하여 좋은 효과를 얻을 수 있을 것입니다.\n",
        "\n",
        "     - 성별, 연령, 시간대를 통해 이러한 요소들이 논파워유저의 구매자 특성에 큰 영향을 미치지 않는 것으로 보입니다. 따라서 이들 사용자들은 아직 29CM을 사용하는 데 큰 관심을 가지고 있지 않은 것으로 판단됩니다."
      ],
      "metadata": {
        "id": "hy6ruUos_sWi"
      }
    }
  ],
  "metadata": {
    "colab": {
      "provenance": [],
      "collapsed_sections": [
        "Pdg1hNKXpMi0",
        "SXAS1eiZB6OY",
        "zC7cC4baUYsd",
        "rFbCcWcxO0UK",
        "8Cr3bqcIHInC",
        "fFc9hGocsNVb",
        "OeEVdmLZkenQ",
        "lP486T48xvEf",
        "HAnWkb_u63j9",
        "HXQ0IpIwInx2",
        "EipZgnc5Mmqx",
        "cy6ub3xvNIx6",
        "1zhmJEMGMbPA",
        "vqzokvZeOvYp",
        "K7oE5guZNbWJ",
        "J3s5cYLAQBcW"
      ],
      "toc_visible": true,
      "authorship_tag": "ABX9TyOEXDn0kpjMWqCmtxxT4tk0",
      "include_colab_link": true
    },
    "kernelspec": {
      "display_name": "Python 3",
      "name": "python3"
    },
    "language_info": {
      "name": "python"
    }
  },
  "nbformat": 4,
  "nbformat_minor": 0
}